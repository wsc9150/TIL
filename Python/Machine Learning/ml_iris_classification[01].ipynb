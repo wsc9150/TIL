{
 "cells": [
  {
   "cell_type": "code",
   "execution_count": 1,
   "metadata": {},
   "outputs": [],
   "source": [
    "from sklearn.datasets import load_iris\n",
    "from sklearn.tree import DecisionTreeClassifier # 학습 모델 알고리즘 선택\n",
    "from sklearn.model_selection import train_test_split\n",
    "import pandas as pd\n",
    "import numpy as np"
   ]
  },
  {
   "cell_type": "code",
   "execution_count": 2,
   "metadata": {},
   "outputs": [
    {
     "name": "stdout",
     "output_type": "stream",
     "text": [
      "0.23.2\n"
     ]
    }
   ],
   "source": [
    "import sklearn\n",
    "print(sklearn.__version__)"
   ]
  },
  {
   "cell_type": "code",
   "execution_count": 3,
   "metadata": {},
   "outputs": [
    {
     "name": "stdout",
     "output_type": "stream",
     "text": [
      "<class 'sklearn.utils.Bunch'>\n"
     ]
    }
   ],
   "source": [
    "# 간단한 머신러닝 구현\n",
    "\n",
    "# 1. 데이터 로딩\n",
    "iris = load_iris()\n",
    "print(type(iris)) # 데이터프레임 형식이 아니다."
   ]
  },
  {
   "cell_type": "code",
   "execution_count": 4,
   "metadata": {},
   "outputs": [
    {
     "name": "stdout",
     "output_type": "stream",
     "text": [
      "dataset keys : dict_keys(['data', 'target', 'frame', 'target_names', 'DESCR', 'feature_names', 'filename'])\n"
     ]
    }
   ],
   "source": [
    "keys = iris.keys()\n",
    "print('dataset keys :', keys)"
   ]
  },
  {
   "cell_type": "code",
   "execution_count": 6,
   "metadata": {},
   "outputs": [],
   "source": [
    "# print('key data\\n', iris.data)\n",
    "# print('*' * 50)\n",
    "\n",
    "# print('key target\\n', iris.target) # 결과 데이터\n",
    "# print('*' * 50)\n",
    "\n",
    "# print('key target_names\\n', iris.target_names)\n",
    "# print('*' * 50)\n",
    "\n",
    "# print('key feature_names\\n', iris.feature_names)\n",
    "# print('*' * 50)\n",
    "\n",
    "# print('key DESCR\\n', iris.DESCR)\n",
    "# print('*' * 50)"
   ]
  },
  {
   "cell_type": "code",
   "execution_count": 7,
   "metadata": {},
   "outputs": [],
   "source": [
    "# feature 데이터셋 확인\n",
    "iris_data = iris.data\n",
    "# iris_data"
   ]
  },
  {
   "cell_type": "code",
   "execution_count": 8,
   "metadata": {},
   "outputs": [
    {
     "name": "stdout",
     "output_type": "stream",
     "text": [
      "[0 0 0 0 0 0 0 0 0 0 0 0 0 0 0 0 0 0 0 0 0 0 0 0 0 0 0 0 0 0 0 0 0 0 0 0 0\n",
      " 0 0 0 0 0 0 0 0 0 0 0 0 0 1 1 1 1 1 1 1 1 1 1 1 1 1 1 1 1 1 1 1 1 1 1 1 1\n",
      " 1 1 1 1 1 1 1 1 1 1 1 1 1 1 1 1 1 1 1 1 1 1 1 1 1 1 2 2 2 2 2 2 2 2 2 2 2\n",
      " 2 2 2 2 2 2 2 2 2 2 2 2 2 2 2 2 2 2 2 2 2 2 2 2 2 2 2 2 2 2 2 2 2 2 2 2 2\n",
      " 2 2]\n",
      "['setosa' 'versicolor' 'virginica']\n"
     ]
    }
   ],
   "source": [
    "# 레이블(결정값, target, class) 데이터셋 확인\n",
    "iris_label = iris.target\n",
    "print(iris_label)\n",
    "print(iris.target_names)"
   ]
  },
  {
   "cell_type": "code",
   "execution_count": 10,
   "metadata": {},
   "outputs": [
    {
     "data": {
      "text/html": [
       "<div>\n",
       "<style scoped>\n",
       "    .dataframe tbody tr th:only-of-type {\n",
       "        vertical-align: middle;\n",
       "    }\n",
       "\n",
       "    .dataframe tbody tr th {\n",
       "        vertical-align: top;\n",
       "    }\n",
       "\n",
       "    .dataframe thead th {\n",
       "        text-align: right;\n",
       "    }\n",
       "</style>\n",
       "<table border=\"1\" class=\"dataframe\">\n",
       "  <thead>\n",
       "    <tr style=\"text-align: right;\">\n",
       "      <th></th>\n",
       "      <th>sepal length (cm)</th>\n",
       "      <th>sepal width (cm)</th>\n",
       "      <th>petal length (cm)</th>\n",
       "      <th>petal width (cm)</th>\n",
       "      <th>target</th>\n",
       "    </tr>\n",
       "  </thead>\n",
       "  <tbody>\n",
       "    <tr>\n",
       "      <th>0</th>\n",
       "      <td>5.1</td>\n",
       "      <td>3.5</td>\n",
       "      <td>1.4</td>\n",
       "      <td>0.2</td>\n",
       "      <td>0</td>\n",
       "    </tr>\n",
       "    <tr>\n",
       "      <th>1</th>\n",
       "      <td>4.9</td>\n",
       "      <td>3.0</td>\n",
       "      <td>1.4</td>\n",
       "      <td>0.2</td>\n",
       "      <td>0</td>\n",
       "    </tr>\n",
       "    <tr>\n",
       "      <th>2</th>\n",
       "      <td>4.7</td>\n",
       "      <td>3.2</td>\n",
       "      <td>1.3</td>\n",
       "      <td>0.2</td>\n",
       "      <td>0</td>\n",
       "    </tr>\n",
       "    <tr>\n",
       "      <th>3</th>\n",
       "      <td>4.6</td>\n",
       "      <td>3.1</td>\n",
       "      <td>1.5</td>\n",
       "      <td>0.2</td>\n",
       "      <td>0</td>\n",
       "    </tr>\n",
       "    <tr>\n",
       "      <th>4</th>\n",
       "      <td>5.0</td>\n",
       "      <td>3.6</td>\n",
       "      <td>1.4</td>\n",
       "      <td>0.2</td>\n",
       "      <td>0</td>\n",
       "    </tr>\n",
       "  </tbody>\n",
       "</table>\n",
       "</div>"
      ],
      "text/plain": [
       "   sepal length (cm)  sepal width (cm)  petal length (cm)  petal width (cm)  \\\n",
       "0                5.1               3.5                1.4               0.2   \n",
       "1                4.9               3.0                1.4               0.2   \n",
       "2                4.7               3.2                1.3               0.2   \n",
       "3                4.6               3.1                1.5               0.2   \n",
       "4                5.0               3.6                1.4               0.2   \n",
       "\n",
       "   target  \n",
       "0       0  \n",
       "1       0  \n",
       "2       0  \n",
       "3       0  \n",
       "4       0  "
      ]
     },
     "execution_count": 10,
     "metadata": {},
     "output_type": "execute_result"
    }
   ],
   "source": [
    "# 데이터 프레임 변환\n",
    "iris_df = pd.DataFrame(\n",
    "    data = iris_data,\n",
    "    columns = iris.feature_names\n",
    ")\n",
    "\n",
    "iris_df['target'] = iris_label\n",
    "iris_df.head()"
   ]
  },
  {
   "cell_type": "code",
   "execution_count": 11,
   "metadata": {},
   "outputs": [],
   "source": [
    "# 학습 데이터, 테스트 데이터 분리\n",
    "# 튜플 형식 return -> unpacking\n",
    "X_train, X_test, y_train, y_test = train_test_split(iris_data, iris_label, test_size = 0.2, random_state = 20)\n",
    "\n",
    "# print('train data :\\n', X_train)\n",
    "# print('train label :\\n', y_train)\n",
    "# print('test data :\\n', X_test)\n",
    "# print('test label :\\n', y_test)"
   ]
  },
  {
   "cell_type": "code",
   "execution_count": 12,
   "metadata": {},
   "outputs": [
    {
     "data": {
      "text/plain": [
       "DecisionTreeClassifier(criterion='entropy', random_state=20)"
      ]
     },
     "execution_count": 12,
     "metadata": {},
     "output_type": "execute_result"
    }
   ],
   "source": [
    "# 학습을 위한 학습기 생성 - 알고리즘으로 이루어져있는 객체\n",
    "iris_dtc = DecisionTreeClassifier(random_state = 20, criterion = 'entropy')\n",
    "iris_dtc.fit(X_train, y_train)"
   ]
  },
  {
   "cell_type": "code",
   "execution_count": 13,
   "metadata": {},
   "outputs": [
    {
     "name": "stdout",
     "output_type": "stream",
     "text": [
      "y_test\n",
      " [0 1 1 2 1 1 2 0 2 0 2 1 2 0 0 2 0 1 2 1 1 2 2 0 1 1 1 0 2 2]\n",
      "prediction\n",
      " [0 1 1 2 1 1 2 0 2 0 2 1 1 0 0 2 0 1 2 1 1 2 2 0 1 1 1 0 2 1]\n"
     ]
    }
   ],
   "source": [
    "# 예측(Predict) 수행\n",
    "prediction = iris_dtc.predict(X_test)\n",
    "print('y_test\\n', y_test)\n",
    "print('prediction\\n', prediction)"
   ]
  },
  {
   "cell_type": "code",
   "execution_count": 14,
   "metadata": {},
   "outputs": [
    {
     "name": "stdout",
     "output_type": "stream",
     "text": [
      "예측 정확도 : 0.93\n"
     ]
    }
   ],
   "source": [
    "# 예측 정확도 평가\n",
    "from sklearn.metrics import accuracy_score\n",
    "print('예측 정확도 : {0:.2f}'.format(accuracy_score(y_test, prediction)))"
   ]
  },
  {
   "cell_type": "code",
   "execution_count": 15,
   "metadata": {},
   "outputs": [
    {
     "data": {
      "text/html": [
       "<div>\n",
       "<style scoped>\n",
       "    .dataframe tbody tr th:only-of-type {\n",
       "        vertical-align: middle;\n",
       "    }\n",
       "\n",
       "    .dataframe tbody tr th {\n",
       "        vertical-align: top;\n",
       "    }\n",
       "\n",
       "    .dataframe thead th {\n",
       "        text-align: right;\n",
       "    }\n",
       "</style>\n",
       "<table border=\"1\" class=\"dataframe\">\n",
       "  <thead>\n",
       "    <tr style=\"text-align: right;\">\n",
       "      <th></th>\n",
       "      <th>sepal length (cm)</th>\n",
       "      <th>sepal width (cm)</th>\n",
       "      <th>petal length (cm)</th>\n",
       "      <th>petal width (cm)</th>\n",
       "      <th>target</th>\n",
       "    </tr>\n",
       "  </thead>\n",
       "  <tbody>\n",
       "    <tr>\n",
       "      <th>0</th>\n",
       "      <td>5.1</td>\n",
       "      <td>3.5</td>\n",
       "      <td>1.4</td>\n",
       "      <td>0.2</td>\n",
       "      <td>0</td>\n",
       "    </tr>\n",
       "    <tr>\n",
       "      <th>1</th>\n",
       "      <td>4.9</td>\n",
       "      <td>3.0</td>\n",
       "      <td>1.4</td>\n",
       "      <td>0.2</td>\n",
       "      <td>0</td>\n",
       "    </tr>\n",
       "    <tr>\n",
       "      <th>2</th>\n",
       "      <td>4.7</td>\n",
       "      <td>3.2</td>\n",
       "      <td>1.3</td>\n",
       "      <td>0.2</td>\n",
       "      <td>0</td>\n",
       "    </tr>\n",
       "    <tr>\n",
       "      <th>3</th>\n",
       "      <td>4.6</td>\n",
       "      <td>3.1</td>\n",
       "      <td>1.5</td>\n",
       "      <td>0.2</td>\n",
       "      <td>0</td>\n",
       "    </tr>\n",
       "    <tr>\n",
       "      <th>4</th>\n",
       "      <td>5.0</td>\n",
       "      <td>3.6</td>\n",
       "      <td>1.4</td>\n",
       "      <td>0.2</td>\n",
       "      <td>0</td>\n",
       "    </tr>\n",
       "  </tbody>\n",
       "</table>\n",
       "</div>"
      ],
      "text/plain": [
       "   sepal length (cm)  sepal width (cm)  petal length (cm)  petal width (cm)  \\\n",
       "0                5.1               3.5                1.4               0.2   \n",
       "1                4.9               3.0                1.4               0.2   \n",
       "2                4.7               3.2                1.3               0.2   \n",
       "3                4.6               3.1                1.5               0.2   \n",
       "4                5.0               3.6                1.4               0.2   \n",
       "\n",
       "   target  \n",
       "0       0  \n",
       "1       0  \n",
       "2       0  \n",
       "3       0  \n",
       "4       0  "
      ]
     },
     "execution_count": 15,
     "metadata": {},
     "output_type": "execute_result"
    }
   ],
   "source": [
    "# 데이터 프레임 변환\n",
    "iris_df = pd.DataFrame(\n",
    "    data = iris_data,\n",
    "    columns = iris.feature_names\n",
    ")\n",
    "\n",
    "iris_df['target'] = iris_label\n",
    "iris_df.head()"
   ]
  },
  {
   "cell_type": "code",
   "execution_count": 16,
   "metadata": {},
   "outputs": [
    {
     "data": {
      "text/html": [
       "<div>\n",
       "<style scoped>\n",
       "    .dataframe tbody tr th:only-of-type {\n",
       "        vertical-align: middle;\n",
       "    }\n",
       "\n",
       "    .dataframe tbody tr th {\n",
       "        vertical-align: top;\n",
       "    }\n",
       "\n",
       "    .dataframe thead th {\n",
       "        text-align: right;\n",
       "    }\n",
       "</style>\n",
       "<table border=\"1\" class=\"dataframe\">\n",
       "  <thead>\n",
       "    <tr style=\"text-align: right;\">\n",
       "      <th></th>\n",
       "      <th>sepal length (cm)</th>\n",
       "      <th>sepal width (cm)</th>\n",
       "      <th>petal length (cm)</th>\n",
       "      <th>petal width (cm)</th>\n",
       "    </tr>\n",
       "  </thead>\n",
       "  <tbody>\n",
       "    <tr>\n",
       "      <th>0</th>\n",
       "      <td>5.1</td>\n",
       "      <td>3.5</td>\n",
       "      <td>1.4</td>\n",
       "      <td>0.2</td>\n",
       "    </tr>\n",
       "    <tr>\n",
       "      <th>1</th>\n",
       "      <td>4.9</td>\n",
       "      <td>3.0</td>\n",
       "      <td>1.4</td>\n",
       "      <td>0.2</td>\n",
       "    </tr>\n",
       "    <tr>\n",
       "      <th>2</th>\n",
       "      <td>4.7</td>\n",
       "      <td>3.2</td>\n",
       "      <td>1.3</td>\n",
       "      <td>0.2</td>\n",
       "    </tr>\n",
       "    <tr>\n",
       "      <th>3</th>\n",
       "      <td>4.6</td>\n",
       "      <td>3.1</td>\n",
       "      <td>1.5</td>\n",
       "      <td>0.2</td>\n",
       "    </tr>\n",
       "    <tr>\n",
       "      <th>4</th>\n",
       "      <td>5.0</td>\n",
       "      <td>3.6</td>\n",
       "      <td>1.4</td>\n",
       "      <td>0.2</td>\n",
       "    </tr>\n",
       "  </tbody>\n",
       "</table>\n",
       "</div>"
      ],
      "text/plain": [
       "   sepal length (cm)  sepal width (cm)  petal length (cm)  petal width (cm)\n",
       "0                5.1               3.5                1.4               0.2\n",
       "1                4.9               3.0                1.4               0.2\n",
       "2                4.7               3.2                1.3               0.2\n",
       "3                4.6               3.1                1.5               0.2\n",
       "4                5.0               3.6                1.4               0.2"
      ]
     },
     "metadata": {},
     "output_type": "display_data"
    },
    {
     "data": {
      "text/plain": [
       "0    0\n",
       "1    0\n",
       "2    0\n",
       "3    0\n",
       "4    0\n",
       "Name: target, dtype: int32"
      ]
     },
     "metadata": {},
     "output_type": "display_data"
    }
   ],
   "source": [
    "# 데이터 프레임 형식을 나누는 방법\n",
    "feature_df = iris_df.iloc[:, : -1]\n",
    "display(feature_df.head())\n",
    "\n",
    "label_df = iris_df.iloc[:, -1]\n",
    "display(label_df.head())"
   ]
  },
  {
   "cell_type": "code",
   "execution_count": 20,
   "metadata": {},
   "outputs": [
    {
     "name": "stdout",
     "output_type": "stream",
     "text": [
      "<class 'pandas.core.frame.DataFrame'> <class 'pandas.core.frame.DataFrame'> <class 'pandas.core.series.Series'> <class 'pandas.core.series.Series'>\n"
     ]
    }
   ],
   "source": [
    "# 학습 데이터, 테스트 데이터 분리\n",
    "# 튜플 형식 return -> unpacking\n",
    "X_train, X_test, y_train, y_test = train_test_split(feature_df, label_df, test_size = 0.2, random_state = 11)\n",
    "# print('train data :\\n', X_train)\n",
    "# print('train label :\\n', y_train)\n",
    "# print('*' * 50)\n",
    "\n",
    "# print('test data :\\n', X_test)\n",
    "# print('test label :\\n', y_test)\n",
    "print(type(X_train), type(X_test), type(y_train), type(y_test))"
   ]
  },
  {
   "cell_type": "code",
   "execution_count": 21,
   "metadata": {},
   "outputs": [
    {
     "name": "stdout",
     "output_type": "stream",
     "text": [
      "예측 정확도 : 0.90\n"
     ]
    }
   ],
   "source": [
    "# 학습을 위한 학습기 생성 - 알고리즘으로 이루어져있는 객체\n",
    "iris_dtc = DecisionTreeClassifier(random_state = 20, criterion = 'entropy') # random_state : random의 seed와 비슷한 의미\n",
    "iris_dtc.fit(X_train, y_train)\n",
    "\n",
    "# 예측(Predict) 수행\n",
    "prediction = iris_dtc.predict(X_test)\n",
    "\n",
    "# 예측 정확도 평가\n",
    "from sklearn.metrics import accuracy_score\n",
    "print('예측 정확도 : {0:.2f}'.format(accuracy_score(y_test, prediction)))"
   ]
  },
  {
   "cell_type": "code",
   "execution_count": 22,
   "metadata": {},
   "outputs": [
    {
     "name": "stdout",
     "output_type": "stream",
     "text": [
      "예측 정확도 : 1.0\n"
     ]
    }
   ],
   "source": [
    "# 학습을 시킬 때 테스트 데이터 세트를 이용하지 않고 학습 데이터 세트로만 학습하고 예측\n",
    "# 과적합 발생\n",
    "from sklearn.datasets import load_iris\n",
    "from sklearn.tree import DecisionTreeClassifier # 학습 모델 알고리즘 선택\n",
    "from sklearn.model_selection import train_test_split\n",
    "import pandas as pd\n",
    "import numpy as np\n",
    "\n",
    "bad_iris = load_iris()\n",
    "\n",
    "# 데이터 세트 분할없이 얻어오기\n",
    "train_data = iris.data\n",
    "train_label = iris.target\n",
    "\n",
    "# 학습을 위한 분류모델\n",
    "bad_iris_clf = DecisionTreeClassifier()\n",
    "bad_iris_clf.fit(train_data, train_label)\n",
    "\n",
    "# 잘못된 예측\n",
    "pred = bad_iris_clf.predict(train_data)\n",
    "print('예측 정확도 :', accuracy_score(train_label, pred))"
   ]
  },
  {
   "cell_type": "code",
   "execution_count": 23,
   "metadata": {},
   "outputs": [],
   "source": [
    "# 교차 검증 (Cross Validation)\n",
    "# 학습 데이터에서 다시 학습 데이터와 검증 데이터로 나누어 검증하는 작업\n",
    "# K-fold\n",
    "from sklearn.datasets import load_iris\n",
    "from sklearn.tree import DecisionTreeClassifier # 학습 모델 알고리즘 선택\n",
    "from sklearn.model_selection import train_test_split\n",
    "\n",
    "from sklearn.model_selection import KFold\n",
    "\n",
    "import pandas as pd\n",
    "import numpy as np"
   ]
  },
  {
   "cell_type": "code",
   "execution_count": 24,
   "metadata": {},
   "outputs": [],
   "source": [
    "fold_iris = load_iris()\n",
    "features = fold_iris.data\n",
    "# print(features)\n",
    "\n",
    "label = fold_iris.target\n",
    "# print(label)\n",
    "\n",
    "fold_df_clf = DecisionTreeClassifier()"
   ]
  },
  {
   "cell_type": "code",
   "execution_count": 25,
   "metadata": {},
   "outputs": [
    {
     "name": "stdout",
     "output_type": "stream",
     "text": [
      "iris shape : 150\n"
     ]
    }
   ],
   "source": [
    "# 5개의 폴드 세트를 분리하여 각 폴드 세트별 정확도를 담을 리스트 생성\n",
    "kfold = KFold(n_splits = 5)\n",
    "cv_accuracy = []\n",
    "print('iris shape :', features.shape[0])"
   ]
  },
  {
   "cell_type": "code",
   "execution_count": 26,
   "metadata": {},
   "outputs": [
    {
     "name": "stdout",
     "output_type": "stream",
     "text": [
      "\n",
      "1 교차검증 정확도 : 1.0, 학습 데이터 크기 : 120, 검증데이터 크기 : 30\n",
      "\n",
      "2 교차검증 정확도 : 1.0, 학습 데이터 크기 : 120, 검증데이터 크기 : 30\n",
      "\n",
      "3 교차검증 정확도 : 0.9, 학습 데이터 크기 : 120, 검증데이터 크기 : 30\n",
      "\n",
      "4 교차검증 정확도 : 0.9333, 학습 데이터 크기 : 120, 검증데이터 크기 : 30\n",
      "\n",
      "5 교차검증 정확도 : 0.7333, 학습 데이터 크기 : 120, 검증데이터 크기 : 30\n",
      "\n",
      "평균검증 정확도 : 0.91332\n"
     ]
    }
   ],
   "source": [
    "n_iter = 0\n",
    "\n",
    "for train_idx, test_idx in kfold.split(features) :\n",
    "    # print(train_idx, test_idx)\n",
    "    \n",
    "    X_train, X_test = features[train_idx], features[test_idx]\n",
    "    # print('X_train\\n', X_train)\n",
    "    # print('X_test\\n', X_test)\n",
    "    \n",
    "    y_train, y_test = label[train_idx], label[test_idx]\n",
    "    # print('y_train\\n', y_train)\n",
    "    # print('y_test\\n', y_test)\n",
    "    \n",
    "    # 학습 진행\n",
    "    fold_df_clf.fit(X_train, y_train)\n",
    "    \n",
    "    # 예측\n",
    "    fold_pred = fold_df_clf.predict(X_test)\n",
    "    \n",
    "    # 정확도 측정\n",
    "    n_iter += 1\n",
    "    accuracy = np.round(accuracy_score(y_test, fold_pred), 4)\n",
    "    print('\\n{} 교차검증 정확도 : {}, 학습 데이터 크기 : {}, 검증데이터 크기 : {}'.format(n_iter, accuracy, len(X_train), len(X_test)))\n",
    "    \n",
    "    cv_accuracy.append(accuracy)\n",
    "\n",
    "# 평균을 구함으로써 모델을 최종적으로 검증한다.\n",
    "print('\\n평균검증 정확도 :', np.mean(cv_accuracy))"
   ]
  },
  {
   "cell_type": "code",
   "execution_count": 27,
   "metadata": {},
   "outputs": [
    {
     "name": "stdout",
     "output_type": "stream",
     "text": [
      "value_counts\n",
      "2    50\n",
      "1    50\n",
      "0    50\n",
      "Name: target, dtype: int64\n"
     ]
    }
   ],
   "source": [
    "# Stratified KFold\n",
    "# 불균형한 분포도를 가진 레이블 데이터 집합을 생성하기 위한 KFold 방식\n",
    "# 레이블의 분포도를 먼저 고려한 뒤 이 분포와 동일하게 학습과 검증 데이터 세트로 분할\n",
    "\n",
    "# 기존 KFold의 문제점 확인\n",
    "kfold_iris_data = load_iris()\n",
    "# print('data\\n\\n', kfold_iris_data)\n",
    "\n",
    "kfold_iris_data_df = pd.DataFrame(data = kfold_iris_data.data, columns = kfold_iris_data.feature_names)\n",
    "kfold_iris_data_df['target'] = kfold_iris_data.target\n",
    "print('value_counts')\n",
    "print(kfold_iris_data_df['target'].value_counts())"
   ]
  },
  {
   "cell_type": "code",
   "execution_count": 28,
   "metadata": {},
   "outputs": [
    {
     "data": {
      "text/html": [
       "<div>\n",
       "<style scoped>\n",
       "    .dataframe tbody tr th:only-of-type {\n",
       "        vertical-align: middle;\n",
       "    }\n",
       "\n",
       "    .dataframe tbody tr th {\n",
       "        vertical-align: top;\n",
       "    }\n",
       "\n",
       "    .dataframe thead th {\n",
       "        text-align: right;\n",
       "    }\n",
       "</style>\n",
       "<table border=\"1\" class=\"dataframe\">\n",
       "  <thead>\n",
       "    <tr style=\"text-align: right;\">\n",
       "      <th></th>\n",
       "      <th>sepal length (cm)</th>\n",
       "      <th>sepal width (cm)</th>\n",
       "      <th>petal length (cm)</th>\n",
       "      <th>petal width (cm)</th>\n",
       "      <th>target</th>\n",
       "    </tr>\n",
       "  </thead>\n",
       "  <tbody>\n",
       "    <tr>\n",
       "      <th>0</th>\n",
       "      <td>5.1</td>\n",
       "      <td>3.5</td>\n",
       "      <td>1.4</td>\n",
       "      <td>0.2</td>\n",
       "      <td>0</td>\n",
       "    </tr>\n",
       "    <tr>\n",
       "      <th>1</th>\n",
       "      <td>4.9</td>\n",
       "      <td>3.0</td>\n",
       "      <td>1.4</td>\n",
       "      <td>0.2</td>\n",
       "      <td>0</td>\n",
       "    </tr>\n",
       "    <tr>\n",
       "      <th>2</th>\n",
       "      <td>4.7</td>\n",
       "      <td>3.2</td>\n",
       "      <td>1.3</td>\n",
       "      <td>0.2</td>\n",
       "      <td>0</td>\n",
       "    </tr>\n",
       "    <tr>\n",
       "      <th>3</th>\n",
       "      <td>4.6</td>\n",
       "      <td>3.1</td>\n",
       "      <td>1.5</td>\n",
       "      <td>0.2</td>\n",
       "      <td>0</td>\n",
       "    </tr>\n",
       "    <tr>\n",
       "      <th>4</th>\n",
       "      <td>5.0</td>\n",
       "      <td>3.6</td>\n",
       "      <td>1.4</td>\n",
       "      <td>0.2</td>\n",
       "      <td>0</td>\n",
       "    </tr>\n",
       "  </tbody>\n",
       "</table>\n",
       "</div>"
      ],
      "text/plain": [
       "   sepal length (cm)  sepal width (cm)  petal length (cm)  petal width (cm)  \\\n",
       "0                5.1               3.5                1.4               0.2   \n",
       "1                4.9               3.0                1.4               0.2   \n",
       "2                4.7               3.2                1.3               0.2   \n",
       "3                4.6               3.1                1.5               0.2   \n",
       "4                5.0               3.6                1.4               0.2   \n",
       "\n",
       "   target  \n",
       "0       0  \n",
       "1       0  \n",
       "2       0  \n",
       "3       0  \n",
       "4       0  "
      ]
     },
     "execution_count": 28,
     "metadata": {},
     "output_type": "execute_result"
    }
   ],
   "source": [
    "kfold_iris_data_df.head()"
   ]
  },
  {
   "cell_type": "code",
   "execution_count": 29,
   "metadata": {},
   "outputs": [
    {
     "name": "stdout",
     "output_type": "stream",
     "text": [
      "교차검증 : 1\n",
      "학습 레이블 데이터 분포\n",
      "2    50\n",
      "1    50\n",
      "Name: target, dtype: int64\n",
      "검증 레이블 데이터 분포\n",
      "0    50\n",
      "Name: target, dtype: int64\n",
      "**************************************************\n",
      "교차검증 : 2\n",
      "학습 레이블 데이터 분포\n",
      "2    50\n",
      "0    50\n",
      "Name: target, dtype: int64\n",
      "검증 레이블 데이터 분포\n",
      "1    50\n",
      "Name: target, dtype: int64\n",
      "**************************************************\n",
      "교차검증 : 3\n",
      "학습 레이블 데이터 분포\n",
      "1    50\n",
      "0    50\n",
      "Name: target, dtype: int64\n",
      "검증 레이블 데이터 분포\n",
      "2    50\n",
      "Name: target, dtype: int64\n",
      "**************************************************\n"
     ]
    }
   ],
   "source": [
    "kfold_iris = KFold(n_splits = 3)\n",
    "cnt_iter = 0\n",
    "\n",
    "for train_idx, test_idx in kfold_iris.split(kfold_iris_data_df) :\n",
    "    # print(train_idx, test_idx)\n",
    "    \n",
    "    cnt_iter += 1\n",
    "    label_train = kfold_iris_data_df['target'].iloc[train_idx]\n",
    "    label_test = kfold_iris_data_df['target'].iloc[test_idx]\n",
    "    # print('label_train')\n",
    "    # print(label_train)\n",
    "    \n",
    "    # 출력을 해보면 전체 레이블이 골고루 나누어지지 않는다.\n",
    "    print('교차검증 : {}'.format(cnt_iter))\n",
    "    print('학습 레이블 데이터 분포')\n",
    "    print(label_train.value_counts())\n",
    "    print('검증 레이블 데이터 분포')\n",
    "    print(label_test.value_counts())\n",
    "    print('*' * 50)"
   ]
  },
  {
   "cell_type": "code",
   "execution_count": 30,
   "metadata": {},
   "outputs": [],
   "source": [
    "# 레이블 값의 분포를 반영하지 못하는 문제를 해결하기 위해\n",
    "# stratifiedKFold 이용\n",
    "from sklearn.model_selection import StratifiedKFold"
   ]
  },
  {
   "cell_type": "code",
   "execution_count": 31,
   "metadata": {},
   "outputs": [
    {
     "name": "stdout",
     "output_type": "stream",
     "text": [
      "교차검증 : 1\n",
      "학습 레이블 데이터 분포\n",
      "2    34\n",
      "1    33\n",
      "0    33\n",
      "Name: target, dtype: int64\n",
      "검증 레이블 데이터 분포\n",
      "1    17\n",
      "0    17\n",
      "2    16\n",
      "Name: target, dtype: int64\n",
      "**************************************************\n",
      "교차검증 : 2\n",
      "학습 레이블 데이터 분포\n",
      "1    34\n",
      "2    33\n",
      "0    33\n",
      "Name: target, dtype: int64\n",
      "검증 레이블 데이터 분포\n",
      "2    17\n",
      "0    17\n",
      "1    16\n",
      "Name: target, dtype: int64\n",
      "**************************************************\n",
      "교차검증 : 3\n",
      "학습 레이블 데이터 분포\n",
      "0    34\n",
      "2    33\n",
      "1    33\n",
      "Name: target, dtype: int64\n",
      "검증 레이블 데이터 분포\n",
      "2    17\n",
      "1    17\n",
      "0    16\n",
      "Name: target, dtype: int64\n",
      "**************************************************\n"
     ]
    }
   ],
   "source": [
    "skf_iris = StratifiedKFold(n_splits = 3)\n",
    "cnt_iter = 0\n",
    "\n",
    "for train_idx, test_idx in skf_iris.split(kfold_iris_data_df, kfold_iris_data_df['target']) :\n",
    "    # print(train_idx, test_idx)\n",
    "    \n",
    "    cnt_iter += 1\n",
    "    label_train = kfold_iris_data_df['target'].iloc[train_idx]\n",
    "    label_test = kfold_iris_data_df['target'].iloc[test_idx]\n",
    "    # print('label_train')\n",
    "    # print(label_train)\n",
    "    \n",
    "    # 출력을 해보면 전체 레이블이 골고루 나누어지지 않는다.\n",
    "    print('교차검증 : {}'.format(cnt_iter))\n",
    "    print('학습 레이블 데이터 분포')\n",
    "    print(label_train.value_counts())\n",
    "    print('검증 레이블 데이터 분포')\n",
    "    print(label_test.value_counts())\n",
    "    print('*' * 50)"
   ]
  },
  {
   "cell_type": "code",
   "execution_count": 32,
   "metadata": {},
   "outputs": [],
   "source": [
    "# 붓꽃 데이터셋에서 StratifiedKFold 를 이용하여 교차검증(3)을 진행하고 평균정확도 확인\n",
    "# random_state = 100\n",
    "# StratifiedKFold는 분류에서만 사용 가능\n",
    "\n",
    "result_iris = load_iris()\n",
    "result_features = result_iris.data\n",
    "result_label = result_iris.target\n",
    "\n",
    "# 학습기 생성\n",
    "result_clf = DecisionTreeClassifier(random_state = 100)"
   ]
  },
  {
   "cell_type": "code",
   "execution_count": 36,
   "metadata": {},
   "outputs": [
    {
     "name": "stdout",
     "output_type": "stream",
     "text": [
      "\n",
      "#1 교차 검증 정확도 : 0.98, 학습 데이터 크기 : 100, 검증 데이터 크기 : 50\n",
      "\n",
      "#1 검증 세트 인덱스 : [  0   1   2   3   4   5   6   7   8   9  10  11  12  13  14  15  16  50\n",
      "  51  52  53  54  55  56  57  58  59  60  61  62  63  64  65  66 100 101\n",
      " 102 103 104 105 106 107 108 109 110 111 112 113 114 115]\n",
      "\n",
      "#2 교차 검증 정확도 : 0.92, 학습 데이터 크기 : 100, 검증 데이터 크기 : 50\n",
      "\n",
      "#2 검증 세트 인덱스 : [ 17  18  19  20  21  22  23  24  25  26  27  28  29  30  31  32  33  67\n",
      "  68  69  70  71  72  73  74  75  76  77  78  79  80  81  82 116 117 118\n",
      " 119 120 121 122 123 124 125 126 127 128 129 130 131 132]\n",
      "\n",
      "#3 교차 검증 정확도 : 0.96, 학습 데이터 크기 : 100, 검증 데이터 크기 : 50\n",
      "\n",
      "#3 검증 세트 인덱스 : [ 34  35  36  37  38  39  40  41  42  43  44  45  46  47  48  49  83  84\n",
      "  85  86  87  88  89  90  91  92  93  94  95  96  97  98  99 133 134 135\n",
      " 136 137 138 139 140 141 142 143 144 145 146 147 148 149]\n"
     ]
    }
   ],
   "source": [
    "result_skfold = StratifiedKFold(n_splits = 3)\n",
    "idx_iter = 0\n",
    "cv_accuracy = []\n",
    "\n",
    "for train_index, test_index in result_skfold.split(result_features, result_label) :\n",
    "    # split()으로 반환된 인덱스를 이용하여 학습용, 검증용 데스트 데이터 추출\n",
    "    X_train, X_test = features[train_index], features[test_index]\n",
    "    y_train, y_test = label[train_index], label[test_index]\n",
    "    \n",
    "    # 학습 및 예측\n",
    "    result_clf.fit(X_train, y_train)\n",
    "    pred = result_clf.predict(X_test)\n",
    "    \n",
    "    # 반복마다 정확도 측정\n",
    "    idx_iter += 1\n",
    "    accuracy = np.round(accuracy_score(y_test, pred), 4)\n",
    "    train_size = X_train.shape[0]\n",
    "    test_size = X_test.shape[0]\n",
    "    \n",
    "    print('\\n#{} 교차 검증 정확도 : {}, 학습 데이터 크기 : {}, 검증 데이터 크기 : {}'.format(idx_iter, accuracy, train_size, test_size))\n",
    "    print('\\n#{} 검증 세트 인덱스 : {}'.format(idx_iter, test_index))\n",
    "    cv_accuracy.append(accuracy)"
   ]
  },
  {
   "cell_type": "code",
   "execution_count": 37,
   "metadata": {},
   "outputs": [
    {
     "name": "stdout",
     "output_type": "stream",
     "text": [
      "## 교차 검증별 정확도 : [0.98 0.92 0.96]\n",
      "## 평균 검증 정확도 : 0.9533333333333333\n"
     ]
    }
   ],
   "source": [
    "# 교차 검증별 정확도 및 평균 정확도 계산\n",
    "print('## 교차 검증별 정확도 :', np.round(cv_accuracy, 4))\n",
    "print('## 평균 검증 정확도 :', np.mean(cv_accuracy))"
   ]
  }
 ],
 "metadata": {
  "kernelspec": {
   "display_name": "Python 3",
   "language": "python",
   "name": "python3"
  },
  "language_info": {
   "codemirror_mode": {
    "name": "ipython",
    "version": 3
   },
   "file_extension": ".py",
   "mimetype": "text/x-python",
   "name": "python",
   "nbconvert_exporter": "python",
   "pygments_lexer": "ipython3",
   "version": "3.6.5"
  }
 },
 "nbformat": 4,
 "nbformat_minor": 2
}
