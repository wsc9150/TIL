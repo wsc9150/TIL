{
 "cells": [
  {
   "cell_type": "markdown",
   "metadata": {},
   "source": [
    "# Numpy\n",
    "\n",
    "- 배열과 리스트의 차이점\n",
    "- 배열 생성 및 다루는 기법\n",
    "- 기술 통계\n",
    "- 결과에 대한 분석하는 방법"
   ]
  },
  {
   "cell_type": "markdown",
   "metadata": {},
   "source": [
    "- numpy의 배열은 모든 원소가 같은 자료형이어야 한다.\n",
    "- resizing 불가능"
   ]
  },
  {
   "cell_type": "markdown",
   "metadata": {},
   "source": [
    "- Vector : 1차원 배열 -> pandas : Series\n",
    "- Matrix : 2차원 행렬 -> pandas : DataFrame"
   ]
  },
  {
   "cell_type": "markdown",
   "metadata": {},
   "source": [
    "- 선형대수 (행렬을 이용한 연산 가능)"
   ]
  },
  {
   "cell_type": "code",
   "execution_count": 1,
   "metadata": {},
   "outputs": [],
   "source": [
    "import numpy as np"
   ]
  },
  {
   "cell_type": "code",
   "execution_count": 17,
   "metadata": {},
   "outputs": [],
   "source": [
    "# 배열의 차원과 크기, 타입\n",
    "# ndim, shape, dtype\n",
    "\n",
    "def arrInfo(arr) :\n",
    "    print('type : {}'.format(type(arr)))\n",
    "    print('shape : {}'.format(arr.shape))\n",
    "    print('dimension : {}'.format(arr.ndim))\n",
    "    print('dtype : {}'.format(arr.dtype))\n",
    "    print('Array Data : \\n', arr)"
   ]
  },
  {
   "cell_type": "markdown",
   "metadata": {},
   "source": [
    "### 1차원 배열 생성\n",
    "- array()"
   ]
  },
  {
   "cell_type": "code",
   "execution_count": 6,
   "metadata": {},
   "outputs": [
    {
     "name": "stdout",
     "output_type": "stream",
     "text": [
      "type : <class 'numpy.ndarray'>\n",
      "shape : (10,)\n",
      "dimension : 1\n",
      "dtype : int32\n",
      "Array Data : \n",
      " [0 1 2 3 4 5 6 7 8 9]\n"
     ]
    }
   ],
   "source": [
    "oneArr = np.array([0, 1, 2, 3, 4, 5, 6, 7, 8, 9])\n",
    "arrInfo(oneArr)"
   ]
  },
  {
   "cell_type": "code",
   "execution_count": 7,
   "metadata": {},
   "outputs": [
    {
     "data": {
      "text/plain": [
       "[0, 1, 2, 3, 4, 5, 6, 7, 8, 9, 0, 1, 2, 3, 4, 5, 6, 7, 8, 9]"
      ]
     },
     "execution_count": 7,
     "metadata": {},
     "output_type": "execute_result"
    }
   ],
   "source": [
    "# List vs Array (Vector operation)\n",
    "\n",
    "# List\n",
    "# 각 항목에 각각 2를 곱해서 나타내고 싶은 경우\n",
    "data = [0, 1, 2, 3, 4, 5, 6, 7, 8, 9]\n",
    "data * 2"
   ]
  },
  {
   "cell_type": "code",
   "execution_count": 8,
   "metadata": {},
   "outputs": [
    {
     "data": {
      "text/plain": [
       "[0, 2, 4, 6, 8, 10, 12, 14, 16, 18]"
      ]
     },
     "execution_count": 8,
     "metadata": {},
     "output_type": "execute_result"
    }
   ],
   "source": [
    "# python 문법을 사용하여 직접 계산해야 한다.\n",
    "result = []\n",
    "for d in data :\n",
    "    result.append(d * 2)\n",
    "\n",
    "result"
   ]
  },
  {
   "cell_type": "code",
   "execution_count": 9,
   "metadata": {},
   "outputs": [
    {
     "data": {
      "text/plain": [
       "[0, 2, 4, 6, 8, 10, 12, 14, 16, 18]"
      ]
     },
     "execution_count": 9,
     "metadata": {},
     "output_type": "execute_result"
    }
   ],
   "source": [
    "result2 = [d * 2 for d in data]\n",
    "result2"
   ]
  },
  {
   "cell_type": "code",
   "execution_count": 10,
   "metadata": {},
   "outputs": [
    {
     "data": {
      "text/plain": [
       "array([ 0,  2,  4,  6,  8, 10, 12, 14, 16, 18])"
      ]
     },
     "execution_count": 10,
     "metadata": {},
     "output_type": "execute_result"
    }
   ],
   "source": [
    "# Array\n",
    "# numpy 의 경우 바로 계산 가능\n",
    "result3 = oneArr * 2\n",
    "result3"
   ]
  },
  {
   "cell_type": "code",
   "execution_count": 11,
   "metadata": {},
   "outputs": [],
   "source": [
    "# 벡터 연산은 비교, 산술, 논리 연산을 포함하는 모든 수학연산이 적용된다.\n",
    "\n",
    "xArr = np.array([1, 2, 3])\n",
    "yArr = np.array([10, 20, 30])"
   ]
  },
  {
   "cell_type": "code",
   "execution_count": 13,
   "metadata": {},
   "outputs": [
    {
     "data": {
      "text/plain": [
       "array([12, 24, 36])"
      ]
     },
     "execution_count": 13,
     "metadata": {},
     "output_type": "execute_result"
    }
   ],
   "source": [
    "# 연산자 우선순위\n",
    "2 * xArr + yArr"
   ]
  },
  {
   "cell_type": "code",
   "execution_count": 14,
   "metadata": {},
   "outputs": [
    {
     "data": {
      "text/plain": [
       "array([False,  True, False])"
      ]
     },
     "execution_count": 14,
     "metadata": {},
     "output_type": "execute_result"
    }
   ],
   "source": [
    "xArr == 2"
   ]
  },
  {
   "cell_type": "code",
   "execution_count": 15,
   "metadata": {},
   "outputs": [
    {
     "data": {
      "text/plain": [
       "array([False, False,  True])"
      ]
     },
     "execution_count": 15,
     "metadata": {},
     "output_type": "execute_result"
    }
   ],
   "source": [
    "yArr > 20"
   ]
  },
  {
   "cell_type": "code",
   "execution_count": 16,
   "metadata": {},
   "outputs": [
    {
     "data": {
      "text/plain": [
       "array([False, False, False])"
      ]
     },
     "execution_count": 16,
     "metadata": {},
     "output_type": "execute_result"
    }
   ],
   "source": [
    "(xArr == 2) & (yArr > 20)"
   ]
  },
  {
   "cell_type": "markdown",
   "metadata": {},
   "source": [
    "### 2차원 배열 생성\n",
    "- ndarray(N-dimensional Array)\n",
    "- 2차원, 3차원 (다차원 배열 자료구조)\n",
    "- 2차원 배열은 행렬 (Matrix)\n",
    "- list of list\n",
    "- list of list of list (3차원)"
   ]
  },
  {
   "cell_type": "code",
   "execution_count": 41,
   "metadata": {},
   "outputs": [
    {
     "name": "stdout",
     "output_type": "stream",
     "text": [
      "type : <class 'numpy.ndarray'>\n",
      "shape : (2, 3)\n",
      "dimension : 2\n",
      "dtype : int32\n",
      "Array Data : \n",
      " [[1 2 3]\n",
      " [4 5 6]]\n"
     ]
    }
   ],
   "source": [
    "twoArr = np.array([[1, 2, 3], [4, 5, 6]])\n",
    "arrInfo(twoArr)"
   ]
  },
  {
   "cell_type": "code",
   "execution_count": 22,
   "metadata": {},
   "outputs": [
    {
     "name": "stdout",
     "output_type": "stream",
     "text": [
      "2\n",
      "3\n",
      "3\n"
     ]
    }
   ],
   "source": [
    "# 행의 개수, 열의 개수\n",
    "print(len(twoArr))\n",
    "print(len(twoArr[0]))\n",
    "print(len(twoArr[1]))"
   ]
  },
  {
   "cell_type": "code",
   "execution_count": 25,
   "metadata": {},
   "outputs": [
    {
     "name": "stdout",
     "output_type": "stream",
     "text": [
      "type : <class 'numpy.ndarray'>\n",
      "shape : (2, 3)\n",
      "dimension : 2\n",
      "dtype : float64\n",
      "Array Data : \n",
      " [[1. 2. 3.]\n",
      " [4. 5. 6.]]\n",
      "\n",
      "type : <class 'numpy.ndarray'>\n",
      "shape : (2, 3)\n",
      "dimension : 2\n",
      "dtype : <U11\n",
      "Array Data : \n",
      " [['1' '2' '3']\n",
      " ['4' '5' '6']]\n"
     ]
    }
   ],
   "source": [
    "# 배열 생성시 자료형의 변환 가능\n",
    "twoArr = np.array([[1, 2, 3], [4, 5, 6]], dtype = np.float64)\n",
    "arrInfo(twoArr)\n",
    "print()\n",
    "\n",
    "# <U11 : 문자열 자료형\n",
    "twoArr = np.array([[1, 2, 3], [4, 5, '6']])\n",
    "arrInfo(twoArr)"
   ]
  },
  {
   "cell_type": "markdown",
   "metadata": {},
   "source": [
    "### 3차원 배열 생성"
   ]
  },
  {
   "cell_type": "code",
   "execution_count": 26,
   "metadata": {},
   "outputs": [
    {
     "name": "stdout",
     "output_type": "stream",
     "text": [
      "type : <class 'numpy.ndarray'>\n",
      "shape : (2, 3, 4)\n",
      "dimension : 3\n",
      "dtype : int32\n",
      "Array Data : \n",
      " [[[ 1  2  3  4]\n",
      "  [ 5  6  7  8]\n",
      "  [ 9 10 11 12]]\n",
      "\n",
      " [[ 1  2  3  4]\n",
      "  [ 5  6  7  8]\n",
      "  [ 9 10 11 12]]]\n"
     ]
    }
   ],
   "source": [
    "# 2 3 4\n",
    "threeArr = np.array([[[1, 2, 3, 4], [5, 6, 7, 8], [9, 10, 11, 12]], [[1, 2, 3, 4], [5, 6, 7, 8], [9, 10, 11, 12]]])\n",
    "arrInfo(threeArr)"
   ]
  },
  {
   "cell_type": "code",
   "execution_count": 35,
   "metadata": {},
   "outputs": [
    {
     "name": "stdout",
     "output_type": "stream",
     "text": [
      "dept 2\n",
      "row 3\n",
      "col 4\n"
     ]
    }
   ],
   "source": [
    "print('dept', len(threeArr))\n",
    "print('row', len(threeArr[0]))\n",
    "print('col', len(threeArr[0][2]))"
   ]
  },
  {
   "cell_type": "code",
   "execution_count": 36,
   "metadata": {},
   "outputs": [
    {
     "name": "stdout",
     "output_type": "stream",
     "text": [
      "type : <class 'numpy.ndarray'>\n",
      "shape : (2, 3, 4)\n",
      "dimension : 3\n",
      "dtype : float64\n",
      "Array Data : \n",
      " [[[ 1.  2.  3.  4.]\n",
      "  [ 5.  6.  7.  8.]\n",
      "  [ 9. 10. 11. 12.]]\n",
      "\n",
      " [[ 1.  2.  3.  4.]\n",
      "  [ 5.  6.  7.  8.]\n",
      "  [ 9. 10. 11. 12.]]]\n"
     ]
    }
   ],
   "source": [
    "# 만들어진 배열의 요소의 타입을 변경할 때는 astype()\n",
    "typeChange = threeArr.astype(np.float64)\n",
    "arrInfo(typeChange)"
   ]
  },
  {
   "cell_type": "code",
   "execution_count": 37,
   "metadata": {},
   "outputs": [
    {
     "name": "stdout",
     "output_type": "stream",
     "text": [
      "type : <class 'numpy.ndarray'>\n",
      "shape : (7,)\n",
      "dimension : 1\n",
      "dtype : int32\n",
      "Array Data : \n",
      " [1 2 3 4 5 6 7]\n"
     ]
    }
   ],
   "source": [
    "indexArr = np.array([1, 2, 3, 4, 5, 6, 7])\n",
    "arrInfo(indexArr)"
   ]
  },
  {
   "cell_type": "code",
   "execution_count": 38,
   "metadata": {},
   "outputs": [
    {
     "data": {
      "text/plain": [
       "3"
      ]
     },
     "execution_count": 38,
     "metadata": {},
     "output_type": "execute_result"
    }
   ],
   "source": [
    "# 행렬 indexing, slicing\n",
    "indexArr[2]"
   ]
  },
  {
   "cell_type": "code",
   "execution_count": 39,
   "metadata": {},
   "outputs": [
    {
     "data": {
      "text/plain": [
       "7"
      ]
     },
     "execution_count": 39,
     "metadata": {},
     "output_type": "execute_result"
    }
   ],
   "source": [
    "indexArr[-1]"
   ]
  },
  {
   "cell_type": "code",
   "execution_count": 48,
   "metadata": {},
   "outputs": [
    {
     "name": "stdout",
     "output_type": "stream",
     "text": [
      "[[1 2 3]\n",
      " [4 5 6]]\n",
      "1\n",
      "2\n",
      "6\n"
     ]
    }
   ],
   "source": [
    "# twoArr indexing\n",
    "print(twoArr)\n",
    "\n",
    "# 첫번째 행의 첫번째 열\n",
    "print(twoArr[0][0])\n",
    "\n",
    "# 첫번째 행의 두번째 열\n",
    "print(twoArr[0][1])\n",
    "\n",
    "# 마지막 행의 마지막 열\n",
    "print(twoArr[-1][-1])"
   ]
  },
  {
   "cell_type": "code",
   "execution_count": 60,
   "metadata": {},
   "outputs": [
    {
     "name": "stdout",
     "output_type": "stream",
     "text": [
      "[[1 2 3 4]\n",
      " [5 6 7 8]]\n",
      "[1 2 3 4]\n",
      "[2 6]\n",
      "[6 7 8]\n"
     ]
    }
   ],
   "source": [
    "slicingArr = np.array([[1, 2, 3, 4], [5, 6, 7, 8]])\n",
    "print(slicingArr)\n",
    "\n",
    "# 첫번째 행의 전체\n",
    "print(slicingArr[0, : ])\n",
    "\n",
    "# 두번째 열의 전체\n",
    "print(slicingArr[ : , 1])\n",
    "\n",
    "# 두번째 행의 두번째 열부터 끝까지\n",
    "print(slicingArr[1, 1:])"
   ]
  },
  {
   "cell_type": "code",
   "execution_count": 68,
   "metadata": {},
   "outputs": [
    {
     "name": "stdout",
     "output_type": "stream",
     "text": [
      "type : <class 'numpy.ndarray'>\n",
      "shape : (3, 5)\n",
      "dimension : 2\n",
      "dtype : int32\n",
      "Array Data : \n",
      " [[ 0  1  2  3  4]\n",
      " [ 5  6  7  8  9]\n",
      " [10 11 12 13 14]]\n",
      "7\n",
      "14\n",
      "[6 7]\n",
      "[ 7 12]\n",
      "[[3 4]\n",
      " [8 9]]\n"
     ]
    }
   ],
   "source": [
    "m = np.array([[0,  1,  2,  3,  4], [5,  6,  7,  8,  9], [10, 11, 12, 13, 14]])\n",
    "arrInfo(m)\n",
    "\n",
    "# 이 행렬에서 값 7을 인덱싱\n",
    "print(m[1][2])\n",
    "\n",
    "# 이 행렬에서 값 14를 인덱싱\n",
    "print(m[-1][-1])\n",
    "\n",
    "# 이 행렬에서 배열 [6, 7]을 슬라이싱\n",
    "print(m[1, 1:3])\n",
    "\n",
    "# 이 행렬에서 배열 [7, 12]를 슬라이싱\n",
    "print(m[1:3, 2])\n",
    "\n",
    "# 이 행렬에서 배열 [[3, 4], [8, 9]]를 슬라이싱\n",
    "print(m[0:2, -2:])"
   ]
  },
  {
   "cell_type": "code",
   "execution_count": 70,
   "metadata": {},
   "outputs": [
    {
     "name": "stdout",
     "output_type": "stream",
     "text": [
      "type : <class 'numpy.ndarray'>\n",
      "shape : (10,)\n",
      "dimension : 1\n",
      "dtype : int32\n",
      "Array Data : \n",
      " [0 1 2 3 4 5 6 7 8 9]\n",
      "[0 2 4 6 8]\n"
     ]
    }
   ],
   "source": [
    "# boolean indexing\n",
    "# True, False를 배열의 인덱스로 활용을 하여 출력을 할 수 있다. \n",
    "arr = np.array([0, 1, 2, 3, 4, 5, 6, 7, 8, 9])\n",
    "arrInfo(arr)\n",
    "\n",
    "# 짝수만 출력\n",
    "idx = np.array([True, False, True, False, True, False, True, False, True, False])\n",
    "print(arr[idx])"
   ]
  },
  {
   "cell_type": "code",
   "execution_count": 73,
   "metadata": {},
   "outputs": [
    {
     "data": {
      "text/plain": [
       "array([0, 2, 4, 6, 8])"
      ]
     },
     "execution_count": 73,
     "metadata": {},
     "output_type": "execute_result"
    }
   ],
   "source": [
    "arr[arr % 2 == 0]"
   ]
  },
  {
   "cell_type": "code",
   "execution_count": 75,
   "metadata": {},
   "outputs": [
    {
     "data": {
      "text/plain": [
       "array([0, 2, 4, 6, 8])"
      ]
     },
     "execution_count": 75,
     "metadata": {},
     "output_type": "execute_result"
    }
   ],
   "source": [
    "cntIdx = np.array([0, 2, 4, 6, 8])\n",
    "arr[cntIdx]"
   ]
  },
  {
   "cell_type": "code",
   "execution_count": 81,
   "metadata": {},
   "outputs": [
    {
     "name": "stdout",
     "output_type": "stream",
     "text": [
      "type : <class 'numpy.ndarray'>\n",
      "shape : (20,)\n",
      "dimension : 1\n",
      "dtype : int32\n",
      "Array Data : \n",
      " [ 1  2  3  4  5  6  7  8  9 10 11 12 13 14 15 16 17 18 19 20]\n",
      "[ 3  6  9 12 15 18]\n",
      "[ 1  5  9 13 17]\n",
      "[9]\n"
     ]
    }
   ],
   "source": [
    "x = np.array([1, 2, 3, 4, 5, 6, 7, 8, 9, 10, 11, 12, 13, 14, 15, 16, 17, 18, 19, 20])\n",
    "arrInfo(x)\n",
    "\n",
    "# 이 배열에서 3의 배수를 찾기\n",
    "print(x[x % 3 == 0])\n",
    "\n",
    "# 이 배열에서 4로 나누면 1이 남는 수를 찾기\n",
    "print(x[x % 4 == 1])\n",
    "\n",
    "# 이 배열에서 3으로 나누면 나누어지고 4로 나누면 1이 남는 수를 찾기\n",
    "print(x[(x % 3 == 0) & (x % 4 == 1)])"
   ]
  },
  {
   "cell_type": "code",
   "execution_count": 83,
   "metadata": {},
   "outputs": [
    {
     "name": "stdout",
     "output_type": "stream",
     "text": [
      "type : <class 'numpy.ndarray'>\n",
      "shape : (3, 4)\n",
      "dimension : 2\n",
      "dtype : int32\n",
      "Array Data : \n",
      " [[ 0  1  2  3]\n",
      " [ 4  5  6  7]\n",
      " [ 8  9 10 11]]\n"
     ]
    }
   ],
   "source": [
    "# fancy indexing\n",
    "# reshape : 배열 생성시 차원을 정해준다.\n",
    "fancyArr = np.arange(0, 12, 1).reshape(3, 4)\n",
    "arrInfo(fancyArr)"
   ]
  },
  {
   "cell_type": "code",
   "execution_count": 87,
   "metadata": {},
   "outputs": [
    {
     "name": "stdout",
     "output_type": "stream",
     "text": [
      "type : <class 'numpy.ndarray'>\n",
      "shape : (1,)\n",
      "dimension : 1\n",
      "dtype : int32\n",
      "Array Data : \n",
      " [6]\n"
     ]
    }
   ],
   "source": [
    "# 1차원 배열 6 가져오기\n",
    "arrInfo(fancyArr[1:2, 2])"
   ]
  },
  {
   "cell_type": "code",
   "execution_count": 88,
   "metadata": {},
   "outputs": [
    {
     "name": "stdout",
     "output_type": "stream",
     "text": [
      "type : <class 'numpy.ndarray'>\n",
      "shape : (1, 1)\n",
      "dimension : 2\n",
      "dtype : int32\n",
      "Array Data : \n",
      " [[5]]\n"
     ]
    }
   ],
   "source": [
    "# 2차원 배열 5 가져오기\n",
    "arrInfo(fancyArr[1:2, 1:2])"
   ]
  },
  {
   "cell_type": "code",
   "execution_count": 92,
   "metadata": {},
   "outputs": [
    {
     "name": "stdout",
     "output_type": "stream",
     "text": [
      "type : <class 'numpy.ndarray'>\n",
      "shape : (3, 4)\n",
      "dimension : 2\n",
      "dtype : int32\n",
      "Array Data : \n",
      " [[ 0  1  2  3]\n",
      " [ 4  5  6  7]\n",
      " [ 8  9 10 11]]\n"
     ]
    },
    {
     "data": {
      "text/plain": [
       "array([ 2, 10])"
      ]
     },
     "execution_count": 92,
     "metadata": {},
     "output_type": "execute_result"
    }
   ],
   "source": [
    "# 2, 10 가져오기\n",
    "arrInfo(fancyArr)\n",
    "fancyArr[[0, 2], 2]"
   ]
  },
  {
   "cell_type": "code",
   "execution_count": 98,
   "metadata": {},
   "outputs": [
    {
     "name": "stdout",
     "output_type": "stream",
     "text": [
      "type : <class 'numpy.ndarray'>\n",
      "shape : (2, 1)\n",
      "dimension : 2\n",
      "dtype : int32\n",
      "Array Data : \n",
      " [[ 2]\n",
      " [10]]\n"
     ]
    }
   ],
   "source": [
    "# [[2], [10]] 만들기\n",
    "arrInfo(fancyArr[[0, 2], 2:3])"
   ]
  },
  {
   "cell_type": "code",
   "execution_count": 114,
   "metadata": {},
   "outputs": [
    {
     "name": "stdout",
     "output_type": "stream",
     "text": [
      "type : <class 'numpy.ndarray'>\n",
      "shape : (3, 4)\n",
      "dimension : 2\n",
      "dtype : int32\n",
      "Array Data : \n",
      " [[ 0  1  2  3]\n",
      " [ 4  5  6  7]\n",
      " [ 8  9 10 11]]\n",
      "[[ 0  2]\n",
      " [ 8 10]]\n"
     ]
    }
   ],
   "source": [
    "# [[0, 2], [8, 10]] 만들기\n",
    "arrInfo(fancyArr)\n",
    "\n",
    "rowIdx = np.array([0, 2])\n",
    "colIdx = np.array([0, 2])\n",
    "print(fancyArr[rowIdx][:, colIdx])"
   ]
  },
  {
   "cell_type": "code",
   "execution_count": 119,
   "metadata": {},
   "outputs": [
    {
     "name": "stdout",
     "output_type": "stream",
     "text": [
      "type : <class 'numpy.ndarray'>\n",
      "shape : (3,)\n",
      "dimension : 1\n",
      "dtype : <U1\n",
      "Array Data : \n",
      " ['1' '2' '3']\n"
     ]
    }
   ],
   "source": [
    "# 배열에 대한 변형(타입, 형태)\n",
    "x = np.array([1, 2, 3], dtype = 'U')\n",
    "arrInfo(x)"
   ]
  },
  {
   "cell_type": "code",
   "execution_count": 120,
   "metadata": {},
   "outputs": [
    {
     "data": {
      "text/plain": [
       "'12'"
      ]
     },
     "execution_count": 120,
     "metadata": {},
     "output_type": "execute_result"
    }
   ],
   "source": [
    "x[0] + x[1]"
   ]
  },
  {
   "cell_type": "code",
   "execution_count": 121,
   "metadata": {},
   "outputs": [
    {
     "name": "stderr",
     "output_type": "stream",
     "text": [
      "D:\\Anaconda3\\lib\\site-packages\\ipykernel_launcher.py:1: RuntimeWarning: divide by zero encountered in true_divide\n",
      "  \"\"\"Entry point for launching an IPython kernel.\n",
      "D:\\Anaconda3\\lib\\site-packages\\ipykernel_launcher.py:1: RuntimeWarning: invalid value encountered in true_divide\n",
      "  \"\"\"Entry point for launching an IPython kernel.\n"
     ]
    },
    {
     "data": {
      "text/plain": [
       "array([  0.,  inf, -inf,  nan])"
      ]
     },
     "execution_count": 121,
     "metadata": {},
     "output_type": "execute_result"
    }
   ],
   "source": [
    "# inf : 무한대\n",
    "# NaN : Not a Number\n",
    "np.array([0, 1, -1, 0]) / np.array([1, 0, 0, 0])"
   ]
  },
  {
   "cell_type": "code",
   "execution_count": 122,
   "metadata": {},
   "outputs": [],
   "source": [
    "# zeros, ones\n",
    "# zeros_like, ones_like\n",
    "# empty\n",
    "# arange\n",
    "# linespace, logspace"
   ]
  },
  {
   "cell_type": "code",
   "execution_count": 123,
   "metadata": {},
   "outputs": [
    {
     "name": "stdout",
     "output_type": "stream",
     "text": [
      "type : <class 'numpy.ndarray'>\n",
      "shape : (5,)\n",
      "dimension : 1\n",
      "dtype : float64\n",
      "Array Data : \n",
      " [0. 0. 0. 0. 0.]\n"
     ]
    }
   ],
   "source": [
    "# zeros\n",
    "# 크기가 정해져있고 모든 값이 0인 배열을 생성\n",
    "z = np.zeros(5)\n",
    "arrInfo(z)"
   ]
  },
  {
   "cell_type": "code",
   "execution_count": 127,
   "metadata": {},
   "outputs": [
    {
     "name": "stdout",
     "output_type": "stream",
     "text": [
      "type : <class 'numpy.ndarray'>\n",
      "shape : (2, 3)\n",
      "dimension : 2\n",
      "dtype : int32\n",
      "Array Data : \n",
      " [[0 0 0]\n",
      " [0 0 0]]\n"
     ]
    }
   ],
   "source": [
    "z = np.zeros((2, 3), dtype = 'i')\n",
    "arrInfo(z)"
   ]
  },
  {
   "cell_type": "code",
   "execution_count": 131,
   "metadata": {},
   "outputs": [
    {
     "name": "stdout",
     "output_type": "stream",
     "text": [
      "type : <class 'numpy.ndarray'>\n",
      "shape : (2, 3, 4)\n",
      "dimension : 3\n",
      "dtype : int64\n",
      "Array Data : \n",
      " [[[1 1 1 1]\n",
      "  [1 1 1 1]\n",
      "  [1 1 1 1]]\n",
      "\n",
      " [[1 1 1 1]\n",
      "  [1 1 1 1]\n",
      "  [1 1 1 1]]]\n"
     ]
    }
   ],
   "source": [
    "# ones\n",
    "# i8 : int64 데이터 타입\n",
    "o = np.ones((2, 3, 4), dtype = 'i8')\n",
    "arrInfo(o)"
   ]
  },
  {
   "cell_type": "code",
   "execution_count": 132,
   "metadata": {},
   "outputs": [
    {
     "name": "stdout",
     "output_type": "stream",
     "text": [
      "type : <class 'numpy.ndarray'>\n",
      "shape : (2, 3, 4)\n",
      "dimension : 3\n",
      "dtype : float32\n",
      "Array Data : \n",
      " [[[1. 1. 1. 1.]\n",
      "  [1. 1. 1. 1.]\n",
      "  [1. 1. 1. 1.]]\n",
      "\n",
      " [[1. 1. 1. 1.]\n",
      "  [1. 1. 1. 1.]\n",
      "  [1. 1. 1. 1.]]]\n"
     ]
    }
   ],
   "source": [
    "# ones_like\n",
    "o_like = np.ones_like(o, dtype = 'f')\n",
    "arrInfo(o_like)"
   ]
  },
  {
   "cell_type": "code",
   "execution_count": 133,
   "metadata": {},
   "outputs": [
    {
     "name": "stdout",
     "output_type": "stream",
     "text": [
      "type : <class 'numpy.ndarray'>\n",
      "shape : (2, 3)\n",
      "dimension : 2\n",
      "dtype : int32\n",
      "Array Data : \n",
      " [[0 0 0]\n",
      " [0 0 0]]\n"
     ]
    }
   ],
   "source": [
    "# zeros_like\n",
    "z_like = np.zeros_like(z)\n",
    "arrInfo(z_like)"
   ]
  },
  {
   "cell_type": "code",
   "execution_count": 134,
   "metadata": {},
   "outputs": [
    {
     "name": "stdout",
     "output_type": "stream",
     "text": [
      "type : <class 'numpy.ndarray'>\n",
      "shape : (4, 3)\n",
      "dimension : 2\n",
      "dtype : float64\n",
      "Array Data : \n",
      " [[0.0078125 0.0078125 0.0078125]\n",
      " [0.0078125 0.0078125 0.0078125]\n",
      " [0.0078125 0.0078125 0.0078125]\n",
      " [0.0078125 0.0078125 0.0078125]]\n"
     ]
    }
   ],
   "source": [
    "# empty\n",
    "# 값이 없는 비어있는 배열을 만든다.\n",
    "# 나오는 값은 저장공간의 주소값이다. 실제 값이 아니다.\n",
    "e = np.empty((4, 3))\n",
    "arrInfo(e)"
   ]
  },
  {
   "cell_type": "code",
   "execution_count": 136,
   "metadata": {},
   "outputs": [
    {
     "name": "stdout",
     "output_type": "stream",
     "text": [
      "type : <class 'numpy.ndarray'>\n",
      "shape : (10,)\n",
      "dimension : 1\n",
      "dtype : int32\n",
      "Array Data : \n",
      " [0 1 2 3 4 5 6 7 8 9]\n"
     ]
    }
   ],
   "source": [
    "# arange\n",
    "a = np.arange(10)\n",
    "arrInfo(a)"
   ]
  },
  {
   "cell_type": "code",
   "execution_count": 137,
   "metadata": {},
   "outputs": [
    {
     "name": "stdout",
     "output_type": "stream",
     "text": [
      "type : <class 'numpy.ndarray'>\n",
      "shape : (9,)\n",
      "dimension : 1\n",
      "dtype : int32\n",
      "Array Data : \n",
      " [ 3  5  7  9 11 13 15 17 19]\n"
     ]
    }
   ],
   "source": [
    "a = np.arange(3, 21, 2)\n",
    "arrInfo(a)"
   ]
  },
  {
   "cell_type": "code",
   "execution_count": 138,
   "metadata": {},
   "outputs": [
    {
     "name": "stdout",
     "output_type": "stream",
     "text": [
      "type : <class 'numpy.ndarray'>\n",
      "shape : (2, 3)\n",
      "dimension : 2\n",
      "dtype : int32\n",
      "Array Data : \n",
      " [[1 2 3]\n",
      " [4 5 6]]\n"
     ]
    }
   ],
   "source": [
    "# 전치행렬\n",
    "# 행렬의 행은 열로, 열은 행으로 바꾼 행렬\n",
    "# 속성 T\n",
    "# transpose operation\n",
    "arr = np.array([[1, 2, 3], [4, 5, 6]])\n",
    "arrInfo(arr)"
   ]
  },
  {
   "cell_type": "code",
   "execution_count": 139,
   "metadata": {},
   "outputs": [
    {
     "name": "stdout",
     "output_type": "stream",
     "text": [
      "type : <class 'numpy.ndarray'>\n",
      "shape : (3, 2)\n",
      "dimension : 2\n",
      "dtype : int32\n",
      "Array Data : \n",
      " [[1 4]\n",
      " [2 5]\n",
      " [3 6]]\n"
     ]
    }
   ],
   "source": [
    "arr_transpose = arr.T\n",
    "arrInfo(arr_transpose)"
   ]
  },
  {
   "cell_type": "code",
   "execution_count": 140,
   "metadata": {},
   "outputs": [
    {
     "name": "stdout",
     "output_type": "stream",
     "text": [
      "type : <class 'numpy.ndarray'>\n",
      "shape : (10,)\n",
      "dimension : 1\n",
      "dtype : int32\n",
      "Array Data : \n",
      " [0 1 2 3 4 5 6 7 8 9]\n"
     ]
    }
   ],
   "source": [
    "# Vector 에 transpose 하기\n",
    "# 문법 상 오류는 없지만 의미가 없다.\n",
    "vec = np.arange(10)\n",
    "arrInfo(vec)"
   ]
  },
  {
   "cell_type": "code",
   "execution_count": 141,
   "metadata": {},
   "outputs": [
    {
     "name": "stdout",
     "output_type": "stream",
     "text": [
      "type : <class 'numpy.ndarray'>\n",
      "shape : (10,)\n",
      "dimension : 1\n",
      "dtype : int32\n",
      "Array Data : \n",
      " [0 1 2 3 4 5 6 7 8 9]\n"
     ]
    }
   ],
   "source": [
    "vec_transpose = vec.T\n",
    "arrInfo(vec_transpose)"
   ]
  },
  {
   "cell_type": "code",
   "execution_count": 143,
   "metadata": {},
   "outputs": [
    {
     "name": "stdout",
     "output_type": "stream",
     "text": [
      "type : <class 'numpy.ndarray'>\n",
      "shape : (10, 1)\n",
      "dimension : 2\n",
      "dtype : int32\n",
      "Array Data : \n",
      " [[0]\n",
      " [1]\n",
      " [2]\n",
      " [3]\n",
      " [4]\n",
      " [5]\n",
      " [6]\n",
      " [7]\n",
      " [8]\n",
      " [9]]\n"
     ]
    }
   ],
   "source": [
    "# Vector를 2차원 행렬로 변환하면 가능하다.\n",
    "vec_transpose = vec.reshape(1, 10).T\n",
    "arrInfo(vec_transpose)"
   ]
  },
  {
   "cell_type": "code",
   "execution_count": 146,
   "metadata": {},
   "outputs": [
    {
     "name": "stdout",
     "output_type": "stream",
     "text": [
      "1 2 3 4 5 "
     ]
    }
   ],
   "source": [
    "# 배열의 원소를 순차적으로 access\n",
    "# for (Vector, Matrix)\n",
    "# iterator (iternext(), finished 속성을 이용해서 ndarray의 모든 요소를 순차적으로 접근할 수 있다.)\n",
    "\n",
    "arr = np.array([1, 2, 3, 4, 5])\n",
    "\n",
    "for tmp in arr :\n",
    "    print(tmp, end = ' ')"
   ]
  },
  {
   "cell_type": "code",
   "execution_count": 147,
   "metadata": {},
   "outputs": [
    {
     "name": "stdout",
     "output_type": "stream",
     "text": [
      "1 2 3 4 5 "
     ]
    }
   ],
   "source": [
    "for idx in range(len(arr)) :\n",
    "    print(arr[idx], end = ' ')"
   ]
  },
  {
   "cell_type": "code",
   "execution_count": 151,
   "metadata": {},
   "outputs": [
    {
     "name": "stdout",
     "output_type": "stream",
     "text": [
      "1 2 3 4 5 "
     ]
    }
   ],
   "source": [
    "ite = np.nditer(arr, flags = ['c_index'])\n",
    "\n",
    "while not ite.finished :\n",
    "    print(arr[ite.index], end = ' ')\n",
    "    ite.iternext()"
   ]
  },
  {
   "cell_type": "code",
   "execution_count": 152,
   "metadata": {},
   "outputs": [
    {
     "name": "stdout",
     "output_type": "stream",
     "text": [
      "type : <class 'numpy.ndarray'>\n",
      "shape : (2, 3)\n",
      "dimension : 2\n",
      "dtype : int32\n",
      "Array Data : \n",
      " [[1 2 3]\n",
      " [4 5 6]]\n"
     ]
    }
   ],
   "source": [
    "arr = np.array([[1, 2, 3], [4, 5, 6]])\n",
    "arrInfo(arr)"
   ]
  },
  {
   "cell_type": "code",
   "execution_count": 156,
   "metadata": {},
   "outputs": [
    {
     "name": "stdout",
     "output_type": "stream",
     "text": [
      "1 2 3 4 5 6 "
     ]
    }
   ],
   "source": [
    "# 2차원 배열에 대한 순차적 접근 코드 작성\n",
    "for i in range(len(arr)) :\n",
    "    for j in range(len(arr[i])) :\n",
    "        print(arr[i][j], end = ' ')"
   ]
  },
  {
   "cell_type": "code",
   "execution_count": 158,
   "metadata": {},
   "outputs": [
    {
     "name": "stdout",
     "output_type": "stream",
     "text": [
      "1 2 3 4 5 6 "
     ]
    }
   ],
   "source": [
    "ite = np.nditer(arr, flags = ['multi_index'])\n",
    "\n",
    "while not ite.finished :\n",
    "    print(arr[ite.multi_index], end = ' ')\n",
    "    ite.iternext()"
   ]
  }
 ],
 "metadata": {
  "kernelspec": {
   "display_name": "Python 3",
   "language": "python",
   "name": "python3"
  },
  "language_info": {
   "codemirror_mode": {
    "name": "ipython",
    "version": 3
   },
   "file_extension": ".py",
   "mimetype": "text/x-python",
   "name": "python",
   "nbconvert_exporter": "python",
   "pygments_lexer": "ipython3",
   "version": "3.6.5"
  }
 },
 "nbformat": 4,
 "nbformat_minor": 2
}
