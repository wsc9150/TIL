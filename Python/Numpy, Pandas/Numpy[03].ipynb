{
 "cells": [
  {
   "cell_type": "markdown",
   "metadata": {},
   "source": [
    "### 난수 발생 및 카운팅, 통계계산 함수 소개\n",
    "- count (데이터의 개수)\n",
    "- mean, average (평균)\n",
    "- variance (분산)\n",
    "- standart deviation (표준편차)\n",
    "- max, min, median, quartile\n",
    "---\n",
    "- np.random.rand : 0 부터 1 사이의 균일한 값을 return하는 분포\n",
    "- np.random.randn : 정규분포\n",
    "- np.random.randint : 정수의 난수 return"
   ]
  },
  {
   "cell_type": "code",
   "execution_count": 1,
   "metadata": {},
   "outputs": [],
   "source": [
    "import numpy as np"
   ]
  },
  {
   "cell_type": "code",
   "execution_count": 2,
   "metadata": {},
   "outputs": [
    {
     "name": "stdout",
     "output_type": "stream",
     "text": [
      "[ 18   5  10  23  19  -8  10   0   0   5   2  15   8   2   5   4  15  -1\n",
      "   4  -7 -24   7   9  -6  23  13]\n"
     ]
    }
   ],
   "source": [
    "x = np.array([18, 5, 10, 23, 19, -8, 10, 0, 0, 5, 2, 15, 8, 2, 5, 4, 15, -1, 4, -7, -24, 7, 9, -6, 23, 13])\n",
    "print(x)"
   ]
  },
  {
   "cell_type": "code",
   "execution_count": 3,
   "metadata": {},
   "outputs": [
    {
     "data": {
      "text/plain": [
       "26"
      ]
     },
     "execution_count": 3,
     "metadata": {},
     "output_type": "execute_result"
    }
   ],
   "source": [
    "len(x)"
   ]
  },
  {
   "cell_type": "code",
   "execution_count": 13,
   "metadata": {},
   "outputs": [
    {
     "name": "stdout",
     "output_type": "stream",
     "text": [
      "23\n",
      "-24\n",
      "5.8076923076923075\n",
      "104.61686390532545\n",
      "10.22823855340329\n",
      "5.0\n"
     ]
    }
   ],
   "source": [
    "print(np.max(x))\n",
    "print(np.min(x))\n",
    "print(np.mean(x))\n",
    "print(np.var(x)) # 분산\n",
    "print(np.std(x)) # 표준편차\n",
    "print(np.median(x))"
   ]
  },
  {
   "cell_type": "code",
   "execution_count": 73,
   "metadata": {},
   "outputs": [
    {
     "data": {
      "text/plain": [
       "array([0.5488135 , 0.71518937, 0.60276338, 0.54488318, 0.4236548 ])"
      ]
     },
     "execution_count": 73,
     "metadata": {},
     "output_type": "execute_result"
    }
   ],
   "source": [
    "# random 서브패키지에 난수를 발생시키는 함수 제공\n",
    "# np.random.seed(0) : 고정된 난수 생성\n",
    "\n",
    "np.random.seed(0)\n",
    "np.random.rand(5)"
   ]
  },
  {
   "cell_type": "code",
   "execution_count": 48,
   "metadata": {},
   "outputs": [
    {
     "data": {
      "text/plain": [
       "array([3, 3, 3, 2, 3, 2, 2, 2, 3, 3])"
      ]
     },
     "execution_count": 48,
     "metadata": {},
     "output_type": "execute_result"
    }
   ],
   "source": [
    "# 데이터 샘플링\n",
    "# choice(배열, size = 샘플링 숫자, replace = True, p = 각 데이터가 선택될 확률(가중치))\n",
    "# replace = True: 복원추출 <-> False : 비복원 추출\n",
    "\n",
    "np.random.choice(5, 10, replace = True, p = [0.1, 0, 0.3, 0.6, 0])"
   ]
  },
  {
   "cell_type": "code",
   "execution_count": 49,
   "metadata": {},
   "outputs": [],
   "source": [
    "# np.random.randn() : 표준정규분포(평균 0, 표준편차 1) 확률에서 실수표본\n",
    "import matplotlib.pyplot as plt"
   ]
  },
  {
   "cell_type": "code",
   "execution_count": 52,
   "metadata": {},
   "outputs": [
    {
     "name": "stdout",
     "output_type": "stream",
     "text": [
      "[[-0.01893742 -0.69068306  0.79976165  2.2141412   0.43887142]\n",
      " [ 0.6382597   2.01584138 -0.24365275  1.53383566  0.76475023]\n",
      " [-2.45667902 -1.70364871  0.42015307 -0.29814907  0.26360219]]\n"
     ]
    },
    {
     "data": {
      "image/png": "[encoded data removed]",
      "text/plain": [
       "<Figure size 432x288 with 1 Axes>"
      ]
     },
     "metadata": {},
     "output_type": "display_data"
    }
   ],
   "source": [
    "arr = np.random.randn(3, 5)\n",
    "print(arr)\n",
    "plt.hist(arr)\n",
    "plt.show()"
   ]
  },
  {
   "cell_type": "code",
   "execution_count": 58,
   "metadata": {},
   "outputs": [
    {
     "data": {
      "text/plain": [
       "array([9, 6, 6, 7, 8, 8, 7, 0, 8, 6])"
      ]
     },
     "execution_count": 58,
     "metadata": {},
     "output_type": "execute_result"
    }
   ],
   "source": [
    "# np.random.randint(low, high = None, size = None) : 분포가 균일한 정수의 난수값을 return\n",
    "# high 가 없으면 0 ~ low 사이의 값을 발생\n",
    "# size : 1차원 이상의 행렬을 줄 수 있다.\n",
    "\n",
    "np.random.randint(10, size = 10)"
   ]
  },
  {
   "cell_type": "code",
   "execution_count": 62,
   "metadata": {},
   "outputs": [
    {
     "data": {
      "text/plain": [
       "array([[16, 19, 13, 13, 12],\n",
       "       [11, 12, 11, 13, 14],\n",
       "       [11, 11, 10, 17, 18]])"
      ]
     },
     "execution_count": 62,
     "metadata": {},
     "output_type": "execute_result"
    }
   ],
   "source": [
    "np.random.randint(10, 20, size = (3, 5))"
   ]
  },
  {
   "cell_type": "code",
   "execution_count": 63,
   "metadata": {},
   "outputs": [
    {
     "data": {
      "text/plain": [
       "array([ 1,  2, 11, 34])"
      ]
     },
     "execution_count": 63,
     "metadata": {},
     "output_type": "execute_result"
    }
   ],
   "source": [
    "# unique : 중복 제거\n",
    "np.unique([1, 11, 2, 2, 34, 34])"
   ]
  },
  {
   "cell_type": "code",
   "execution_count": 74,
   "metadata": {},
   "outputs": [
    {
     "name": "stdout",
     "output_type": "stream",
     "text": [
      "index : ['a' 'b' 'c']\n",
      "count : [2 2 2]\n"
     ]
    }
   ],
   "source": [
    "arr = np.array(['a', 'b', 'c', 'b', 'c', 'a'])\n",
    "index, count = np.unique(arr, return_counts = True)\n",
    "print('index :', index) # 중복이 제거된 후 모든 요소\n",
    "print('count :', count) # 각 요소의 중복된 횟수"
   ]
  },
  {
   "cell_type": "code",
   "execution_count": 75,
   "metadata": {},
   "outputs": [
    {
     "data": {
      "text/plain": [
       "array([0, 1, 3, 1, 0, 0, 0, 0, 0, 0, 1], dtype=int64)"
      ]
     },
     "execution_count": 75,
     "metadata": {},
     "output_type": "execute_result"
    }
   ],
   "source": [
    "# bincount() : 데이터가 없을 경우에는 카운트 값으로 0이 return 된다.\n",
    "# 해당 숫자의 인덱스에 카운트 값이 return 된다. \n",
    "np.bincount([1, 10, 2, 2, 2, 3], minlength = 6)"
   ]
  }
 ],
 "metadata": {
  "kernelspec": {
   "display_name": "Python 3",
   "language": "python",
   "name": "python3"
  },
  "language_info": {
   "codemirror_mode": {
    "name": "ipython",
    "version": 3
   },
   "file_extension": ".py",
   "mimetype": "text/x-python",
   "name": "python",
   "nbconvert_exporter": "python",
   "pygments_lexer": "ipython3",
   "version": "3.6.5"
  }
 },
 "nbformat": 4,
 "nbformat_minor": 2
}
