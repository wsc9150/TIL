{
 "cells": [
  {
   "cell_type": "markdown",
   "metadata": {},
   "source": [
    "# 실습1"
   ]
  },
  {
   "cell_type": "code",
   "execution_count": 2,
   "metadata": {},
   "outputs": [],
   "source": [
    "from urllib.request import urlopen\n",
    "from bs4 import BeautifulSoup\n",
    "from urllib.error import HTTPError\n",
    "from urllib.error import URLError\n",
    "import pandas as pd"
   ]
  },
  {
   "cell_type": "code",
   "execution_count": 3,
   "metadata": {},
   "outputs": [],
   "source": [
    "try :\n",
    "    html = urlopen('https://pythondojang.bitbucket.io/weather/observation/currentweather.html')\n",
    "except HTTPError as he :\n",
    "    print('http error')\n",
    "except URLError as ue :\n",
    "    print('url error')\n",
    "else :\n",
    "    soup = BeautifulSoup(html.read(), 'html.parser')"
   ]
  },
  {
   "cell_type": "code",
   "execution_count": 4,
   "metadata": {},
   "outputs": [],
   "source": [
    "table = soup.find('table',{'class' : 'table_develop3'})\n",
    "# table"
   ]
  },
  {
   "cell_type": "code",
   "execution_count": 5,
   "metadata": {},
   "outputs": [
    {
     "name": "stdout",
     "output_type": "stream",
     "text": [
      "success\n"
     ]
    }
   ],
   "source": [
    "# 지역이름, 온도, 습도 데이터를 뽑아 데이터프레임으로 만든 후 csv 파일로 저장하기\n",
    "location_text = []\n",
    "temp_text = []\n",
    "humidity_text = []\n",
    "\n",
    "for tr in table.find_all('tr') :\n",
    "    tds = tr.find_all('td')\n",
    "    \n",
    "    for td in tds :\n",
    "        if td.find('a') :\n",
    "            location = td.find('a').text\n",
    "            location_text.append(location)\n",
    "            temp = tds[5].text\n",
    "            temp_text.append(temp)\n",
    "            humidity = tds[9].text\n",
    "            humidity_text.append(humidity)\n",
    "\n",
    "weather_df = pd.DataFrame({\n",
    "    'location' : location_text,\n",
    "    'temperature' : temp_text,\n",
    "    'humidity' : humidity_text\n",
    "})\n",
    "\n",
    "weather_df.to_csv('weather_df.csv', mode = 'w', encoding = 'utf-8')\n",
    "print('success')"
   ]
  },
  {
   "cell_type": "code",
   "execution_count": 6,
   "metadata": {},
   "outputs": [
    {
     "name": "stdout",
     "output_type": "stream",
     "text": [
      "success\n"
     ]
    }
   ],
   "source": [
    "# 지역이름, 온도, 습도 데이터를 뽑아 데이터프레임으로 만든 후 csv 파일로 저장하기\n",
    "# pandas 사용하지 않는 방법\n",
    "data = []\n",
    "\n",
    "for tr in table.find_all('tr') :\n",
    "    tds = tr.find_all('td')\n",
    "    \n",
    "    for td in tds :\n",
    "        if td.find('a') :\n",
    "            location = td.find('a').text\n",
    "            temp = tds[5].text\n",
    "            humidity = tds[9].text\n",
    "            data.append([location, temp, humidity])\n",
    "\n",
    "with open('python_weather.csv', 'w', encoding = 'utf-8') as file :\n",
    "    for d in data :\n",
    "        file.write('{},{},{}\\n'.format(d[0], d[1], d[2]))\n",
    "\n",
    "print('success')"
   ]
  }
 ],
 "metadata": {
  "kernelspec": {
   "display_name": "Python 3",
   "language": "python",
   "name": "python3"
  },
  "language_info": {
   "codemirror_mode": {
    "name": "ipython",
    "version": 3
   },
   "file_extension": ".py",
   "mimetype": "text/x-python",
   "name": "python",
   "nbconvert_exporter": "python",
   "pygments_lexer": "ipython3",
   "version": "3.6.5"
  }
 },
 "nbformat": 4,
 "nbformat_minor": 2
}
