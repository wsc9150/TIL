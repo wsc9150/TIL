{
 "cells": [
  {
   "cell_type": "markdown",
   "metadata": {},
   "source": [
    "# 실습2"
   ]
  },
  {
   "cell_type": "code",
   "execution_count": 1,
   "metadata": {},
   "outputs": [],
   "source": [
    "from urllib.request import urlopen\n",
    "from bs4 import BeautifulSoup\n",
    "from urllib.error import HTTPError\n",
    "from urllib.error import URLError\n",
    "import pandas as pd"
   ]
  },
  {
   "cell_type": "code",
   "execution_count": 2,
   "metadata": {},
   "outputs": [],
   "source": [
    "try :\n",
    "    html = urlopen('https://www.koreabaseball.com/Record/Player/HitterBasic/Basic1.aspx')\n",
    "except HTTPError as he :\n",
    "    print('http error')\n",
    "except URLError as ue :\n",
    "    print('url error')\n",
    "else :\n",
    "    soup = BeautifulSoup(html.read(), 'html.parser')"
   ]
  },
  {
   "cell_type": "code",
   "execution_count": 3,
   "metadata": {},
   "outputs": [],
   "source": [
    "table = soup.find('table', {'class' : 'tData01'})\n",
    "# table\n",
    "\n",
    "trs = table.find_all('tr')\n",
    "# trs"
   ]
  },
  {
   "cell_type": "code",
   "execution_count": 4,
   "metadata": {},
   "outputs": [],
   "source": [
    "name = []\n",
    "avg = []\n",
    "h = []\n",
    "hr = []\n",
    "rbi = []\n",
    "\n",
    "for tr in trs :\n",
    "    tds = tr.find_all('td')\n",
    "    \n",
    "    for td in tds :\n",
    "        if (td.find('a')) :\n",
    "            name.append(td.find('a').string)\n",
    "            avg.append(tds[3].text)\n",
    "            h.append(tds[8].text)\n",
    "            hr.append(tds[11].text)\n",
    "            rbi.append(tds[13].text)\n",
    "\n",
    "baseballPlayer_df = pd.DataFrame({\n",
    "    'name' : name,\n",
    "    'avg' : avg,\n",
    "    'hit' : h,\n",
    "    'homerun' : hr,\n",
    "    'rbi' : rbi\n",
    "})\n",
    "\n",
    "baseballPlayer_df.to_csv('baseballPlayer_df.csv', mode = 'w', encoding = 'utf-8')"
   ]
  },
  {
   "cell_type": "code",
   "execution_count": 5,
   "metadata": {},
   "outputs": [],
   "source": [
    "%matplotlib inline\n",
    "import pandas as pd\n",
    "import matplotlib as mpl\n",
    "import matplotlib.pyplot as plt"
   ]
  },
  {
   "cell_type": "code",
   "execution_count": 6,
   "metadata": {},
   "outputs": [
    {
     "data": {
      "text/html": [
       "<div>\n",
       "<style scoped>\n",
       "    .dataframe tbody tr th:only-of-type {\n",
       "        vertical-align: middle;\n",
       "    }\n",
       "\n",
       "    .dataframe tbody tr th {\n",
       "        vertical-align: top;\n",
       "    }\n",
       "\n",
       "    .dataframe thead th {\n",
       "        text-align: right;\n",
       "    }\n",
       "</style>\n",
       "<table border=\"1\" class=\"dataframe\">\n",
       "  <thead>\n",
       "    <tr style=\"text-align: right;\">\n",
       "      <th></th>\n",
       "      <th>Unnamed: 0</th>\n",
       "      <th>avg</th>\n",
       "      <th>hit</th>\n",
       "      <th>homerun</th>\n",
       "      <th>rbi</th>\n",
       "    </tr>\n",
       "    <tr>\n",
       "      <th>name</th>\n",
       "      <th></th>\n",
       "      <th></th>\n",
       "      <th></th>\n",
       "      <th></th>\n",
       "      <th></th>\n",
       "    </tr>\n",
       "  </thead>\n",
       "  <tbody>\n",
       "    <tr>\n",
       "      <th>로하스</th>\n",
       "      <td>0</td>\n",
       "      <td>0.351</td>\n",
       "      <td>170</td>\n",
       "      <td>42</td>\n",
       "      <td>119</td>\n",
       "    </tr>\n",
       "    <tr>\n",
       "      <th>손아섭</th>\n",
       "      <td>1</td>\n",
       "      <td>0.350</td>\n",
       "      <td>158</td>\n",
       "      <td>9</td>\n",
       "      <td>71</td>\n",
       "    </tr>\n",
       "    <tr>\n",
       "      <th>김현수</th>\n",
       "      <td>2</td>\n",
       "      <td>0.346</td>\n",
       "      <td>167</td>\n",
       "      <td>22</td>\n",
       "      <td>111</td>\n",
       "    </tr>\n",
       "    <tr>\n",
       "      <th>이정후</th>\n",
       "      <td>3</td>\n",
       "      <td>0.345</td>\n",
       "      <td>170</td>\n",
       "      <td>15</td>\n",
       "      <td>98</td>\n",
       "    </tr>\n",
       "    <tr>\n",
       "      <th>페르난데스</th>\n",
       "      <td>4</td>\n",
       "      <td>0.344</td>\n",
       "      <td>176</td>\n",
       "      <td>18</td>\n",
       "      <td>90</td>\n",
       "    </tr>\n",
       "  </tbody>\n",
       "</table>\n",
       "</div>"
      ],
      "text/plain": [
       "       Unnamed: 0    avg  hit  homerun  rbi\n",
       "name                                       \n",
       "로하스             0  0.351  170       42  119\n",
       "손아섭             1  0.350  158        9   71\n",
       "김현수             2  0.346  167       22  111\n",
       "이정후             3  0.345  170       15   98\n",
       "페르난데스           4  0.344  176       18   90"
      ]
     },
     "execution_count": 6,
     "metadata": {},
     "output_type": "execute_result"
    }
   ],
   "source": [
    "df = pd.read_csv('./baseballPlayer_df.csv', index_col = 'name', encoding = 'utf-8')\n",
    "df.head()"
   ]
  },
  {
   "cell_type": "code",
   "execution_count": 7,
   "metadata": {},
   "outputs": [
    {
     "data": {
      "text/plain": [
       "<matplotlib.axes._subplots.AxesSubplot at 0x2a6d0da2748>"
      ]
     },
     "execution_count": 7,
     "metadata": {},
     "output_type": "execute_result"
    },
    {
     "data": {
      "image/png": "[encoded data removed]",
      "text/plain": [
       "<Figure size 432x288 with 1 Axes>"
      ]
     },
     "metadata": {},
     "output_type": "display_data"
    }
   ],
   "source": [
    "df.plot.bar()"
   ]
  }
 ],
 "metadata": {
  "kernelspec": {
   "display_name": "Python 3",
   "language": "python",
   "name": "python3"
  },
  "language_info": {
   "codemirror_mode": {
    "name": "ipython",
    "version": 3
   },
   "file_extension": ".py",
   "mimetype": "text/x-python",
   "name": "python",
   "nbconvert_exporter": "python",
   "pygments_lexer": "ipython3",
   "version": "3.6.5"
  }
 },
 "nbformat": 4,
 "nbformat_minor": 2
}
