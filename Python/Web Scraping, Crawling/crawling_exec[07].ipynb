{
 "cells": [
  {
   "cell_type": "code",
   "execution_count": 1,
   "metadata": {},
   "outputs": [
    {
     "data": {
      "text/plain": [
       "<selenium.webdriver.chrome.webdriver.WebDriver (session=\"9191ecebac6b375d76b11bbdd85fe300\")>"
      ]
     },
     "execution_count": 1,
     "metadata": {},
     "output_type": "execute_result"
    }
   ],
   "source": [
    "from selenium import webdriver\n",
    "import time\n",
    "\n",
    "path = './driver/chromedriver.exe'\n",
    "driver = webdriver.Chrome(path)\n",
    "driver"
   ]
  },
  {
   "cell_type": "code",
   "execution_count": 33,
   "metadata": {},
   "outputs": [
    {
     "name": "stdout",
     "output_type": "stream",
     "text": [
      "72\n"
     ]
    }
   ],
   "source": [
    "# 한 페이지에 있는 9개의 상품들을 각각 링크를 타고 들어가서\n",
    "# 상품 정보를 읽어들여 저장하고 다시 뒤의 페이지로 돌아가는 작업 수행\n",
    "details_list = []\n",
    "\n",
    "for page in range(1, 10) :\n",
    "    url = 'https://www.ildong.com/kor/product/list.id?page=' + str(page) + '&halt=&prdDisease=&prdCategory=5&searchVal=&searchOption=0'\n",
    "    driver.get(url)\n",
    "    \n",
    "    # elements = driver.find_elements_by_css_selector('div.content > div.productBox > div.prCnt > div.prList > ul > li')\n",
    "    \n",
    "    prList = driver.find_element_by_class_name('prList')\n",
    "    # print(prList)\n",
    "    a_tag = prList.find_elements_by_tag_name('a')\n",
    "    # print(a_tag)\n",
    "    # print(len(a_tag))\n",
    "        \n",
    "    for idx in range(len(a_tag)) :\n",
    "        a_tag[idx].click()\n",
    "        detail = driver.find_element_by_class_name('detailCnt2')\n",
    "        # print(detail.text)\n",
    "        \n",
    "        details_list.append(detail.text)\n",
    "        \n",
    "        # back()을 쓰게 되면 정보들을 다 잃어버리게 된다.\n",
    "        driver.back()\n",
    "        \n",
    "        # 다시 정의하는 작업\n",
    "        prList = driver.find_element_by_class_name('prList')\n",
    "        a_tag = prList.find_elements_by_tag_name('a')\n",
    "        time.sleep(2)\n",
    "        \n",
    "print(len(details_list))"
   ]
  },
  {
   "cell_type": "code",
   "execution_count": null,
   "metadata": {},
   "outputs": [],
   "source": [
    "# 주짓수 도복 사이트 크롤링 실습\n",
    "from selenium import webdriver\n",
    "import time\n",
    "\n",
    "path = './driver/chromedriver.exe'\n",
    "driver = webdriver.Chrome(path)\n",
    "driver\n",
    "\n",
    "names = []\n",
    "prices = []\n",
    "brands = []\n",
    "\n",
    "for page in range(1, 11) :\n",
    "    url = 'https://www.fightersmarket.co.kr/goods/goods_list.php?page=' + str(page) + '&cateCd=005'\n",
    "    driver.get(url)\n",
    "    print(url)\n",
    "    \n",
    "    # elements = driver.find_elements_by_css_selector('div.goods_list > div.goods_list_cont > div.item_gallery_type > ul > li')\n",
    "    # print(len(elements))\n",
    "    a_tag = driver.find_elements_by_css_selector('div.item_info_cont > div.item_tit_box > a')\n",
    "    # print(len(a_tag))\n",
    "\n",
    "    # prList = driver.find_element_by_class_name('item_photo_box')\n",
    "    # a_tag = prList.find_elements_by_tag_name('a')\n",
    "\n",
    "    for idx in range(len(a_tag)) :\n",
    "        # link = a_tag[idx].find_element_by_css_selector('div.item_cont > div.item_photo_box > a')\n",
    "        # print(link.get_attribute('href'))\n",
    "        print('{}, {}, {}'.format(page, idx, a_tag[idx].get_attribute('href')))\n",
    "        a_tag[idx].click()\n",
    "        \n",
    "        detail = driver.find_element_by_css_selector('div.item_tit_detail_cont')\n",
    "\n",
    "        names.append(detail.find_element_by_css_selector('div.item_detail_tit > h3').text)\n",
    "        prices.append(detail.find_element_by_css_selector('div.item_detail_list > dl.item_price > dd > strong').text)\n",
    "\n",
    "        driver.back()\n",
    "\n",
    "        elements = driver.find_elements_by_css_selector('div.goods_list > div.goods_list_cont > div.item_gallery_type > ul > li')\n",
    "        a_tag = driver.find_elements_by_css_selector('div.item_info_cont > div.item_tit_box > a')\n",
    "        \n",
    "        time.sleep(2)\n",
    "\n",
    "driver.close()\n",
    "\n",
    "print(len(names))\n",
    "print(len(prices))"
   ]
  }
 ],
 "metadata": {
  "kernelspec": {
   "display_name": "Python 3",
   "language": "python",
   "name": "python3"
  },
  "language_info": {
   "codemirror_mode": {
    "name": "ipython",
    "version": 3
   },
   "file_extension": ".py",
   "mimetype": "text/x-python",
   "name": "python",
   "nbconvert_exporter": "python",
   "pygments_lexer": "ipython3",
   "version": "3.6.5"
  }
 },
 "nbformat": 4,
 "nbformat_minor": 2
}
