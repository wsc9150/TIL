{
 "cells": [
  {
   "cell_type": "markdown",
   "metadata": {},
   "source": [
    "## Selenium 시작하기"
   ]
  },
  {
   "cell_type": "code",
   "execution_count": 3,
   "metadata": {},
   "outputs": [],
   "source": [
    "from selenium import webdriver"
   ]
  },
  {
   "cell_type": "code",
   "execution_count": 4,
   "metadata": {},
   "outputs": [
    {
     "data": {
      "text/plain": [
       "<selenium.webdriver.chrome.webdriver.WebDriver (session=\"25c0b37efb20b3533e97c64867633b8d\")>"
      ]
     },
     "execution_count": 4,
     "metadata": {},
     "output_type": "execute_result"
    }
   ],
   "source": [
    "path = './driver/chromedriver.exe'\n",
    "driver = webdriver.Chrome(path)\n",
    "driver"
   ]
  },
  {
   "cell_type": "code",
   "execution_count": 5,
   "metadata": {},
   "outputs": [],
   "source": [
    "driver.get('https://www.google.com')"
   ]
  },
  {
   "cell_type": "code",
   "execution_count": 6,
   "metadata": {},
   "outputs": [],
   "source": [
    "driver.close()"
   ]
  },
  {
   "cell_type": "markdown",
   "metadata": {},
   "source": [
    "## json 형식의 파일 크롤링"
   ]
  },
  {
   "cell_type": "code",
   "execution_count": 9,
   "metadata": {},
   "outputs": [],
   "source": [
    "import json, re\n",
    "from urllib.request import urlopen\n",
    "from html import unescape"
   ]
  },
  {
   "cell_type": "code",
   "execution_count": 50,
   "metadata": {},
   "outputs": [],
   "source": [
    "# 웹 페이지 읽어오기\n",
    "request = urlopen('https://www.hanbit.co.kr/store/books/full_book_list.html')\n",
    "encoding = request.info().get_content_charset('utf-8')\n",
    "\n",
    "# decode 가 없으면 한글깨짐현상이 발생한다.\n",
    "html = request.read().decode(encoding)\n",
    "# html"
   ]
  },
  {
   "cell_type": "markdown",
   "metadata": {},
   "source": [
    "### json 함수\n",
    "- json.dumps() : 데이터를 json 형태로 인코딩(출력) (문자열)\n",
    "- json.dump() : 데이터를 json 형태로 인코딩하여 파일에 출력 (파일)\n",
    "- ensure_ascii = False : \\xxxxx 형태로 이스케이프하지 않고 정상적으로 한글 출력\n",
    "- [{key : value}, {key : value}] 출력 형식일 경우 -> indent = size 옵션 -> 간격을 줘서 가독성을 높일 수 있다. "
   ]
  },
  {
   "cell_type": "markdown",
   "metadata": {},
   "source": [
    "### 정규표현식\n",
    "- . : 모든 문자\n",
    "- \\* : 0번 이상 반복\n",
    "- ? : 있어도 되고 없어도 된다.\n",
    "- < a href=\"(.*?)\" > : 이런 형식의 태그를 검색\n",
    "- < td class='left' ><a.*?< /td > : class 가 left 인 td 태그의 하위태그에 < a > 가 있는 태그를 검색"
   ]
  },
  {
   "cell_type": "markdown",
   "metadata": {},
   "source": [
    "## json 파일 생성"
   ]
  },
  {
   "cell_type": "code",
   "execution_count": 70,
   "metadata": {},
   "outputs": [],
   "source": [
    "with open('./data/booklist_json.json', mode = 'w', encoding = 'utf-8') as file :\n",
    "    data = []\n",
    "    \n",
    "    # re.find_all() : 정규 표현식을 사용하겠다는 것\n",
    "    # <td class=\"left\"><a.*?</td> : 태그 형식이 이렇게 되어있는 것들을 추출\n",
    "    for partial_html in re.findall(r'<td class=\"left\"><a.*?</td>', html) :\n",
    "        # print(partial_html)\n",
    "        \n",
    "        # group() : 매칭되는 태그만 가져온다.\n",
    "        # group(1) : 매칭되는 태그의 내용을 가져온다. \n",
    "        search = re.search(r'<a href=\"(.*?)\">', partial_html).group(1)\n",
    "        url = 'http://www.hanbit.co.kr' + search\n",
    "        \n",
    "        title = re.sub(r'<.*?>', '', partial_html)\n",
    "        # print(title)\n",
    "        data.append({'bookName' : title, 'link' : url})\n",
    "        # json.dumps(data, ensure_ascii = False, indent = 2)\n",
    "    \n",
    "    json.dump(data, file, ensure_ascii = False, indent = 2)"
   ]
  },
  {
   "cell_type": "code",
   "execution_count": 71,
   "metadata": {},
   "outputs": [],
   "source": [
    "import json"
   ]
  },
  {
   "cell_type": "code",
   "execution_count": 72,
   "metadata": {},
   "outputs": [],
   "source": [
    "# json 파일 읽기\n",
    "with open('./data/booklist_json.json', mode = 'r', encoding = 'utf-8') as file :\n",
    "    json_data = json.load(file)"
   ]
  },
  {
   "cell_type": "code",
   "execution_count": 75,
   "metadata": {},
   "outputs": [
    {
     "name": "stdout",
     "output_type": "stream",
     "text": [
      "50\n",
      "[\n",
      "  {\n",
      "    \"bookName\": \"나는 꼭 필요한 것만 남기기로 했다\",\n",
      "    \"link\": \"http://www.hanbit.co.kr/store/books/look.php?p_code=B7269609529\"\n",
      "  },\n",
      "  {\n",
      "    \"bookName\": \"파이썬과 대스크를 활용한 고성능 데이터 분석\",\n",
      "    \"link\": \"http://www.hanbit.co.kr/store/books/look.php?p_code=B4595034178\"\n",
      "  },\n",
      "  {\n",
      "    \"bookName\": \"웹어셈블리 인 액션\",\n",
      "    \"link\": \"http://www.hanbit.co.kr/store/books/look.php?p_code=B5654500071\"\n",
      "  },\n",
      "  {\n",
      "    \"bookName\": \"쉽게 배워 바로 써먹는 디자인 패턴\",\n",
      "    \"link\": \"http://www.hanbit.co.kr/store/books/look.php?p_code=B9696096335\"\n",
      "  },\n",
      "  {\n",
      "    \"bookName\": \"부의 원칙\",\n",
      "    \"link\": \"http://www.hanbit.co.kr/store/books/look.php?p_code=B1303121763\"\n",
      "  }\n",
      "]\n"
     ]
    }
   ],
   "source": [
    "print(len(json_data))\n",
    "\n",
    "# 5개만 출력\n",
    "print(json.dumps(json_data[:5], ensure_ascii = False, indent = 2))"
   ]
  },
  {
   "cell_type": "code",
   "execution_count": 76,
   "metadata": {},
   "outputs": [
    {
     "data": {
      "text/plain": [
       "'나는 꼭 필요한 것만 남기기로 했다'"
      ]
     },
     "execution_count": 76,
     "metadata": {},
     "output_type": "execute_result"
    }
   ],
   "source": [
    "# json 데이터에 대한 접근\n",
    "json_data[0]['bookName']"
   ]
  },
  {
   "cell_type": "markdown",
   "metadata": {},
   "source": [
    "### Selenium 특정 요소를 찾는 함수\n",
    "- find_element_*()\n",
    "- find_elements_*()\n",
    "- find_element_by_id()\n",
    "- find_element_by_name()\n",
    "- find_element_by_css_selector()\n",
    "- find_element_by_tag_name()\n",
    "\n",
    "- return 시켜주는 타입 WebElement 객체를 리턴 -> text "
   ]
  },
  {
   "cell_type": "code",
   "execution_count": 110,
   "metadata": {},
   "outputs": [
    {
     "data": {
      "text/plain": [
       "<selenium.webdriver.chrome.webdriver.WebDriver (session=\"46232ce206830400ddebf71b4c3d40e6\")>"
      ]
     },
     "execution_count": 110,
     "metadata": {},
     "output_type": "execute_result"
    }
   ],
   "source": [
    "from selenium import webdriver\n",
    "import time\n",
    "\n",
    "path = './driver/chromedriver.exe'\n",
    "driver = webdriver.Chrome(path)\n",
    "driver"
   ]
  },
  {
   "cell_type": "code",
   "execution_count": 111,
   "metadata": {},
   "outputs": [],
   "source": [
    "driver.get('https://python.org')"
   ]
  },
  {
   "cell_type": "code",
   "execution_count": 112,
   "metadata": {},
   "outputs": [],
   "source": [
    "menus = driver.find_elements_by_css_selector('#top ul.menu li')\n",
    "# menus"
   ]
  },
  {
   "cell_type": "code",
   "execution_count": 113,
   "metadata": {},
   "outputs": [],
   "source": [
    "click_menu = None\n",
    "for menu in menus :\n",
    "    # print(menu.text)\n",
    "    if menu.text == 'Python' :\n",
    "        click_menu = menu\n",
    "\n",
    "# 메뉴 클릭 수행\n",
    "click_menu.click()\n",
    "time.sleep(5)\n",
    "\n",
    "driver.close()"
   ]
  },
  {
   "cell_type": "code",
   "execution_count": 114,
   "metadata": {},
   "outputs": [
    {
     "data": {
      "text/plain": [
       "<selenium.webdriver.chrome.webdriver.WebDriver (session=\"2a7391e5a91a7dedaf485c4b15648395\")>"
      ]
     },
     "execution_count": 114,
     "metadata": {},
     "output_type": "execute_result"
    }
   ],
   "source": [
    "path = './driver/chromedriver.exe'\n",
    "driver = webdriver.Chrome(path)\n",
    "driver"
   ]
  },
  {
   "cell_type": "code",
   "execution_count": 115,
   "metadata": {},
   "outputs": [],
   "source": [
    "driver.get('https://datalab.naver.com/shoppingInsight/sCategory.naver')"
   ]
  },
  {
   "cell_type": "code",
   "execution_count": 116,
   "metadata": {},
   "outputs": [
    {
     "name": "stdout",
     "output_type": "stream",
     "text": [
      "<selenium.webdriver.remote.webelement.WebElement (session=\"2a7391e5a91a7dedaf485c4b15648395\", element=\"b8d7c9bc-b5f1-439e-b9ae-252432cad1b4\")>\n"
     ]
    }
   ],
   "source": [
    "tagNames = driver.find_element_by_css_selector('.rank_top1000_list')\n",
    "print(tagNames)"
   ]
  },
  {
   "cell_type": "code",
   "execution_count": 118,
   "metadata": {},
   "outputs": [
    {
     "name": "stdout",
     "output_type": "stream",
     "text": [
      "['1', '원피스']\n",
      "['2', '나이키맨투맨']\n",
      "['3', '나이키바람막이']\n",
      "['4', '맨투맨']\n",
      "['5', '바람막이']\n",
      "['6', '후드집업']\n",
      "['7', '나이키후드티']\n",
      "['8', '트위드자켓']\n",
      "['9', '해리슨캐시미어코트']\n",
      "['10', '트렌치코트']\n",
      "['11', '나이키후드집업']\n",
      "['12', '후리스']\n",
      "['13', '가디건']\n",
      "['14', '잠옷']\n",
      "['15', '가을원피스']\n",
      "['16', '후드티']\n",
      "['17', '써스데이아일랜드원피스']\n",
      "['18', '니트원피스']\n",
      "['19', '라코스테가디건']\n",
      "['20', '블라우스']\n"
     ]
    }
   ],
   "source": [
    "li_tag_list = tagNames.find_elements_by_tag_name('li')\n",
    "\n",
    "for li in li_tag_list :\n",
    "    print(li.text.split('\\n'))\n",
    "\n",
    "driver.close()"
   ]
  },
  {
   "cell_type": "code",
   "execution_count": 119,
   "metadata": {},
   "outputs": [],
   "source": [
    "path = './driver/chromedriver.exe'\n",
    "driver = webdriver.Chrome(path)\n",
    "driver.get('https://auto.naver.com/bike/mainList.nhn')"
   ]
  },
  {
   "cell_type": "code",
   "execution_count": 120,
   "metadata": {},
   "outputs": [],
   "source": [
    "# 바이크 제조사 전체 페이지 클릭 구현\n",
    "bikeElementBtn = driver.find_element_by_css_selector('#container > div.spot_main > div.spot_aside > div.tit > a')\n",
    "# bikeElementBtn = driver.find_element_by_css_selector('.detail_more')\n",
    "# print(all_manu.text)\n",
    "bikeElementBtn.click()"
   ]
  },
  {
   "cell_type": "code",
   "execution_count": 121,
   "metadata": {},
   "outputs": [],
   "source": [
    "# 바이크 제조사 1페이지 바이크 리스트 추출\n",
    "bikeElements = driver.find_elements_by_css_selector('#_vendor_select_layer > div > div.maker_group > div.emblem_area > ul > li')\n",
    "# print(bikeElements)\n",
    "\n",
    "# bikeElements = driver.find_elements_by_css_selector('.emblem_area > ul > li')\n",
    "# print(bikeElements)\n",
    "\n",
    "for bike_li in bikeElements:\n",
    "    companyName = bike_li.find_element_by_tag_name('span').text\n",
    "    \n",
    "    if (companyName != '') :\n",
    "        # print(companyName)\n",
    "        \n",
    "        # get_attribute : 태그의 속성을 가져온다.\n",
    "        img = bike_li.find_element_by_tag_name('img').get_attribute('src')\n",
    "        # print(img)\n",
    "\n",
    "        link = bike_li.find_element_by_tag_name('a').get_attribute('href')\n",
    "        # print(link)\n",
    "\n",
    "time.sleep(3)"
   ]
  },
  {
   "cell_type": "code",
   "execution_count": 122,
   "metadata": {},
   "outputs": [
    {
     "name": "stdout",
     "output_type": "stream",
     "text": [
      "True\n"
     ]
    }
   ],
   "source": [
    "# 제조사 리스트 버튼을 클릭하는 부분을 찾아보기\n",
    "nextBtn = driver.find_element_by_css_selector('#_vendor_select_layer > div > div.maker_group > div.rolling_btn > button.next')\n",
    "isFlag = nextBtn.is_enabled()\n",
    "print(isFlag)"
   ]
  },
  {
   "cell_type": "code",
   "execution_count": 123,
   "metadata": {},
   "outputs": [
    {
     "name": "stdout",
     "output_type": "stream",
     "text": [
      "next page exist\n"
     ]
    }
   ],
   "source": [
    "# 다음 페이지로 이동\n",
    "if isFlag == True :\n",
    "    print('next page exist')\n",
    "    nextBtn.click()\n",
    "    \n",
    "    bikeElementBtn = driver.find_element_by_css_selector('#container > div.spot_main > div.spot_aside > div.tit > a')\n",
    "    \n",
    "    for bike_li in bikeElements:\n",
    "        companyName = bike_li.find_element_by_tag_name('span').text\n",
    "\n",
    "        if (companyName != '') :\n",
    "            # print(companyName)\n",
    "\n",
    "            # get_attribute : 태그의 속성을 가져온다.\n",
    "            img = bike_li.find_element_by_tag_name('img').get_attribute('src')\n",
    "            # print(img)\n",
    "\n",
    "            link = bike_li.find_element_by_tag_name('a').get_attribute('href')\n",
    "            # print(link)\n",
    "\n",
    "driver.close()"
   ]
  }
 ],
 "metadata": {
  "kernelspec": {
   "display_name": "Python 3",
   "language": "python",
   "name": "python3"
  },
  "language_info": {
   "codemirror_mode": {
    "name": "ipython",
    "version": 3
   },
   "file_extension": ".py",
   "mimetype": "text/x-python",
   "name": "python",
   "nbconvert_exporter": "python",
   "pygments_lexer": "ipython3",
   "version": "3.6.5"
  }
 },
 "nbformat": 4,
 "nbformat_minor": 2
}
