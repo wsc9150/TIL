{
 "cells": [
  {
   "cell_type": "markdown",
   "metadata": {},
   "source": [
    "## Selenium 시작하기"
   ]
  },
  {
   "cell_type": "code",
   "execution_count": 2,
   "metadata": {},
   "outputs": [],
   "source": [
    "from selenium import webdriver"
   ]
  },
  {
   "cell_type": "code",
   "execution_count": 7,
   "metadata": {},
   "outputs": [
    {
     "data": {
      "text/plain": [
       "<selenium.webdriver.chrome.webdriver.WebDriver (session=\"3fabcaca224a431cffa7218b2a54e8d4\")>"
      ]
     },
     "execution_count": 7,
     "metadata": {},
     "output_type": "execute_result"
    }
   ],
   "source": [
    "path = './driver/chromedriver.exe'\n",
    "driver = webdriver.Chrome(path)\n",
    "driver"
   ]
  },
  {
   "cell_type": "code",
   "execution_count": 4,
   "metadata": {},
   "outputs": [],
   "source": [
    "driver.get('https://www.google.com')"
   ]
  },
  {
   "cell_type": "code",
   "execution_count": 5,
   "metadata": {},
   "outputs": [],
   "source": [
    "driver.close()"
   ]
  },
  {
   "cell_type": "markdown",
   "metadata": {},
   "source": [
    "## json 형식의 파일 크롤링"
   ]
  },
  {
   "cell_type": "code",
   "execution_count": 9,
   "metadata": {},
   "outputs": [],
   "source": [
    "import json, re\n",
    "from urllib.request import urlopen\n",
    "from html import unescape"
   ]
  },
  {
   "cell_type": "code",
   "execution_count": 50,
   "metadata": {},
   "outputs": [],
   "source": [
    "# 웹 페이지 읽어오기\n",
    "request = urlopen('https://www.hanbit.co.kr/store/books/full_book_list.html')\n",
    "encoding = request.info().get_content_charset('utf-8')\n",
    "\n",
    "# decode 가 없으면 한글깨짐현상이 발생한다.\n",
    "html = request.read().decode(encoding)\n",
    "# html"
   ]
  },
  {
   "cell_type": "markdown",
   "metadata": {},
   "source": [
    "### json 함수\n",
    "- json.dumps() : 데이터를 json 형태로 인코딩(출력) (문자열)\n",
    "- json.dump() : 데이터를 json 형태로 인코딩하여 파일에 출력 (파일)\n",
    "- ensure_ascii = False : \\xxxxx 형태로 이스케이프하지 않고 정상적으로 한글 출력\n",
    "- [{key : value}, {key : value}] 출력 형식일 경우 -> indent = size 옵션 -> 간격을 줘서 가독성을 높일 수 있다. "
   ]
  },
  {
   "cell_type": "markdown",
   "metadata": {},
   "source": [
    "### 정규표현식\n",
    "- . : 모든 문자\n",
    "- \\* : 0번 이상 반복\n",
    "- ? : 있어도 되고 없어도 된다.\n",
    "- < a href=\"(.*?)\" > : 이런 형식의 태그를 검색\n",
    "- < td class='left' ><a.*?< /td > : class 가 left 인 td 태그의 하위태그에 < a > 가 있는 태그를 검색"
   ]
  },
  {
   "cell_type": "markdown",
   "metadata": {},
   "source": [
    "## json 파일 생성"
   ]
  },
  {
   "cell_type": "code",
   "execution_count": 70,
   "metadata": {},
   "outputs": [],
   "source": [
    "with open('./data/booklist_json.json', mode = 'w', encoding = 'utf-8') as file :\n",
    "    data = []\n",
    "    \n",
    "    # re.find_all() : 정규 표현식을 사용하겠다는 것\n",
    "    # <td class=\"left\"><a.*?</td> : 태그 형식이 이렇게 되어있는 것들을 추출\n",
    "    for partial_html in re.findall(r'<td class=\"left\"><a.*?</td>', html) :\n",
    "        # print(partial_html)\n",
    "        \n",
    "        # group() : 매칭되는 태그만 가져온다.\n",
    "        # group(1) : 매칭되는 태그의 내용을 가져온다. \n",
    "        search = re.search(r'<a href=\"(.*?)\">', partial_html).group(1)\n",
    "        url = 'http://www.hanbit.co.kr' + search\n",
    "        \n",
    "        title = re.sub(r'<.*?>', '', partial_html)\n",
    "        # print(title)\n",
    "        data.append({'bookName' : title, 'link' : url})\n",
    "        # json.dumps(data, ensure_ascii = False, indent = 2)\n",
    "    \n",
    "    json.dump(data, file, ensure_ascii = False, indent = 2)"
   ]
  },
  {
   "cell_type": "code",
   "execution_count": 71,
   "metadata": {},
   "outputs": [],
   "source": [
    "import json"
   ]
  },
  {
   "cell_type": "code",
   "execution_count": 72,
   "metadata": {},
   "outputs": [],
   "source": [
    "# json 파일 읽기\n",
    "with open('./data/booklist_json.json', mode = 'r', encoding = 'utf-8') as file :\n",
    "    json_data = json.load(file)"
   ]
  },
  {
   "cell_type": "code",
   "execution_count": 75,
   "metadata": {},
   "outputs": [
    {
     "name": "stdout",
     "output_type": "stream",
     "text": [
      "50\n",
      "[\n",
      "  {\n",
      "    \"bookName\": \"나는 꼭 필요한 것만 남기기로 했다\",\n",
      "    \"link\": \"http://www.hanbit.co.kr/store/books/look.php?p_code=B7269609529\"\n",
      "  },\n",
      "  {\n",
      "    \"bookName\": \"파이썬과 대스크를 활용한 고성능 데이터 분석\",\n",
      "    \"link\": \"http://www.hanbit.co.kr/store/books/look.php?p_code=B4595034178\"\n",
      "  },\n",
      "  {\n",
      "    \"bookName\": \"웹어셈블리 인 액션\",\n",
      "    \"link\": \"http://www.hanbit.co.kr/store/books/look.php?p_code=B5654500071\"\n",
      "  },\n",
      "  {\n",
      "    \"bookName\": \"쉽게 배워 바로 써먹는 디자인 패턴\",\n",
      "    \"link\": \"http://www.hanbit.co.kr/store/books/look.php?p_code=B9696096335\"\n",
      "  },\n",
      "  {\n",
      "    \"bookName\": \"부의 원칙\",\n",
      "    \"link\": \"http://www.hanbit.co.kr/store/books/look.php?p_code=B1303121763\"\n",
      "  }\n",
      "]\n"
     ]
    }
   ],
   "source": [
    "print(len(json_data))\n",
    "\n",
    "# 5개만 출력\n",
    "print(json.dumps(json_data[:5], ensure_ascii = False, indent = 2))"
   ]
  },
  {
   "cell_type": "code",
   "execution_count": 76,
   "metadata": {},
   "outputs": [
    {
     "data": {
      "text/plain": [
       "'나는 꼭 필요한 것만 남기기로 했다'"
      ]
     },
     "execution_count": 76,
     "metadata": {},
     "output_type": "execute_result"
    }
   ],
   "source": [
    "# json 데이터에 대한 접근\n",
    "json_data[0]['bookName']"
   ]
  }
 ],
 "metadata": {
  "kernelspec": {
   "display_name": "Python 3",
   "language": "python",
   "name": "python3"
  },
  "language_info": {
   "codemirror_mode": {
    "name": "ipython",
    "version": 3
   },
   "file_extension": ".py",
   "mimetype": "text/x-python",
   "name": "python",
   "nbconvert_exporter": "python",
   "pygments_lexer": "ipython3",
   "version": "3.6.5"
  }
 },
 "nbformat": 4,
 "nbformat_minor": 2
}
