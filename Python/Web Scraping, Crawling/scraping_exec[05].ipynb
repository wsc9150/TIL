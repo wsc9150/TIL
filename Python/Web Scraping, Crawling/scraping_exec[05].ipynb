{
 "cells": [
  {
   "cell_type": "markdown",
   "metadata": {},
   "source": [
    "## 크롤링 준비 & 이미지 스크래핑 & 자연어 처리"
   ]
  },
  {
   "cell_type": "markdown",
   "metadata": {},
   "source": [
    "- 이미지 스크래핑"
   ]
  },
  {
   "cell_type": "code",
   "execution_count": 69,
   "metadata": {},
   "outputs": [],
   "source": [
    "from urllib.request import urlopen\n",
    "from bs4 import BeautifulSoup\n",
    "from urllib.error import HTTPError\n",
    "from urllib.error import URLError\n",
    "import pandas as pd\n",
    "from urllib.parse import quote_plus"
   ]
  },
  {
   "cell_type": "code",
   "execution_count": 70,
   "metadata": {},
   "outputs": [
    {
     "name": "stdout",
     "output_type": "stream",
     "text": [
      "검색어 입력 : 펭수\n",
      "스크랩할 이미지 개수 : 50\n"
     ]
    }
   ],
   "source": [
    "base_url = 'https://search.naver.com/search.naver?where=image&sm=tab_jum&query='\n",
    "keyword = input('검색어 입력 : ')\n",
    "imgCnt = int(input('스크랩할 이미지 개수 : '))\n",
    "\n",
    "try :\n",
    "    # quote_plus : 문자를 한국어로 인식하게 해주는 함수\n",
    "    url = base_url + quote_plus(keyword)\n",
    "    html = urlopen(url)\n",
    "except HTTPError as he :\n",
    "    print('http error')\n",
    "except URLError as ue :\n",
    "    print('url error')\n",
    "else :\n",
    "    soup = BeautifulSoup(html.read(), 'html.parser')"
   ]
  },
  {
   "cell_type": "code",
   "execution_count": 71,
   "metadata": {},
   "outputs": [],
   "source": [
    "img = soup.find_all('img', '_img')\n",
    "# img"
   ]
  },
  {
   "cell_type": "code",
   "execution_count": 72,
   "metadata": {},
   "outputs": [
    {
     "name": "stdout",
     "output_type": "stream",
     "text": [
      "image download success\n"
     ]
    }
   ],
   "source": [
    "cnt = 1\n",
    "for i in img :\n",
    "    imgUrl = i['data-source']\n",
    "    \n",
    "    with urlopen(imgUrl) as file :\n",
    "        # wb : write_binary. 사진을 읽어올때 주로 사용\n",
    "        with open('./images/' + str(cnt) + '.jpg', 'wb') as imgFile :\n",
    "            img = file.read()\n",
    "            imgFile.write(img)\n",
    "    \n",
    "    cnt += 1\n",
    "    if cnt > imgCnt :\n",
    "        break\n",
    "\n",
    "print('image download success')"
   ]
  },
  {
   "cell_type": "markdown",
   "metadata": {},
   "source": [
    "- 검색 키워드를 이용하여 원하는 제목과 링크만 가져오는 실습\n",
    "- csv 파일로 판다스의 DataFrame을 활용해서 저장"
   ]
  },
  {
   "cell_type": "code",
   "execution_count": 73,
   "metadata": {},
   "outputs": [
    {
     "name": "stdout",
     "output_type": "stream",
     "text": [
      "검색어 입력 : 손흥민\n"
     ]
    }
   ],
   "source": [
    "base_url = 'https://search.naver.com/search.naver?where=post&sm=tab_jum&query='\n",
    "keyword = input('검색어 입력 : ')\n",
    "\n",
    "try :\n",
    "    # quote_plus : 문자를 한국어로 인식하게 해주는 함수\n",
    "    url = base_url + quote_plus(keyword)\n",
    "    html = urlopen(url)\n",
    "except HTTPError as he :\n",
    "    print('http error')\n",
    "except URLError as ue :\n",
    "    print('url error')\n",
    "else :\n",
    "    soup = BeautifulSoup(html.read(), 'html.parser')"
   ]
  },
  {
   "cell_type": "code",
   "execution_count": 76,
   "metadata": {},
   "outputs": [
    {
     "data": {
      "text/html": [
       "<div>\n",
       "<style scoped>\n",
       "    .dataframe tbody tr th:only-of-type {\n",
       "        vertical-align: middle;\n",
       "    }\n",
       "\n",
       "    .dataframe tbody tr th {\n",
       "        vertical-align: top;\n",
       "    }\n",
       "\n",
       "    .dataframe thead th {\n",
       "        text-align: right;\n",
       "    }\n",
       "</style>\n",
       "<table border=\"1\" class=\"dataframe\">\n",
       "  <thead>\n",
       "    <tr style=\"text-align: right;\">\n",
       "      <th></th>\n",
       "      <th>title</th>\n",
       "      <th>link</th>\n",
       "    </tr>\n",
       "  </thead>\n",
       "  <tbody>\n",
       "    <tr>\n",
       "      <th>0</th>\n",
       "      <td>[영어과외] 토트넘 손흥민 요리스 싸움 | 화풀이하다 영어로 take it out on</td>\n",
       "      <td>https://blog.naver.com/tobemaven?Redirect=Log&amp;...</td>\n",
       "    </tr>\n",
       "    <tr>\n",
       "      <th>1</th>\n",
       "      <td>[토트넘 맨유] 손흥민 멀티골 작렬! 2골 1어시 !(feat.유럽 리그 통산 100골)</td>\n",
       "      <td>https://blog.naver.com/vpahs?Redirect=Log&amp;logN...</td>\n",
       "    </tr>\n",
       "    <tr>\n",
       "      <th>2</th>\n",
       "      <td>손흥민 맨유전 2골 1어시, 득점왕을 노려! (일본반응)</td>\n",
       "      <td>https://blog.naver.com/slayer_tr?Redirect=Log&amp;...</td>\n",
       "    </tr>\n",
       "    <tr>\n",
       "      <th>3</th>\n",
       "      <td>유일하게 신나는 뉴스 손흥민 네골 득점!</td>\n",
       "      <td>https://lkl7383.blog.me/222096282723</td>\n",
       "    </tr>\n",
       "    <tr>\n",
       "      <th>4</th>\n",
       "      <td>손흥민 잉글랜드 프리미어리그 EPL 최다 4골 폭풍 토트넘 케인 어시스트</td>\n",
       "      <td>https://blog.naver.com/mobile8889?Redirect=Log...</td>\n",
       "    </tr>\n",
       "  </tbody>\n",
       "</table>\n",
       "</div>"
      ],
      "text/plain": [
       "                                               title  \\\n",
       "0   [영어과외] 토트넘 손흥민 요리스 싸움 | 화풀이하다 영어로 take it out on   \n",
       "1  [토트넘 맨유] 손흥민 멀티골 작렬! 2골 1어시 !(feat.유럽 리그 통산 100골)   \n",
       "2                    손흥민 맨유전 2골 1어시, 득점왕을 노려! (일본반응)   \n",
       "3                             유일하게 신나는 뉴스 손흥민 네골 득점!   \n",
       "4           손흥민 잉글랜드 프리미어리그 EPL 최다 4골 폭풍 토트넘 케인 어시스트   \n",
       "\n",
       "                                                link  \n",
       "0  https://blog.naver.com/tobemaven?Redirect=Log&...  \n",
       "1  https://blog.naver.com/vpahs?Redirect=Log&logN...  \n",
       "2  https://blog.naver.com/slayer_tr?Redirect=Log&...  \n",
       "3               https://lkl7383.blog.me/222096282723  \n",
       "4  https://blog.naver.com/mobile8889?Redirect=Log...  "
      ]
     },
     "execution_count": 76,
     "metadata": {},
     "output_type": "execute_result"
    }
   ],
   "source": [
    "titles = soup.find_all('a', {'class' : 'sh_blog_title'})\n",
    "# titles\n",
    "\n",
    "title_list = []\n",
    "link_list = []\n",
    "\n",
    "for title in titles :\n",
    "    t = title['title']\n",
    "    # t = title.attrs['title']\n",
    "    title_list.append(t)\n",
    "    \n",
    "    l = title['href']\n",
    "    link_list.append(l)\n",
    "    \n",
    "\n",
    "df = pd.DataFrame({\n",
    "    'title' : title_list,\n",
    "    'link' : link_list\n",
    "})\n",
    "\n",
    "df.head()"
   ]
  },
  {
   "cell_type": "code",
   "execution_count": 77,
   "metadata": {},
   "outputs": [
    {
     "data": {
      "text/html": [
       "<div>\n",
       "<style scoped>\n",
       "    .dataframe tbody tr th:only-of-type {\n",
       "        vertical-align: middle;\n",
       "    }\n",
       "\n",
       "    .dataframe tbody tr th {\n",
       "        vertical-align: top;\n",
       "    }\n",
       "\n",
       "    .dataframe thead th {\n",
       "        text-align: right;\n",
       "    }\n",
       "</style>\n",
       "<table border=\"1\" class=\"dataframe\">\n",
       "  <thead>\n",
       "    <tr style=\"text-align: right;\">\n",
       "      <th></th>\n",
       "      <th>title</th>\n",
       "      <th>link</th>\n",
       "    </tr>\n",
       "  </thead>\n",
       "  <tbody>\n",
       "    <tr>\n",
       "      <th>0</th>\n",
       "      <td>[영어과외] 토트넘 손흥민 요리스 싸움 | 화풀이하다 영어로 take it out on</td>\n",
       "      <td>https://blog.naver.com/tobemaven?Redirect=Log&amp;...</td>\n",
       "    </tr>\n",
       "    <tr>\n",
       "      <th>1</th>\n",
       "      <td>[토트넘 맨유] 손흥민 멀티골 작렬! 2골 1어시 !(feat.유럽 리그 통산 100골)</td>\n",
       "      <td>https://blog.naver.com/vpahs?Redirect=Log&amp;logN...</td>\n",
       "    </tr>\n",
       "    <tr>\n",
       "      <th>2</th>\n",
       "      <td>손흥민 맨유전 2골 1어시, 득점왕을 노려! (일본반응)</td>\n",
       "      <td>https://blog.naver.com/slayer_tr?Redirect=Log&amp;...</td>\n",
       "    </tr>\n",
       "    <tr>\n",
       "      <th>3</th>\n",
       "      <td>유일하게 신나는 뉴스 손흥민 네골 득점!</td>\n",
       "      <td>https://lkl7383.blog.me/222096282723</td>\n",
       "    </tr>\n",
       "    <tr>\n",
       "      <th>4</th>\n",
       "      <td>손흥민 잉글랜드 프리미어리그 EPL 최다 4골 폭풍 토트넘 케인 어시스트</td>\n",
       "      <td>https://blog.naver.com/mobile8889?Redirect=Log...</td>\n",
       "    </tr>\n",
       "  </tbody>\n",
       "</table>\n",
       "</div>"
      ],
      "text/plain": [
       "                                               title  \\\n",
       "0   [영어과외] 토트넘 손흥민 요리스 싸움 | 화풀이하다 영어로 take it out on   \n",
       "1  [토트넘 맨유] 손흥민 멀티골 작렬! 2골 1어시 !(feat.유럽 리그 통산 100골)   \n",
       "2                    손흥민 맨유전 2골 1어시, 득점왕을 노려! (일본반응)   \n",
       "3                             유일하게 신나는 뉴스 손흥민 네골 득점!   \n",
       "4           손흥민 잉글랜드 프리미어리그 EPL 최다 4골 폭풍 토트넘 케인 어시스트   \n",
       "\n",
       "                                                link  \n",
       "0  https://blog.naver.com/tobemaven?Redirect=Log&...  \n",
       "1  https://blog.naver.com/vpahs?Redirect=Log&logN...  \n",
       "2  https://blog.naver.com/slayer_tr?Redirect=Log&...  \n",
       "3               https://lkl7383.blog.me/222096282723  \n",
       "4  https://blog.naver.com/mobile8889?Redirect=Log...  "
      ]
     },
     "execution_count": 77,
     "metadata": {},
     "output_type": "execute_result"
    }
   ],
   "source": [
    "# index = False\n",
    "# 불필요한 인덱싱을 넣지 않고 저장\n",
    "df.to_csv('./data/title.csv', mode = 'w', encoding = 'utf-8', index = False)\n",
    "\n",
    "df = pd.read_csv('./data/title.csv', encoding = 'utf-8')\n",
    "df.head()"
   ]
  },
  {
   "cell_type": "markdown",
   "metadata": {},
   "source": [
    "## 크롤링"
   ]
  },
  {
   "cell_type": "code",
   "execution_count": 78,
   "metadata": {},
   "outputs": [],
   "source": [
    "from time import sleep\n",
    "from random import randint\n",
    "import pandas as pd\n",
    "from IPython.core.display import clear_output\n",
    "from time import time\n",
    "from bs4 import BeautifulSoup\n",
    "from requests import get"
   ]
  },
  {
   "cell_type": "code",
   "execution_count": 79,
   "metadata": {},
   "outputs": [
    {
     "name": "stdout",
     "output_type": "stream",
     "text": [
      "request : 1, frequency : 0.4963505964591727\n",
      "request : 2, frequency : 0.49812010106806004\n",
      "request : 3, frequency : 0.5980182421790734\n",
      "request : 4, frequency : 0.663277984578086\n",
      "request : 5, frequency : 0.6217918296960604\n"
     ]
    }
   ],
   "source": [
    "# loop 사이에 잘 진행되고 있는지를 보기 위한 indicator sentence\n",
    "# 연습 단계\n",
    "start_time = time()\n",
    "# start_time\n",
    "requests = 0\n",
    "\n",
    "# 계속적으로 바뀌는 requests를 넣는데는 시간이 필요하다는 것을 확인하기 위한 단계\n",
    "for _ in range(5) :\n",
    "    requests += 1\n",
    "    sleep(randint(1, 3))\n",
    "    current_time = time()\n",
    "    elapsed_time = current_time - start_time\n",
    "    print('request : {}, frequency : {}'.format(requests, requests / elapsed_time))\n",
    "    # clear_output(wait = True)"
   ]
  },
  {
   "cell_type": "code",
   "execution_count": 80,
   "metadata": {},
   "outputs": [
    {
     "name": "stdout",
     "output_type": "stream",
     "text": [
      "검색어 입력 : 그래픽카드\n"
     ]
    }
   ],
   "source": [
    "base_url = 'https://search.naver.com/search.naver?where=post&sm=tab_jum&query='\n",
    "keyword = input('검색어 입력 : ')\n",
    "\n",
    "try :\n",
    "    # quote_plus : 문자를 한국어로 인식하게 해주는 함수\n",
    "    url = base_url + quote_plus(keyword)\n",
    "    html = urlopen(url)\n",
    "except HTTPError as he :\n",
    "    print('http error')\n",
    "except URLError as ue :\n",
    "    print('url error')\n",
    "else :\n",
    "    soup = BeautifulSoup(html.read(), 'html.parser')"
   ]
  },
  {
   "cell_type": "code",
   "execution_count": 81,
   "metadata": {},
   "outputs": [],
   "source": [
    "titles = soup.find_all('a', {'class' : 'sh_blog_title'})\n",
    "# titles"
   ]
  },
  {
   "cell_type": "code",
   "execution_count": 82,
   "metadata": {},
   "outputs": [
    {
     "data": {
      "text/plain": [
       "['1', '2', '3', '4', '5', '6', '7', '8', '9', '10']"
      ]
     },
     "execution_count": 82,
     "metadata": {},
     "output_type": "execute_result"
    }
   ],
   "source": [
    "pages = [str(i) for i in range(1, 11)]\n",
    "pages"
   ]
  },
  {
   "cell_type": "code",
   "execution_count": 83,
   "metadata": {},
   "outputs": [],
   "source": [
    "# loop 사이에 잘 진행되고 있는지를 보기 위한 indicator sentence\n",
    "start_time = time()\n",
    "requests = 0\n",
    "\n",
    "price_list = []\n",
    "link_list = []\n",
    "title_list = []\n",
    "\n",
    "for page in pages :\n",
    "    requests += 1\n",
    "    \n",
    "    url = get('https://search.shopping.naver.com/search/all?frm=NVSHATC&origQuery=%EA%B7%B8%EB%9E%98%ED%94%BD%EC%B9%B4%EB%93%9C&pagingIndex=' + page + '&pagingSize=40&productSet=total&query=%EA%B7%B8%EB%9E%98%ED%94%BD%EC%B9%B4%EB%93%9C&sort=rel&timestamp=&viewType=list')\n",
    "    \n",
    "    # request 에 delaytime 을 준다.\n",
    "    sleep(randint(1, 3))\n",
    "    current_time = time()\n",
    "    elapsed_time = current_time - start_time\n",
    "    \n",
    "    soup = BeautifulSoup(url.text, 'html.parser')\n",
    "    lis = soup.find_all('li', 'basicList_item__2XT81')\n",
    "    \n",
    "    for li in lis :\n",
    "        # title, link, price\n",
    "        title_list.append(li.find('a', 'basicList_link__1MaTN').text)\n",
    "        price_list.append(li.find('span', 'price_num__2WUXn').text)\n",
    "        link_list.append(li.find('a', 'basicList_link__1MaTN').attrs['href'])\n",
    "    \n",
    "# print(len(title_list))\n",
    "# print(len(price_list))\n",
    "# print(len(link_list))"
   ]
  },
  {
   "cell_type": "code",
   "execution_count": 64,
   "metadata": {},
   "outputs": [],
   "source": [
    "# 다른 방법\n",
    "\n",
    "price_list = []\n",
    "title_list = []\n",
    "link_list  = []\n",
    "\n",
    "# loop 사이에 잘 진행되고 있는지를 보기위한  indicator sentence\n",
    "start_time = time()\n",
    "requests = 0\n",
    "for page in pages :\n",
    "    requests += 1\n",
    "    \n",
    "    url = get('https://search.shopping.naver.com/search/all?frm=NVSHATC&origQuery=%EA%B7%B8%EB%9E%98%ED%94%BD%EC%B9%B4%EB%93%9C&pagingIndex=' + page + '&pagingSize=40&productSet=total&query=%EA%B7%B8%EB%9E%98%ED%94%BD%EC%B9%B4%EB%93%9C&sort=rel&timestamp=&viewType=list')\n",
    "    sleep(randint(1,3))\n",
    "    current_time = time()\n",
    "    elapsed_time = current_time - start_time\n",
    "    \n",
    "    soup = BeautifulSoup(url.text, 'html.parser')\n",
    "    # title, link, price\n",
    "    # 가격 가져오기\n",
    "    prices = soup.select('.price_num__2WUXn')\n",
    "    prices_text = [price.text for price in prices]\n",
    "    price_list.extend(prices_text)\n",
    "    \n",
    "    # 타이틀, 링크 가져오기\n",
    "    titles = soup.select('.basicList_link__1MaTN')\n",
    "    titles_text = [title.text for title in titles]\n",
    "    title_list.extend(titles_text)\n",
    "\n",
    "    link_text = [title['href'] for title in titles]\n",
    "    link_list.extend(link_text)\n",
    "\n",
    "# print(len(title_list))\n",
    "# print(len(price_list))\n",
    "# print(len(link_list))"
   ]
  },
  {
   "cell_type": "code",
   "execution_count": 84,
   "metadata": {},
   "outputs": [
    {
     "data": {
      "text/html": [
       "<div>\n",
       "<style scoped>\n",
       "    .dataframe tbody tr th:only-of-type {\n",
       "        vertical-align: middle;\n",
       "    }\n",
       "\n",
       "    .dataframe tbody tr th {\n",
       "        vertical-align: top;\n",
       "    }\n",
       "\n",
       "    .dataframe thead th {\n",
       "        text-align: right;\n",
       "    }\n",
       "</style>\n",
       "<table border=\"1\" class=\"dataframe\">\n",
       "  <thead>\n",
       "    <tr style=\"text-align: right;\">\n",
       "      <th></th>\n",
       "      <th>title</th>\n",
       "      <th>price</th>\n",
       "      <th>link</th>\n",
       "    </tr>\n",
       "  </thead>\n",
       "  <tbody>\n",
       "    <tr>\n",
       "      <th>0</th>\n",
       "      <td>조텍 GAMING 지포스 GTX 1660 SUPER AMP D6 6GB 백플레이트</td>\n",
       "      <td>295,890원</td>\n",
       "      <td>https://adcr.naver.com/adcr?x=cIBtNz0L8l+oM5UR...</td>\n",
       "    </tr>\n",
       "    <tr>\n",
       "      <th>1</th>\n",
       "      <td>조텍 RTX 2060 SUPER OC D6 8GB White Edition</td>\n",
       "      <td>525,190원</td>\n",
       "      <td>https://adcr.naver.com/adcr?x=PZVpf0geW4ylwyDM...</td>\n",
       "    </tr>\n",
       "    <tr>\n",
       "      <th>2</th>\n",
       "      <td>이엠텍 지포스 GTX 1660 SUPER STORM X Dual OC D6 6GB</td>\n",
       "      <td>289,470원</td>\n",
       "      <td>https://adcr.naver.com/adcr?x=igreobLuhQv5lZiZ...</td>\n",
       "    </tr>\n",
       "    <tr>\n",
       "      <th>3</th>\n",
       "      <td>MSI 지포스 GTX1050 Ti OC D5 4GB 윈드스톰</td>\n",
       "      <td>166,970원</td>\n",
       "      <td>https://cr.shopping.naver.com/adcr.nhn?x=BWxUL...</td>\n",
       "    </tr>\n",
       "    <tr>\n",
       "      <th>4</th>\n",
       "      <td>이엠텍 지포스 GTX 1660 SUPER STORM X Dual OC D6 6GB</td>\n",
       "      <td>289,470원</td>\n",
       "      <td>https://cr.shopping.naver.com/adcr.nhn?x=RiVAy...</td>\n",
       "    </tr>\n",
       "  </tbody>\n",
       "</table>\n",
       "</div>"
      ],
      "text/plain": [
       "                                           title     price  \\\n",
       "0  조텍 GAMING 지포스 GTX 1660 SUPER AMP D6 6GB 백플레이트  295,890원   \n",
       "1      조텍 RTX 2060 SUPER OC D6 8GB White Edition  525,190원   \n",
       "2  이엠텍 지포스 GTX 1660 SUPER STORM X Dual OC D6 6GB  289,470원   \n",
       "3              MSI 지포스 GTX1050 Ti OC D5 4GB 윈드스톰  166,970원   \n",
       "4  이엠텍 지포스 GTX 1660 SUPER STORM X Dual OC D6 6GB  289,470원   \n",
       "\n",
       "                                                link  \n",
       "0  https://adcr.naver.com/adcr?x=cIBtNz0L8l+oM5UR...  \n",
       "1  https://adcr.naver.com/adcr?x=PZVpf0geW4ylwyDM...  \n",
       "2  https://adcr.naver.com/adcr?x=igreobLuhQv5lZiZ...  \n",
       "3  https://cr.shopping.naver.com/adcr.nhn?x=BWxUL...  \n",
       "4  https://cr.shopping.naver.com/adcr.nhn?x=RiVAy...  "
      ]
     },
     "execution_count": 84,
     "metadata": {},
     "output_type": "execute_result"
    }
   ],
   "source": [
    "python_page_df = pd.DataFrame({\n",
    "    'title' : title_list,\n",
    "    'price' : price_list,\n",
    "    'link' : link_list\n",
    "})\n",
    "\n",
    "python_page_df.head()"
   ]
  },
  {
   "cell_type": "code",
   "execution_count": 85,
   "metadata": {},
   "outputs": [
    {
     "data": {
      "text/html": [
       "<div>\n",
       "<style scoped>\n",
       "    .dataframe tbody tr th:only-of-type {\n",
       "        vertical-align: middle;\n",
       "    }\n",
       "\n",
       "    .dataframe tbody tr th {\n",
       "        vertical-align: top;\n",
       "    }\n",
       "\n",
       "    .dataframe thead th {\n",
       "        text-align: right;\n",
       "    }\n",
       "</style>\n",
       "<table border=\"1\" class=\"dataframe\">\n",
       "  <thead>\n",
       "    <tr style=\"text-align: right;\">\n",
       "      <th></th>\n",
       "      <th>title</th>\n",
       "      <th>price</th>\n",
       "      <th>link</th>\n",
       "    </tr>\n",
       "  </thead>\n",
       "  <tbody>\n",
       "    <tr>\n",
       "      <th>0</th>\n",
       "      <td>조텍 GAMING 지포스 GTX 1660 SUPER AMP D6 6GB 백플레이트</td>\n",
       "      <td>295,890원</td>\n",
       "      <td>https://adcr.naver.com/adcr?x=cIBtNz0L8l+oM5UR...</td>\n",
       "    </tr>\n",
       "    <tr>\n",
       "      <th>1</th>\n",
       "      <td>조텍 RTX 2060 SUPER OC D6 8GB White Edition</td>\n",
       "      <td>525,190원</td>\n",
       "      <td>https://adcr.naver.com/adcr?x=PZVpf0geW4ylwyDM...</td>\n",
       "    </tr>\n",
       "    <tr>\n",
       "      <th>2</th>\n",
       "      <td>이엠텍 지포스 GTX 1660 SUPER STORM X Dual OC D6 6GB</td>\n",
       "      <td>289,470원</td>\n",
       "      <td>https://adcr.naver.com/adcr?x=igreobLuhQv5lZiZ...</td>\n",
       "    </tr>\n",
       "    <tr>\n",
       "      <th>3</th>\n",
       "      <td>MSI 지포스 GTX1050 Ti OC D5 4GB 윈드스톰</td>\n",
       "      <td>166,970원</td>\n",
       "      <td>https://cr.shopping.naver.com/adcr.nhn?x=BWxUL...</td>\n",
       "    </tr>\n",
       "    <tr>\n",
       "      <th>4</th>\n",
       "      <td>이엠텍 지포스 GTX 1660 SUPER STORM X Dual OC D6 6GB</td>\n",
       "      <td>289,470원</td>\n",
       "      <td>https://cr.shopping.naver.com/adcr.nhn?x=RiVAy...</td>\n",
       "    </tr>\n",
       "  </tbody>\n",
       "</table>\n",
       "</div>"
      ],
      "text/plain": [
       "                                           title     price  \\\n",
       "0  조텍 GAMING 지포스 GTX 1660 SUPER AMP D6 6GB 백플레이트  295,890원   \n",
       "1      조텍 RTX 2060 SUPER OC D6 8GB White Edition  525,190원   \n",
       "2  이엠텍 지포스 GTX 1660 SUPER STORM X Dual OC D6 6GB  289,470원   \n",
       "3              MSI 지포스 GTX1050 Ti OC D5 4GB 윈드스톰  166,970원   \n",
       "4  이엠텍 지포스 GTX 1660 SUPER STORM X Dual OC D6 6GB  289,470원   \n",
       "\n",
       "                                                link  \n",
       "0  https://adcr.naver.com/adcr?x=cIBtNz0L8l+oM5UR...  \n",
       "1  https://adcr.naver.com/adcr?x=PZVpf0geW4ylwyDM...  \n",
       "2  https://adcr.naver.com/adcr?x=igreobLuhQv5lZiZ...  \n",
       "3  https://cr.shopping.naver.com/adcr.nhn?x=BWxUL...  \n",
       "4  https://cr.shopping.naver.com/adcr.nhn?x=RiVAy...  "
      ]
     },
     "execution_count": 85,
     "metadata": {},
     "output_type": "execute_result"
    }
   ],
   "source": [
    "python_page_df.to_csv('./data/GraphicCards.csv', mode = 'w', encoding = 'utf-8', index = False)\n",
    "\n",
    "df = pd.read_csv('./data/GraphicCards.csv', encoding = 'utf-8')\n",
    "df.head()"
   ]
  }
 ],
 "metadata": {
  "kernelspec": {
   "display_name": "Python 3",
   "language": "python",
   "name": "python3"
  },
  "language_info": {
   "codemirror_mode": {
    "name": "ipython",
    "version": 3
   },
   "file_extension": ".py",
   "mimetype": "text/x-python",
   "name": "python",
   "nbconvert_exporter": "python",
   "pygments_lexer": "ipython3",
   "version": "3.6.5"
  }
 },
 "nbformat": 4,
 "nbformat_minor": 2
}
