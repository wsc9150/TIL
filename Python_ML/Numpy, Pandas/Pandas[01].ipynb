{
 "cells": [
  {
   "cell_type": "markdown",
   "metadata": {},
   "source": [
    "# Pandas\n",
    "- 분석하려는 데이터는 대부분 시계열(Series) 또는 표(table) 형태로 정의해야 한다.\n",
    "- Series 클래스와 DataFrame 클래스 제공"
   ]
  },
  {
   "cell_type": "code",
   "execution_count": 4,
   "metadata": {},
   "outputs": [],
   "source": [
    "import pandas as pd\n",
    "import numpy as np\n",
    "import matplotlib.pyplot as plt"
   ]
  },
  {
   "cell_type": "markdown",
   "metadata": {},
   "source": [
    "### Series 클래스\n",
    "- numpy의 1차원배열과 비슷하지만 각 데이터의 의미를 표시하는 인덱스를 붙일 수 있다.\n",
    "- series = index + value"
   ]
  },
  {
   "cell_type": "code",
   "execution_count": 6,
   "metadata": {},
   "outputs": [
    {
     "name": "stdout",
     "output_type": "stream",
     "text": [
      "[1 2 3 4 'jslim']\n",
      "object\n"
     ]
    }
   ],
   "source": [
    "# Series 와 numpy array 비교\n",
    "arr = np.array([1, 2, 3, 4, 'jslim'], dtype = np.object)\n",
    "print(arr)\n",
    "print(arr.dtype)"
   ]
  },
  {
   "cell_type": "code",
   "execution_count": 13,
   "metadata": {},
   "outputs": [
    {
     "name": "stdout",
     "output_type": "stream",
     "text": [
      "0    1.0\n",
      "1    2.0\n",
      "2    3.0\n",
      "3    4.0\n",
      "dtype: float64\n",
      "[1. 2. 3. 4.]\n",
      "<class 'numpy.ndarray'>\n",
      "RangeIndex(start=0, stop=4, step=1)\n",
      "<class 'pandas.core.indexes.range.RangeIndex'>\n"
     ]
    }
   ],
   "source": [
    "s = pd.Series([1, 2, 3, 4], dtype = np.float64)\n",
    "print(s)\n",
    "print(s.values) # 값만 가져올 수 있다.\n",
    "print(type(s.values)) # 값만 가져오면 배열이 된다.\n",
    "print(s.index)\n",
    "print(type(s.index))"
   ]
  },
  {
   "cell_type": "code",
   "execution_count": 20,
   "metadata": {},
   "outputs": [],
   "source": [
    "def seriesInfo(s) :\n",
    "    print('value :', s.values)\n",
    "    print('value type :', type(s.values))\n",
    "    print('index :', s.index)\n",
    "    print('index type :', type(s.index))\n",
    "    print('index + value :')\n",
    "    print(s)"
   ]
  },
  {
   "cell_type": "code",
   "execution_count": 32,
   "metadata": {},
   "outputs": [
    {
     "name": "stdout",
     "output_type": "stream",
     "text": [
      "value : [344234 234237 345378 456741]\n",
      "value type : <class 'numpy.ndarray'>\n",
      "index : Index(['서울', '부산', '대전', '광주'], dtype='object')\n",
      "index type : <class 'pandas.core.indexes.base.Index'>\n",
      "index + value :\n",
      "서울    344234\n",
      "부산    234237\n",
      "대전    345378\n",
      "광주    456741\n",
      "dtype: int32\n"
     ]
    }
   ],
   "source": [
    "# index의 라벨은 문자열 뿐만 아리나 날짜, 시간, 정수 등 가능\n",
    "s = pd.Series([344234, 234237, 345378, 456741], dtype = np.int32, index = ['서울', '부산', '대전', '광주'])\n",
    "seriesInfo(s)"
   ]
  },
  {
   "cell_type": "code",
   "execution_count": 33,
   "metadata": {},
   "outputs": [
    {
     "name": "stdout",
     "output_type": "stream",
     "text": [
      "지역별\n",
      "서울    344234\n",
      "부산    234237\n",
      "대전    345378\n",
      "광주    456741\n",
      "dtype: int32\n"
     ]
    }
   ],
   "source": [
    "s.index.name = '지역별'\n",
    "print(s)"
   ]
  },
  {
   "cell_type": "code",
   "execution_count": 38,
   "metadata": {},
   "outputs": [
    {
     "data": {
      "text/plain": [
       "지역별\n",
       "서울    3.44234\n",
       "부산    2.34237\n",
       "대전    3.45378\n",
       "광주    4.56741\n",
       "dtype: float64"
      ]
     },
     "execution_count": 38,
     "metadata": {},
     "output_type": "execute_result"
    }
   ],
   "source": [
    "# Series 연산\n",
    "# index에 영향을 미치지 않는다.\n",
    "s / 100000"
   ]
  },
  {
   "cell_type": "markdown",
   "metadata": {},
   "source": [
    "### series indexing"
   ]
  },
  {
   "cell_type": "code",
   "execution_count": 41,
   "metadata": {},
   "outputs": [
    {
     "name": "stdout",
     "output_type": "stream",
     "text": [
      "344234\n",
      "344234\n"
     ]
    }
   ],
   "source": [
    "print(s[0])\n",
    "print(s['서울'])"
   ]
  },
  {
   "cell_type": "code",
   "execution_count": 48,
   "metadata": {},
   "outputs": [
    {
     "name": "stdout",
     "output_type": "stream",
     "text": [
      "지역별\n",
      "서울    344234\n",
      "부산    234237\n",
      "dtype: int32\n",
      "**************************************************\n",
      "지역별\n",
      "서울    344234\n",
      "부산    234237\n",
      "dtype: int32\n",
      "**************************************************\n",
      "지역별\n",
      "서울    344234\n",
      "대전    345378\n",
      "dtype: int32\n",
      "**************************************************\n",
      "지역별\n",
      "서울    344234\n",
      "대전    345378\n",
      "dtype: int32\n"
     ]
    }
   ],
   "source": [
    "print(s[0:2])\n",
    "print('*' * 50)\n",
    "\n",
    "print(s['서울' : '부산']) # label indexing 은 정수가 아니기 때문에 end - 1 을 하지 않는다.\n",
    "print('*' * 50)\n",
    "\n",
    "print(s[['서울', '대전']]) # 부분 indexing 은 대괄호를 하나 더 추가해준다.\n",
    "print('*' * 50)\n",
    "\n",
    "print(s[[0, 2]])"
   ]
  },
  {
   "cell_type": "code",
   "execution_count": 51,
   "metadata": {},
   "outputs": [
    {
     "name": "stdout",
     "output_type": "stream",
     "text": [
      "True\n",
      "**************************************************\n",
      "key : 서울, value : 344234\n",
      "key : 부산, value : 234237\n",
      "key : 대전, value : 345378\n",
      "key : 광주, value : 456741\n"
     ]
    }
   ],
   "source": [
    "# dictionary 데이터 타입처럼 사용 가능\n",
    "print('서울' in s)\n",
    "print('*' * 50)\n",
    "\n",
    "for key, value in s.items() :\n",
    "    print('key : {}, value : {}'.format(key, value))"
   ]
  },
  {
   "cell_type": "code",
   "execution_count": 62,
   "metadata": {},
   "outputs": [
    {
     "name": "stdout",
     "output_type": "stream",
     "text": [
      "value : [ 1  5 -8 10]\n",
      "value type : <class 'numpy.ndarray'>\n",
      "index : Index(['c', 'b', 'a', 'k'], dtype='object')\n",
      "index type : <class 'pandas.core.indexes.base.Index'>\n",
      "index + value :\n",
      "c     1\n",
      "b     5\n",
      "a    -8\n",
      "k    10\n",
      "dtype: int64\n"
     ]
    }
   ],
   "source": [
    "s2 = pd.Series({'c' : 1, 'b' : 5, 'a' : -8, 'k' : 10})\n",
    "seriesInfo(s2)"
   ]
  },
  {
   "cell_type": "code",
   "execution_count": 63,
   "metadata": {},
   "outputs": [
    {
     "name": "stdout",
     "output_type": "stream",
     "text": [
      "fancy [0, 2] indexing : \n",
      "c    1\n",
      "a   -8\n",
      "dtype: int64\n",
      "**************************************************\n",
      "boolean 2의 배수 : \n",
      "a    -8\n",
      "k    10\n",
      "dtype: int64\n"
     ]
    }
   ],
   "source": [
    "# Fancy Indexing & Boolean Indexing\n",
    "print('fancy [0, 2] indexing : \\n{}'.format(s2[[0, 2]]))\n",
    "print('*' * 50)\n",
    "\n",
    "print('boolean 2의 배수 : \\n{}'.format(s2[s2 % 2 == 0]))"
   ]
  },
  {
   "cell_type": "code",
   "execution_count": 65,
   "metadata": {},
   "outputs": [
    {
     "name": "stdout",
     "output_type": "stream",
     "text": [
      "value : [    nan 456741. 234237. 344234.]\n",
      "value type : <class 'numpy.ndarray'>\n",
      "index : Index(['광주', '대전', '부산', '서울'], dtype='object')\n",
      "index type : <class 'pandas.core.indexes.base.Index'>\n",
      "index + value :\n",
      "광주         NaN\n",
      "대전    456741.0\n",
      "부산    234237.0\n",
      "서울    344234.0\n",
      "dtype: float64\n"
     ]
    }
   ],
   "source": [
    "# index의 라벨은 문자열 뿐만 아리나 날짜, 시간, 정수 등 가능\n",
    "s3 = pd.Series({'서울' : 344234, '부산' : 234237, '인천' : 345378, '대전' : 456741}, \n",
    "               dtype = np.int32, \n",
    "               index = ['광주', '대전', '부산', '서울'])\n",
    "seriesInfo(s3)"
   ]
  },
  {
   "cell_type": "code",
   "execution_count": 67,
   "metadata": {},
   "outputs": [
    {
     "name": "stdout",
     "output_type": "stream",
     "text": [
      "a    NaN\n",
      "b    NaN\n",
      "c    NaN\n",
      "k    NaN\n",
      "광주   NaN\n",
      "대전   NaN\n",
      "부산   NaN\n",
      "서울   NaN\n",
      "dtype: float64\n"
     ]
    }
   ],
   "source": [
    "diff_s = s - s2\n",
    "print(diff_s) # 인덱스가 다르기 때문에 결과가 나오지 않는다."
   ]
  },
  {
   "cell_type": "code",
   "execution_count": null,
   "metadata": {},
   "outputs": [],
   "source": [
    "# A 공장의 2019-01-01 부터 10일간의 생산량을 Series에 저장\n",
    "# 생산량은 평균이 50 이고 편차가 5인 정규분포 생성(정수)\n",
    "\n",
    "# B 공장의 2019-01-01 부터 10일간의 생산량을 Series에 저장\n",
    "# 생산량은 평균이 70 이고 편차가 8인 정규분포 생성(정수)\n",
    "\n",
    "# 날짜별로 모든 공장의 생산량 합계를 구하면?"
   ]
  },
  {
   "cell_type": "code",
   "execution_count": 68,
   "metadata": {},
   "outputs": [],
   "source": [
    "import numpy as np\n",
    "import pandas as pd\n",
    "from datetime import date, datetime, timedelta\n",
    "from dateutil.parser import parse"
   ]
  },
  {
   "cell_type": "code",
   "execution_count": 89,
   "metadata": {},
   "outputs": [
    {
     "name": "stdout",
     "output_type": "stream",
     "text": [
      "2019-01-01    53\n",
      "2019-01-02    47\n",
      "2019-01-03    59\n",
      "2019-01-04    47\n",
      "2019-01-05    55\n",
      "2019-01-06    41\n",
      "2019-01-07    50\n",
      "2019-01-08    53\n",
      "2019-01-09    54\n",
      "2019-01-10    59\n",
      "dtype: int64\n",
      "**************************************************\n",
      "2019-01-01    58\n",
      "2019-01-02    84\n",
      "2019-01-03    71\n",
      "2019-01-04    82\n",
      "2019-01-05    72\n",
      "2019-01-06    59\n",
      "2019-01-07    65\n",
      "2019-01-08    80\n",
      "2019-01-09    74\n",
      "2019-01-10    65\n",
      "dtype: int64\n",
      "**************************************************\n",
      "2019-01-01    111\n",
      "2019-01-02    131\n",
      "2019-01-03    130\n",
      "2019-01-04    129\n",
      "2019-01-05    127\n",
      "2019-01-06    100\n",
      "2019-01-07    115\n",
      "2019-01-08    133\n",
      "2019-01-09    128\n",
      "2019-01-10    124\n",
      "dtype: int64\n"
     ]
    }
   ],
   "source": [
    "start_day = datetime(2019, 1, 1)\n",
    "# start_day = parse('2019-01-01')\n",
    "\n",
    "# print(start_day)\n",
    "\n",
    "facA = pd.Series([int(x) for x in np.random.normal(50, 5, (10))], index = [start_day + timedelta(days = i) for i in range(10)])\n",
    "print(facA)\n",
    "print('*' * 50)\n",
    "\n",
    "facB = pd.Series([int(x) for x in np.random.normal(70, 8, (10))], index = [start_day + timedelta(days = i) for i in range(10)])\n",
    "print(facB)\n",
    "print('*' * 50)\n",
    "\n",
    "print(facA + facB)"
   ]
  }
 ],
 "metadata": {
  "kernelspec": {
   "display_name": "Python 3",
   "language": "python",
   "name": "python3"
  },
  "language_info": {
   "codemirror_mode": {
    "name": "ipython",
    "version": 3
   },
   "file_extension": ".py",
   "mimetype": "text/x-python",
   "name": "python",
   "nbconvert_exporter": "python",
   "pygments_lexer": "ipython3",
   "version": "3.6.5"
  }
 },
 "nbformat": 4,
 "nbformat_minor": 2
}
