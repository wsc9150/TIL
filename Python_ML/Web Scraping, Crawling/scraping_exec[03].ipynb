{
 "cells": [
  {
   "cell_type": "markdown",
   "metadata": {},
   "source": [
    "## 영화평점에 대한 평점변화(시각화)[실습]"
   ]
  },
  {
   "cell_type": "code",
   "execution_count": 2,
   "metadata": {},
   "outputs": [],
   "source": [
    "from urllib.request import urlopen\n",
    "from bs4 import BeautifulSoup\n",
    "from urllib.error import HTTPError\n",
    "from urllib.error import URLError\n",
    "import pandas as pd"
   ]
  },
  {
   "cell_type": "code",
   "execution_count": 3,
   "metadata": {},
   "outputs": [],
   "source": [
    "base_url = 'https://movie.naver.com/'\n",
    "sub_url = 'movie/sdb/rank/rmovie.nhn?sel=cur&tg=0&date=20170501'\n",
    "\n",
    "try :\n",
    "    html = urlopen(base_url + sub_url)\n",
    "except HTTPError as he :\n",
    "    print('http error')\n",
    "except URLError as ue :\n",
    "    print('url error')\n",
    "else :\n",
    "    soup = BeautifulSoup(html.read(), 'html.parser')"
   ]
  },
  {
   "cell_type": "code",
   "execution_count": 31,
   "metadata": {},
   "outputs": [
    {
     "data": {
      "text/plain": [
       "'히든 피겨스'"
      ]
     },
     "execution_count": 31,
     "metadata": {},
     "output_type": "execute_result"
    }
   ],
   "source": [
    "soup.find_all('div', 'tit5')[0].a.text"
   ]
  },
  {
   "cell_type": "code",
   "execution_count": 32,
   "metadata": {},
   "outputs": [
    {
     "data": {
      "text/plain": [
       "'9.38'"
      ]
     },
     "execution_count": 32,
     "metadata": {},
     "output_type": "execute_result"
    }
   ],
   "source": [
    "soup.find_all('td', 'point')[0].text"
   ]
  },
  {
   "cell_type": "code",
   "execution_count": 33,
   "metadata": {},
   "outputs": [
    {
     "name": "stdout",
     "output_type": "stream",
     "text": [
      "50\n",
      "50\n"
     ]
    }
   ],
   "source": [
    "# 배열 길이가 서로 같은지 확인\n",
    "print(len(soup.find_all('div', 'tit5')))\n",
    "print(len(soup.find_all('td', 'point')))"
   ]
  },
  {
   "cell_type": "code",
   "execution_count": 4,
   "metadata": {},
   "outputs": [
    {
     "name": "stdout",
     "output_type": "stream",
     "text": [
      "['히든 피겨스', '사운드 오브 뮤직', '시네마 천국', '미스 슬로운', '잉여들의 히치하이킹', '나, 다니엘 블레이크', '바람과 함께 사라지다', '오즈의 마법사', '벤허', '흑집사 : 북 오브 더 아틀란틱', '우리들', '일 포스티노', '댄서', '라이언', '코알라', '로건', '더 플랜', '분노의 질주: 더 익스트림', '시카고', '10분', '해리가 샐리를 만났을 때', '미녀와 야수', '너의 이름은.', '그랑블루', '한공주', '연애담', '포켓몬 더 무비 XY&Z; 「볼케니온 : 기계왕국의 비밀」', '리틀 프린세스 소피아: 엘레나와 비밀의 아발로 왕국', '분노', '맨체스터 바이 더 씨', '행복 목욕탕', '스머프: 비밀의 숲', '부당거래', '파닥파닥', '아비정전', '패션 오브 크라이스트', '라라랜드', '뽀로로 극장판 슈퍼썰매 대모험', '족구왕', '가디언즈 오브 갤럭시', '자전거 탄 소년', '오두막', '성실한 나라의 앨리스', '원라인', '존 윅 - 리로드', '사일런스', '클로저', '임금님의 사건수첩', '문라이트', '로미오와 줄리엣']\n"
     ]
    }
   ],
   "source": [
    "movie_names = [soup.find_all('div', 'tit5')[n].a.get_text() for n in range(50)]\n",
    "print(movie_names)"
   ]
  },
  {
   "cell_type": "code",
   "execution_count": 5,
   "metadata": {},
   "outputs": [
    {
     "name": "stdout",
     "output_type": "stream",
     "text": [
      "['9.38', '9.36', '9.29', '9.26', '9.25', '9.25', '9.24', '9.23', '9.22', '9.20', '9.18', '9.17', '9.14', '9.07', '9.07', '9.06', '9.04', '9.02', '8.92', '8.89', '8.89', '8.85', '8.81', '8.78', '8.78', '8.76', '8.75', '8.73', '8.73', '8.72', '8.70', '8.67', '8.66', '8.65', '8.59', '8.59', '8.59', '8.56', '8.56', '8.56', '8.54', '8.48', '8.39', '8.29', '8.28', '8.26', '8.20', '8.17', '8.12', '8.10']\n"
     ]
    }
   ],
   "source": [
    "movie_points = [soup.find_all('td', 'point')[n].get_text() for n in range(50)]\n",
    "print(movie_points)"
   ]
  },
  {
   "cell_type": "code",
   "execution_count": 6,
   "metadata": {},
   "outputs": [],
   "source": [
    "# pandas 의 date_range 함수\n",
    "# 지정 날짜부터 periods 의 기간 만큼의 날짜를 데이터프레임 형식으로 저장한다.\n",
    "date = pd.date_range('2017-5-1', periods = 100, freq = 'D')\n",
    "# date"
   ]
  },
  {
   "cell_type": "code",
   "execution_count": 7,
   "metadata": {},
   "outputs": [],
   "source": [
    "import urllib\n",
    "from tqdm import tqdm_notebook\n",
    "import time"
   ]
  },
  {
   "cell_type": "code",
   "execution_count": 10,
   "metadata": {},
   "outputs": [],
   "source": [
    "# tqdm_notebook\n",
    "# 반복문의 진행 상황을 바 형식으로 보여준다.\n",
    "\n",
    "# for n in tqdm_notebook(range(100)) :\n",
    "#     time.sleep(0.1)"
   ]
  },
  {
   "cell_type": "code",
   "execution_count": 11,
   "metadata": {},
   "outputs": [],
   "source": [
    "# for x in tqdm_notebook(range(2), desc = 'outer') :\n",
    "#     for y in tqdm_notebook(range(1000), desc = 'inner') :\n",
    "#         time.sleep(0.1)"
   ]
  },
  {
   "cell_type": "code",
   "execution_count": 12,
   "metadata": {},
   "outputs": [
    {
     "name": "stderr",
     "output_type": "stream",
     "text": [
      "D:\\Anaconda3\\lib\\site-packages\\ipykernel_launcher.py:10: TqdmDeprecationWarning: This function will be removed in tqdm==5.0.0\n",
      "Please use `tqdm.notebook.tqdm` instead of `tqdm.tqdm_notebook`\n",
      "  # Remove the CWD from sys.path while we load stuff.\n"
     ]
    },
    {
     "data": {
      "application/vnd.jupyter.widget-view+json": {
       "model_id": "b8e04f75961b47199afe5d23043f99b4",
       "version_major": 2,
       "version_minor": 0
      },
      "text/plain": [
       "HBox(children=(FloatProgress(value=0.0), HTML(value='')))"
      ]
     },
     "metadata": {},
     "output_type": "display_data"
    },
    {
     "name": "stdout",
     "output_type": "stream",
     "text": [
      "\n"
     ]
    }
   ],
   "source": [
    "# 위에서 만든 date 날짜 별로 \n",
    "# 영화의 이름과 평점들을 scraping 하기\n",
    "names_result = []\n",
    "points_result = []\n",
    "date_result = []\n",
    "\n",
    "base_url = 'https://movie.naver.com/'\n",
    "sub_url = 'movie/sdb/rank/rmovie.nhn?sel=cur&date='\n",
    "\n",
    "for day in tqdm_notebook(date) :\n",
    "    # url 에 위에서 만든 날짜변수 이름을 뒤에 덧붙여서 html 변수에 저장\n",
    "    html = base_url + sub_url + '{date}'\n",
    "    \n",
    "    # url open 이후 html 형식으로 저장\n",
    "    # 뒤에 덧붙여진 {date}에 날짜 하나하나를 반복해서 넣는데\n",
    "    # 날짜를  20170501  형식으로 만들어서(strftime 함수) 넣는 작업 진행\n",
    "    # urllib.parse.quote() : 문자열에 들어있는 특수문자를 문자열로 변환하여 반환하는 함수\n",
    "    response = urlopen(html.format(date = urllib.parse.quote(day.strftime('%Y%m%d'))))\n",
    "    soup = BeautifulSoup(response, 'html.parser')\n",
    "    \n",
    "    # 데이터 개수 저장\n",
    "    end = len(soup.find_all('td', 'point'))\n",
    "    \n",
    "    # append 가 아닌 extend를 쓰는 이유\n",
    "    # 리스트 자체를 저장하는 것이 아닌, 리스트 내부의 요소들을 직접 하나씩 저장하기 위해 사용\n",
    "    names_result.extend([soup.find_all('div', 'tit5')[n].a.string for n in range(end)])\n",
    "    points_result.extend([soup.find_all('td', 'point')[n].string for n in range(end)])\n",
    "    date_result.extend([day for n in range(end)])"
   ]
  },
  {
   "cell_type": "code",
   "execution_count": 14,
   "metadata": {},
   "outputs": [
    {
     "name": "stdout",
     "output_type": "stream",
     "text": [
      "4723\n",
      "4723\n",
      "4723\n"
     ]
    }
   ],
   "source": [
    "# 길이 확인\n",
    "print(len(names_result))\n",
    "print(len(points_result))\n",
    "print(len(date_result))"
   ]
  },
  {
   "cell_type": "code",
   "execution_count": 15,
   "metadata": {},
   "outputs": [
    {
     "name": "stdout",
     "output_type": "stream",
     "text": [
      "<class 'pandas.core.frame.DataFrame'>\n",
      "RangeIndex: 4723 entries, 0 to 4722\n",
      "Data columns (total 3 columns):\n",
      "date     4723 non-null datetime64[ns]\n",
      "name     4723 non-null object\n",
      "point    4723 non-null object\n",
      "dtypes: datetime64[ns](1), object(2)\n",
      "memory usage: 110.8+ KB\n"
     ]
    }
   ],
   "source": [
    "movieDf = pd.DataFrame({\n",
    "    'date' : date_result,\n",
    "    'name' : names_result,\n",
    "    'point' : points_result\n",
    "})\n",
    "movieDf.info()"
   ]
  },
  {
   "cell_type": "code",
   "execution_count": 16,
   "metadata": {},
   "outputs": [
    {
     "name": "stdout",
     "output_type": "stream",
     "text": [
      "<class 'pandas.core.frame.DataFrame'>\n",
      "RangeIndex: 4723 entries, 0 to 4722\n",
      "Data columns (total 3 columns):\n",
      "date     4723 non-null datetime64[ns]\n",
      "name     4723 non-null object\n",
      "point    4723 non-null float64\n",
      "dtypes: datetime64[ns](1), float64(1), object(1)\n",
      "memory usage: 110.8+ KB\n"
     ]
    }
   ],
   "source": [
    "# astype() 함수를 이용하여 컬럼의 타입을 변경할 수 있다.\n",
    "movieDf['point'] = movieDf['point'].astype(float)\n",
    "movieDf.info()"
   ]
  },
  {
   "cell_type": "code",
   "execution_count": 17,
   "metadata": {},
   "outputs": [],
   "source": [
    "import numpy as np\n",
    "import matplotlib.pyplot as plt\n",
    "%matplotlib inline"
   ]
  },
  {
   "cell_type": "code",
   "execution_count": 18,
   "metadata": {},
   "outputs": [
    {
     "data": {
      "text/html": [
       "<div>\n",
       "<style scoped>\n",
       "    .dataframe tbody tr th:only-of-type {\n",
       "        vertical-align: middle;\n",
       "    }\n",
       "\n",
       "    .dataframe tbody tr th {\n",
       "        vertical-align: top;\n",
       "    }\n",
       "\n",
       "    .dataframe thead th {\n",
       "        text-align: right;\n",
       "    }\n",
       "</style>\n",
       "<table border=\"1\" class=\"dataframe\">\n",
       "  <thead>\n",
       "    <tr style=\"text-align: right;\">\n",
       "      <th></th>\n",
       "      <th>point</th>\n",
       "    </tr>\n",
       "    <tr>\n",
       "      <th>name</th>\n",
       "      <th></th>\n",
       "    </tr>\n",
       "  </thead>\n",
       "  <tbody>\n",
       "    <tr>\n",
       "      <th>10분</th>\n",
       "      <td>124.46</td>\n",
       "    </tr>\n",
       "    <tr>\n",
       "      <th>47 미터</th>\n",
       "      <td>149.23</td>\n",
       "    </tr>\n",
       "    <tr>\n",
       "      <th>500일의 썸머</th>\n",
       "      <td>75.51</td>\n",
       "    </tr>\n",
       "    <tr>\n",
       "      <th>7년-그들이 없는 언론</th>\n",
       "      <td>137.28</td>\n",
       "    </tr>\n",
       "    <tr>\n",
       "      <th>7번째 내가 죽던 날</th>\n",
       "      <td>407.48</td>\n",
       "    </tr>\n",
       "  </tbody>\n",
       "</table>\n",
       "</div>"
      ],
      "text/plain": [
       "               point\n",
       "name                \n",
       "10분           124.46\n",
       "47 미터         149.23\n",
       "500일의 썸머       75.51\n",
       "7년-그들이 없는 언론  137.28\n",
       "7번째 내가 죽던 날   407.48"
      ]
     },
     "execution_count": 18,
     "metadata": {},
     "output_type": "execute_result"
    }
   ],
   "source": [
    "# 피벗 테이블 이용 - 영화의 평점 총점을 구할 수 있다.\n",
    "# sql 의 group_by 절과 같은 맥락\n",
    "# aggfunc 옵션으로 집계함수 사용 가능\n",
    "movie_pivot = pd.pivot_table(movieDf, index = ['name'], aggfunc = np.sum)\n",
    "movie_pivot.head()"
   ]
  },
  {
   "cell_type": "code",
   "execution_count": 19,
   "metadata": {},
   "outputs": [
    {
     "data": {
      "text/html": [
       "<div>\n",
       "<style scoped>\n",
       "    .dataframe tbody tr th:only-of-type {\n",
       "        vertical-align: middle;\n",
       "    }\n",
       "\n",
       "    .dataframe tbody tr th {\n",
       "        vertical-align: top;\n",
       "    }\n",
       "\n",
       "    .dataframe thead th {\n",
       "        text-align: right;\n",
       "    }\n",
       "</style>\n",
       "<table border=\"1\" class=\"dataframe\">\n",
       "  <thead>\n",
       "    <tr style=\"text-align: right;\">\n",
       "      <th></th>\n",
       "      <th>point</th>\n",
       "    </tr>\n",
       "    <tr>\n",
       "      <th>name</th>\n",
       "      <th></th>\n",
       "    </tr>\n",
       "  </thead>\n",
       "  <tbody>\n",
       "    <tr>\n",
       "      <th>댄서</th>\n",
       "      <td>914.60</td>\n",
       "    </tr>\n",
       "    <tr>\n",
       "      <th>서서평, 천천히 평온하게</th>\n",
       "      <td>889.64</td>\n",
       "    </tr>\n",
       "    <tr>\n",
       "      <th>오두막</th>\n",
       "      <td>861.65</td>\n",
       "    </tr>\n",
       "    <tr>\n",
       "      <th>라라랜드</th>\n",
       "      <td>858.89</td>\n",
       "    </tr>\n",
       "    <tr>\n",
       "      <th>너의 이름은.</th>\n",
       "      <td>738.42</td>\n",
       "    </tr>\n",
       "  </tbody>\n",
       "</table>\n",
       "</div>"
      ],
      "text/plain": [
       "                point\n",
       "name                 \n",
       "댄서             914.60\n",
       "서서평, 천천히 평온하게  889.64\n",
       "오두막            861.65\n",
       "라라랜드           858.89\n",
       "너의 이름은.        738.42"
      ]
     },
     "execution_count": 19,
     "metadata": {},
     "output_type": "execute_result"
    }
   ],
   "source": [
    "# 결과에 대한 정렬이 필요할 경우\n",
    "# sort_values(by = , ascending = )\n",
    "movie_pivot_sort = movie_pivot.sort_values(by = 'point', ascending = False)\n",
    "movie_pivot_sort.head()"
   ]
  },
  {
   "cell_type": "code",
   "execution_count": 20,
   "metadata": {},
   "outputs": [],
   "source": [
    "# sql 의 where 절과 같은 맥락\n",
    "# 내가 원하는 조건을 걸 수 있다.\n",
    "temp = movieDf.query('name == [\"너의 이름은.\"]')\n",
    "# temp"
   ]
  },
  {
   "cell_type": "code",
   "execution_count": 21,
   "metadata": {},
   "outputs": [
    {
     "data": {
      "image/png": "[encoded data removed]",
      "text/plain": [
       "<Figure size 864x576 with 1 Axes>"
      ]
     },
     "metadata": {},
     "output_type": "display_data"
    }
   ],
   "source": [
    "# 시각화\n",
    "# plot 의 크기를 지정\n",
    "plt.figure(figsize = (12, 8))\n",
    "\n",
    "# plot 의 x축 및 y축 지정\n",
    "plt.plot(temp['date'], temp['point'])\n",
    "\n",
    "# plot의 범례 위치 설정\n",
    "plt.legend(loc = 'best')\n",
    "\n",
    "# plot의 격자 무늬 형성\n",
    "plt.grid()\n",
    "\n",
    "# plot 그리기\n",
    "plt.show()"
   ]
  },
  {
   "cell_type": "markdown",
   "metadata": {},
   "source": [
    "## 영화별 날짜 변화에 따른 평점 변화 시각화[실습]"
   ]
  },
  {
   "cell_type": "code",
   "execution_count": 22,
   "metadata": {},
   "outputs": [
    {
     "data": {
      "text/html": [
       "<div>\n",
       "<style scoped>\n",
       "    .dataframe tbody tr th:only-of-type {\n",
       "        vertical-align: middle;\n",
       "    }\n",
       "\n",
       "    .dataframe tbody tr th {\n",
       "        vertical-align: top;\n",
       "    }\n",
       "\n",
       "    .dataframe thead tr th {\n",
       "        text-align: left;\n",
       "    }\n",
       "\n",
       "    .dataframe thead tr:last-of-type th {\n",
       "        text-align: right;\n",
       "    }\n",
       "</style>\n",
       "<table border=\"1\" class=\"dataframe\">\n",
       "  <thead>\n",
       "    <tr>\n",
       "      <th></th>\n",
       "      <th colspan=\"21\" halign=\"left\">point</th>\n",
       "    </tr>\n",
       "    <tr>\n",
       "      <th>name</th>\n",
       "      <th>10분</th>\n",
       "      <th>47 미터</th>\n",
       "      <th>500일의 썸머</th>\n",
       "      <th>7년-그들이 없는 언론</th>\n",
       "      <th>7번째 내가 죽던 날</th>\n",
       "      <th>7인의 사무라이</th>\n",
       "      <th>8 마일</th>\n",
       "      <th>가디언즈 오브 갤럭시</th>\n",
       "      <th>가디언즈 오브 갤럭시 VOL. 2</th>\n",
       "      <th>겟 아웃</th>\n",
       "      <th>...</th>\n",
       "      <th>하울의 움직이는 성</th>\n",
       "      <th>하이큐!! 끝과 시작</th>\n",
       "      <th>한공주</th>\n",
       "      <th>해리가 샐리를 만났을 때</th>\n",
       "      <th>핵소 고지</th>\n",
       "      <th>행복 목욕탕</th>\n",
       "      <th>헤드윅</th>\n",
       "      <th>환상의 빛</th>\n",
       "      <th>흑집사 : 북 오브 더 아틀란틱</th>\n",
       "      <th>히든 피겨스</th>\n",
       "    </tr>\n",
       "    <tr>\n",
       "      <th>date</th>\n",
       "      <th></th>\n",
       "      <th></th>\n",
       "      <th></th>\n",
       "      <th></th>\n",
       "      <th></th>\n",
       "      <th></th>\n",
       "      <th></th>\n",
       "      <th></th>\n",
       "      <th></th>\n",
       "      <th></th>\n",
       "      <th></th>\n",
       "      <th></th>\n",
       "      <th></th>\n",
       "      <th></th>\n",
       "      <th></th>\n",
       "      <th></th>\n",
       "      <th></th>\n",
       "      <th></th>\n",
       "      <th></th>\n",
       "      <th></th>\n",
       "      <th></th>\n",
       "    </tr>\n",
       "  </thead>\n",
       "  <tbody>\n",
       "    <tr>\n",
       "      <th>2017-05-01</th>\n",
       "      <td>8.89</td>\n",
       "      <td>NaN</td>\n",
       "      <td>NaN</td>\n",
       "      <td>NaN</td>\n",
       "      <td>NaN</td>\n",
       "      <td>NaN</td>\n",
       "      <td>NaN</td>\n",
       "      <td>8.56</td>\n",
       "      <td>NaN</td>\n",
       "      <td>NaN</td>\n",
       "      <td>...</td>\n",
       "      <td>NaN</td>\n",
       "      <td>NaN</td>\n",
       "      <td>8.78</td>\n",
       "      <td>8.89</td>\n",
       "      <td>NaN</td>\n",
       "      <td>8.70</td>\n",
       "      <td>NaN</td>\n",
       "      <td>NaN</td>\n",
       "      <td>9.20</td>\n",
       "      <td>9.38</td>\n",
       "    </tr>\n",
       "    <tr>\n",
       "      <th>2017-05-02</th>\n",
       "      <td>8.89</td>\n",
       "      <td>NaN</td>\n",
       "      <td>NaN</td>\n",
       "      <td>NaN</td>\n",
       "      <td>NaN</td>\n",
       "      <td>NaN</td>\n",
       "      <td>NaN</td>\n",
       "      <td>8.56</td>\n",
       "      <td>NaN</td>\n",
       "      <td>NaN</td>\n",
       "      <td>...</td>\n",
       "      <td>NaN</td>\n",
       "      <td>NaN</td>\n",
       "      <td>8.78</td>\n",
       "      <td>8.89</td>\n",
       "      <td>NaN</td>\n",
       "      <td>8.68</td>\n",
       "      <td>NaN</td>\n",
       "      <td>NaN</td>\n",
       "      <td>9.21</td>\n",
       "      <td>9.37</td>\n",
       "    </tr>\n",
       "    <tr>\n",
       "      <th>2017-05-03</th>\n",
       "      <td>8.89</td>\n",
       "      <td>NaN</td>\n",
       "      <td>NaN</td>\n",
       "      <td>NaN</td>\n",
       "      <td>NaN</td>\n",
       "      <td>NaN</td>\n",
       "      <td>NaN</td>\n",
       "      <td>NaN</td>\n",
       "      <td>9.22</td>\n",
       "      <td>NaN</td>\n",
       "      <td>...</td>\n",
       "      <td>NaN</td>\n",
       "      <td>NaN</td>\n",
       "      <td>8.78</td>\n",
       "      <td>8.89</td>\n",
       "      <td>NaN</td>\n",
       "      <td>8.70</td>\n",
       "      <td>NaN</td>\n",
       "      <td>NaN</td>\n",
       "      <td>9.22</td>\n",
       "      <td>9.38</td>\n",
       "    </tr>\n",
       "    <tr>\n",
       "      <th>2017-05-04</th>\n",
       "      <td>8.89</td>\n",
       "      <td>NaN</td>\n",
       "      <td>NaN</td>\n",
       "      <td>NaN</td>\n",
       "      <td>NaN</td>\n",
       "      <td>NaN</td>\n",
       "      <td>NaN</td>\n",
       "      <td>NaN</td>\n",
       "      <td>9.15</td>\n",
       "      <td>NaN</td>\n",
       "      <td>...</td>\n",
       "      <td>NaN</td>\n",
       "      <td>NaN</td>\n",
       "      <td>8.78</td>\n",
       "      <td>NaN</td>\n",
       "      <td>NaN</td>\n",
       "      <td>8.67</td>\n",
       "      <td>NaN</td>\n",
       "      <td>NaN</td>\n",
       "      <td>9.23</td>\n",
       "      <td>9.38</td>\n",
       "    </tr>\n",
       "    <tr>\n",
       "      <th>2017-05-05</th>\n",
       "      <td>8.89</td>\n",
       "      <td>NaN</td>\n",
       "      <td>NaN</td>\n",
       "      <td>NaN</td>\n",
       "      <td>NaN</td>\n",
       "      <td>NaN</td>\n",
       "      <td>NaN</td>\n",
       "      <td>NaN</td>\n",
       "      <td>9.08</td>\n",
       "      <td>NaN</td>\n",
       "      <td>...</td>\n",
       "      <td>NaN</td>\n",
       "      <td>NaN</td>\n",
       "      <td>8.78</td>\n",
       "      <td>NaN</td>\n",
       "      <td>NaN</td>\n",
       "      <td>8.69</td>\n",
       "      <td>NaN</td>\n",
       "      <td>NaN</td>\n",
       "      <td>9.24</td>\n",
       "      <td>9.37</td>\n",
       "    </tr>\n",
       "  </tbody>\n",
       "</table>\n",
       "<p>5 rows × 204 columns</p>\n",
       "</div>"
      ],
      "text/plain": [
       "           point                                                        \\\n",
       "name         10분 47 미터 500일의 썸머 7년-그들이 없는 언론 7번째 내가 죽던 날 7인의 사무라이 8 마일   \n",
       "date                                                                     \n",
       "2017-05-01  8.89   NaN      NaN          NaN         NaN      NaN  NaN   \n",
       "2017-05-02  8.89   NaN      NaN          NaN         NaN      NaN  NaN   \n",
       "2017-05-03  8.89   NaN      NaN          NaN         NaN      NaN  NaN   \n",
       "2017-05-04  8.89   NaN      NaN          NaN         NaN      NaN  NaN   \n",
       "2017-05-05  8.89   NaN      NaN          NaN         NaN      NaN  NaN   \n",
       "\n",
       "                                                ...                           \\\n",
       "name       가디언즈 오브 갤럭시 가디언즈 오브 갤럭시 VOL. 2 겟 아웃  ...   하울의 움직이는 성 하이큐!! 끝과 시작   \n",
       "date                                            ...                            \n",
       "2017-05-01        8.56                NaN  NaN  ...          NaN         NaN   \n",
       "2017-05-02        8.56                NaN  NaN  ...          NaN         NaN   \n",
       "2017-05-03         NaN               9.22  NaN  ...          NaN         NaN   \n",
       "2017-05-04         NaN               9.15  NaN  ...          NaN         NaN   \n",
       "2017-05-05         NaN               9.08  NaN  ...          NaN         NaN   \n",
       "\n",
       "                                                                                \n",
       "name         한공주 해리가 샐리를 만났을 때 핵소 고지 행복 목욕탕 헤드윅 환상의 빛 흑집사 : 북 오브 더 아틀란틱 히든 피겨스  \n",
       "date                                                                            \n",
       "2017-05-01  8.78          8.89   NaN   8.70 NaN   NaN              9.20   9.38  \n",
       "2017-05-02  8.78          8.89   NaN   8.68 NaN   NaN              9.21   9.37  \n",
       "2017-05-03  8.78          8.89   NaN   8.70 NaN   NaN              9.22   9.38  \n",
       "2017-05-04  8.78           NaN   NaN   8.67 NaN   NaN              9.23   9.38  \n",
       "2017-05-05  8.78           NaN   NaN   8.69 NaN   NaN              9.24   9.37  \n",
       "\n",
       "[5 rows x 204 columns]"
      ]
     },
     "execution_count": 22,
     "metadata": {},
     "output_type": "execute_result"
    }
   ],
   "source": [
    "movie_date_point_pivot = pd.pivot_table(movieDf, index = ['date'], columns = ['name'], values = ['point'])\n",
    "movie_date_point_pivot.head()"
   ]
  },
  {
   "cell_type": "code",
   "execution_count": 23,
   "metadata": {},
   "outputs": [
    {
     "data": {
      "text/html": [
       "<div>\n",
       "<style scoped>\n",
       "    .dataframe tbody tr th:only-of-type {\n",
       "        vertical-align: middle;\n",
       "    }\n",
       "\n",
       "    .dataframe tbody tr th {\n",
       "        vertical-align: top;\n",
       "    }\n",
       "\n",
       "    .dataframe thead th {\n",
       "        text-align: right;\n",
       "    }\n",
       "</style>\n",
       "<table border=\"1\" class=\"dataframe\">\n",
       "  <thead>\n",
       "    <tr style=\"text-align: right;\">\n",
       "      <th>name</th>\n",
       "      <th>10분</th>\n",
       "      <th>47 미터</th>\n",
       "      <th>500일의 썸머</th>\n",
       "      <th>7년-그들이 없는 언론</th>\n",
       "      <th>7번째 내가 죽던 날</th>\n",
       "      <th>7인의 사무라이</th>\n",
       "      <th>8 마일</th>\n",
       "      <th>가디언즈 오브 갤럭시</th>\n",
       "      <th>가디언즈 오브 갤럭시 VOL. 2</th>\n",
       "      <th>겟 아웃</th>\n",
       "      <th>...</th>\n",
       "      <th>하울의 움직이는 성</th>\n",
       "      <th>하이큐!! 끝과 시작</th>\n",
       "      <th>한공주</th>\n",
       "      <th>해리가 샐리를 만났을 때</th>\n",
       "      <th>핵소 고지</th>\n",
       "      <th>행복 목욕탕</th>\n",
       "      <th>헤드윅</th>\n",
       "      <th>환상의 빛</th>\n",
       "      <th>흑집사 : 북 오브 더 아틀란틱</th>\n",
       "      <th>히든 피겨스</th>\n",
       "    </tr>\n",
       "    <tr>\n",
       "      <th>date</th>\n",
       "      <th></th>\n",
       "      <th></th>\n",
       "      <th></th>\n",
       "      <th></th>\n",
       "      <th></th>\n",
       "      <th></th>\n",
       "      <th></th>\n",
       "      <th></th>\n",
       "      <th></th>\n",
       "      <th></th>\n",
       "      <th></th>\n",
       "      <th></th>\n",
       "      <th></th>\n",
       "      <th></th>\n",
       "      <th></th>\n",
       "      <th></th>\n",
       "      <th></th>\n",
       "      <th></th>\n",
       "      <th></th>\n",
       "      <th></th>\n",
       "      <th></th>\n",
       "    </tr>\n",
       "  </thead>\n",
       "  <tbody>\n",
       "    <tr>\n",
       "      <th>2017-05-01</th>\n",
       "      <td>8.89</td>\n",
       "      <td>NaN</td>\n",
       "      <td>NaN</td>\n",
       "      <td>NaN</td>\n",
       "      <td>NaN</td>\n",
       "      <td>NaN</td>\n",
       "      <td>NaN</td>\n",
       "      <td>8.56</td>\n",
       "      <td>NaN</td>\n",
       "      <td>NaN</td>\n",
       "      <td>...</td>\n",
       "      <td>NaN</td>\n",
       "      <td>NaN</td>\n",
       "      <td>8.78</td>\n",
       "      <td>8.89</td>\n",
       "      <td>NaN</td>\n",
       "      <td>8.70</td>\n",
       "      <td>NaN</td>\n",
       "      <td>NaN</td>\n",
       "      <td>9.20</td>\n",
       "      <td>9.38</td>\n",
       "    </tr>\n",
       "    <tr>\n",
       "      <th>2017-05-02</th>\n",
       "      <td>8.89</td>\n",
       "      <td>NaN</td>\n",
       "      <td>NaN</td>\n",
       "      <td>NaN</td>\n",
       "      <td>NaN</td>\n",
       "      <td>NaN</td>\n",
       "      <td>NaN</td>\n",
       "      <td>8.56</td>\n",
       "      <td>NaN</td>\n",
       "      <td>NaN</td>\n",
       "      <td>...</td>\n",
       "      <td>NaN</td>\n",
       "      <td>NaN</td>\n",
       "      <td>8.78</td>\n",
       "      <td>8.89</td>\n",
       "      <td>NaN</td>\n",
       "      <td>8.68</td>\n",
       "      <td>NaN</td>\n",
       "      <td>NaN</td>\n",
       "      <td>9.21</td>\n",
       "      <td>9.37</td>\n",
       "    </tr>\n",
       "    <tr>\n",
       "      <th>2017-05-03</th>\n",
       "      <td>8.89</td>\n",
       "      <td>NaN</td>\n",
       "      <td>NaN</td>\n",
       "      <td>NaN</td>\n",
       "      <td>NaN</td>\n",
       "      <td>NaN</td>\n",
       "      <td>NaN</td>\n",
       "      <td>NaN</td>\n",
       "      <td>9.22</td>\n",
       "      <td>NaN</td>\n",
       "      <td>...</td>\n",
       "      <td>NaN</td>\n",
       "      <td>NaN</td>\n",
       "      <td>8.78</td>\n",
       "      <td>8.89</td>\n",
       "      <td>NaN</td>\n",
       "      <td>8.70</td>\n",
       "      <td>NaN</td>\n",
       "      <td>NaN</td>\n",
       "      <td>9.22</td>\n",
       "      <td>9.38</td>\n",
       "    </tr>\n",
       "    <tr>\n",
       "      <th>2017-05-04</th>\n",
       "      <td>8.89</td>\n",
       "      <td>NaN</td>\n",
       "      <td>NaN</td>\n",
       "      <td>NaN</td>\n",
       "      <td>NaN</td>\n",
       "      <td>NaN</td>\n",
       "      <td>NaN</td>\n",
       "      <td>NaN</td>\n",
       "      <td>9.15</td>\n",
       "      <td>NaN</td>\n",
       "      <td>...</td>\n",
       "      <td>NaN</td>\n",
       "      <td>NaN</td>\n",
       "      <td>8.78</td>\n",
       "      <td>NaN</td>\n",
       "      <td>NaN</td>\n",
       "      <td>8.67</td>\n",
       "      <td>NaN</td>\n",
       "      <td>NaN</td>\n",
       "      <td>9.23</td>\n",
       "      <td>9.38</td>\n",
       "    </tr>\n",
       "    <tr>\n",
       "      <th>2017-05-05</th>\n",
       "      <td>8.89</td>\n",
       "      <td>NaN</td>\n",
       "      <td>NaN</td>\n",
       "      <td>NaN</td>\n",
       "      <td>NaN</td>\n",
       "      <td>NaN</td>\n",
       "      <td>NaN</td>\n",
       "      <td>NaN</td>\n",
       "      <td>9.08</td>\n",
       "      <td>NaN</td>\n",
       "      <td>...</td>\n",
       "      <td>NaN</td>\n",
       "      <td>NaN</td>\n",
       "      <td>8.78</td>\n",
       "      <td>NaN</td>\n",
       "      <td>NaN</td>\n",
       "      <td>8.69</td>\n",
       "      <td>NaN</td>\n",
       "      <td>NaN</td>\n",
       "      <td>9.24</td>\n",
       "      <td>9.37</td>\n",
       "    </tr>\n",
       "  </tbody>\n",
       "</table>\n",
       "<p>5 rows × 204 columns</p>\n",
       "</div>"
      ],
      "text/plain": [
       "name         10분  47 미터  500일의 썸머  7년-그들이 없는 언론  7번째 내가 죽던 날  7인의 사무라이  8 마일  \\\n",
       "date                                                                           \n",
       "2017-05-01  8.89    NaN       NaN           NaN          NaN       NaN   NaN   \n",
       "2017-05-02  8.89    NaN       NaN           NaN          NaN       NaN   NaN   \n",
       "2017-05-03  8.89    NaN       NaN           NaN          NaN       NaN   NaN   \n",
       "2017-05-04  8.89    NaN       NaN           NaN          NaN       NaN   NaN   \n",
       "2017-05-05  8.89    NaN       NaN           NaN          NaN       NaN   NaN   \n",
       "\n",
       "name        가디언즈 오브 갤럭시  가디언즈 오브 갤럭시 VOL. 2  겟 아웃   ...    하울의 움직이는 성  \\\n",
       "date                                                ...                 \n",
       "2017-05-01         8.56                 NaN   NaN   ...           NaN   \n",
       "2017-05-02         8.56                 NaN   NaN   ...           NaN   \n",
       "2017-05-03          NaN                9.22   NaN   ...           NaN   \n",
       "2017-05-04          NaN                9.15   NaN   ...           NaN   \n",
       "2017-05-05          NaN                9.08   NaN   ...           NaN   \n",
       "\n",
       "name        하이큐!! 끝과 시작   한공주  해리가 샐리를 만났을 때  핵소 고지  행복 목욕탕  헤드윅  환상의 빛  \\\n",
       "date                                                                      \n",
       "2017-05-01          NaN  8.78           8.89    NaN    8.70  NaN    NaN   \n",
       "2017-05-02          NaN  8.78           8.89    NaN    8.68  NaN    NaN   \n",
       "2017-05-03          NaN  8.78           8.89    NaN    8.70  NaN    NaN   \n",
       "2017-05-04          NaN  8.78            NaN    NaN    8.67  NaN    NaN   \n",
       "2017-05-05          NaN  8.78            NaN    NaN    8.69  NaN    NaN   \n",
       "\n",
       "name        흑집사 : 북 오브 더 아틀란틱  히든 피겨스  \n",
       "date                                   \n",
       "2017-05-01               9.20    9.38  \n",
       "2017-05-02               9.21    9.37  \n",
       "2017-05-03               9.22    9.38  \n",
       "2017-05-04               9.23    9.38  \n",
       "2017-05-05               9.24    9.37  \n",
       "\n",
       "[5 rows x 204 columns]"
      ]
     },
     "execution_count": 23,
     "metadata": {},
     "output_type": "execute_result"
    }
   ],
   "source": [
    "# 레벨을 한 단계 낮춘다.\n",
    "# point 컬럼을 없애준다.\n",
    "movie_date_point_pivot.columns = movie_date_point_pivot.columns.droplevel()\n",
    "movie_date_point_pivot.head()"
   ]
  },
  {
   "cell_type": "code",
   "execution_count": 24,
   "metadata": {},
   "outputs": [],
   "source": [
    "# 한글 폰트 문제 해결\n",
    "import platform\n",
    "\n",
    "from matplotlib import font_manager, rc\n",
    "# plt.rcParams['axes.unicode_minus'] = False\n",
    "\n",
    "if platform.system() == 'Darwin':\n",
    "    rc('font', family='AppleGothic')\n",
    "elif platform.system() == 'Windows':\n",
    "    path = \"c:/Windows/Fonts/malgun.ttf\"\n",
    "    font_name = font_manager.FontProperties(fname=path).get_name()\n",
    "    rc('font', family=font_name)\n",
    "else:\n",
    "    print('Unknown system... sorry~~~~') "
   ]
  },
  {
   "cell_type": "code",
   "execution_count": 25,
   "metadata": {},
   "outputs": [
    {
     "data": {
      "image/png": "[encoded data removed]",
      "text/plain": [
       "<Figure size 864x576 with 1 Axes>"
      ]
     },
     "metadata": {},
     "output_type": "display_data"
    }
   ],
   "source": [
    "target_col = ['행복 목욕탕', '가디언즈 오브 갤럭시', '라라랜드', '500일의 썸머', '하울의 움직이는 성']\n",
    "\n",
    "# 시각화\n",
    "plt.figure(figsize = (12, 8))\n",
    "plt.plot(movie_date_point_pivot[target_col])\n",
    "plt.legend(target_col, loc = 'best')\n",
    "plt.grid()\n",
    "plt.show()"
   ]
  }
 ],
 "metadata": {
  "kernelspec": {
   "display_name": "Python 3",
   "language": "python",
   "name": "python3"
  },
  "language_info": {
   "codemirror_mode": {
    "name": "ipython",
    "version": 3
   },
   "file_extension": ".py",
   "mimetype": "text/x-python",
   "name": "python",
   "nbconvert_exporter": "python",
   "pygments_lexer": "ipython3",
   "version": "3.6.5"
  }
 },
 "nbformat": 4,
 "nbformat_minor": 2
}
