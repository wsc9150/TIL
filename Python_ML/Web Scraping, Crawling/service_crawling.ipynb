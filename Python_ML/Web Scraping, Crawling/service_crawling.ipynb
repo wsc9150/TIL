{
 "cells": [
  {
   "cell_type": "markdown",
   "metadata": {},
   "source": [
    "# 비정형 데이터 활용하기"
   ]
  },
  {
   "cell_type": "markdown",
   "metadata": {},
   "source": [
    "## 스크래핑 (BeautifulSoup)"
   ]
  },
  {
   "cell_type": "code",
   "execution_count": 2,
   "metadata": {},
   "outputs": [],
   "source": [
    "import requests\n",
    "from bs4 import BeautifulSoup"
   ]
  },
  {
   "cell_type": "code",
   "execution_count": 4,
   "metadata": {},
   "outputs": [
    {
     "data": {
      "text/plain": [
       "bs4.BeautifulSoup"
      ]
     },
     "execution_count": 4,
     "metadata": {},
     "output_type": "execute_result"
    }
   ],
   "source": [
    "webpage = requests.get('https://www.daangn.com/hot_articles')\n",
    "# print(webpage.text)\n",
    "\n",
    "# parser를 이용해서 html 문서를 불러온다.\n",
    "soup = BeautifulSoup(webpage.content, 'html.parser')\n",
    "# print(soup)\n",
    "type(soup)"
   ]
  },
  {
   "cell_type": "markdown",
   "metadata": {},
   "source": [
    "## 태그 탐색하기"
   ]
  },
  {
   "cell_type": "code",
   "execution_count": 5,
   "metadata": {},
   "outputs": [],
   "source": [
    "# 페이지에서 처음 만나는 태그를 가져온다.\n",
    "# print(soup.p)\n",
    "\n",
    "# text만 뽑아서 출력\n",
    "# print(soup.p.string)\n",
    "\n",
    "# print(soup.h1)\n",
    "\n",
    "# 해당 태그의 하위 태그들을 출력한다.\n",
    "# for child in soup.h1.children :\n",
    "#     print(child)\n",
    "    \n",
    "# for child in soup.div.children :\n",
    "#     print(child)"
   ]
  },
  {
   "cell_type": "markdown",
   "metadata": {},
   "source": [
    "find_all : 원하는 부분을 모두 가져올 때 사용하는 함수"
   ]
  },
  {
   "cell_type": "code",
   "execution_count": 6,
   "metadata": {},
   "outputs": [],
   "source": [
    "# print(soup.find_all('h2'))\n",
    "# print(type(soup.find_all('h2')))"
   ]
  },
  {
   "cell_type": "markdown",
   "metadata": {},
   "source": [
    "정규식을 활용할 수 있다. ol, ul태그를 포함하는 값을 리스트로 읽어오고 싶다면?"
   ]
  },
  {
   "cell_type": "code",
   "execution_count": 7,
   "metadata": {},
   "outputs": [],
   "source": [
    "import re"
   ]
  },
  {
   "cell_type": "code",
   "execution_count": 8,
   "metadata": {},
   "outputs": [
    {
     "name": "stdout",
     "output_type": "stream",
     "text": [
      "LG 제습기\n",
      "프뢰벨 말하기(책+교구+CD)\n",
      "캠핑용의자판매합니다\n",
      "삼천리 칼라스 MTB 주니어 자전거 초등 고학년 타기 탁 좋아요~산악자전거 24인치 알루미늄 프레임 21단변속 가능\n",
      "이케아 트롤리 \n",
      "에어컨 냉장고 김치냉장고외\n",
      "접이식 커플 자전거\n",
      "제습기 팝니다.\n",
      "참치,잼,호떡...\n",
      "철제선반 팔아여\n"
     ]
    }
   ],
   "source": [
    "# <ol>태그와 <ul>태그를 의미\n",
    "soup.find_all(re.compile('[ou]l'))\n",
    "\n",
    "# <h1> ~ <h9>를 의미\n",
    "soup.find_all(re.compile('h[1-9]'))\n",
    "\n",
    "# 리스트를 사용하면 두가지 이상의 태그를 동시에 가져올 수 있다.\n",
    "soup.find_all(['h1', 'p'])\n",
    "\n",
    "# class 속성으로 데이터 가져오기\n",
    "soup.find_all(attrs = {'class' : 'card-title'})\n",
    "\n",
    "# class 속성으로 데이터 가져오기2\n",
    "soup.select('.card-title')\n",
    "\n",
    "# id 속성으로 데이터 가져오기\n",
    "soup.select('#hot-articles-navigation')\n",
    "\n",
    "# 태그 안의 텍스트 가져오기\n",
    "for idx in range(10) :\n",
    "    print(soup.select('.card-title')[idx].string)"
   ]
  },
  {
   "cell_type": "code",
   "execution_count": 9,
   "metadata": {},
   "outputs": [],
   "source": [
    "# 한글 폰트 문제 해결\n",
    "import platform\n",
    "\n",
    "from matplotlib import font_manager, rc\n",
    "# plt.rcParams['axes.unicode_minus'] = False\n",
    "\n",
    "if platform.system() == 'Darwin':\n",
    "    rc('font', family='AppleGothic')\n",
    "elif platform.system() == 'Windows':\n",
    "    path = \"c:/Windows/Fonts/malgun.ttf\"\n",
    "    font_name = font_manager.FontProperties(fname=path).get_name()\n",
    "    rc('font', family=font_name)\n",
    "else:\n",
    "    print('Unknown system... sorry~~~~') "
   ]
  },
  {
   "cell_type": "code",
   "execution_count": 10,
   "metadata": {},
   "outputs": [],
   "source": [
    "from urllib.request import urlopen\n",
    "from bs4 import BeautifulSoup"
   ]
  },
  {
   "cell_type": "code",
   "execution_count": 11,
   "metadata": {},
   "outputs": [
    {
     "name": "stdout",
     "output_type": "stream",
     "text": [
      "<h1 id=\"fixed-bar-logo-title\">\n",
      "<a href=\"https://www.daangn.com/\">\n",
      "<span class=\"sr-only\">당근마켓</span>\n",
      "<img alt=\"당근마켓\" class=\"fixed-logo\" src=\"https://d1unjqcospf8gs.cloudfront.net/assets/home/base/header/logo-basic-24b18257ac4ef693c02233bf21e9cb7ecbf43ebd8d5b40c24d99e14094a44c81.svg\"/>\n",
      "</a> </h1>\n"
     ]
    }
   ],
   "source": [
    "html = urlopen('https://www.daangn.com/hot_articles')\n",
    "\n",
    "# urlopen 으로 url을 불러왔을 경우 html.read() 사용\n",
    "soup = BeautifulSoup(html.read(), 'html.parser')\n",
    "\n",
    "print(soup.h1)"
   ]
  },
  {
   "cell_type": "code",
   "execution_count": 12,
   "metadata": {},
   "outputs": [],
   "source": [
    "from urllib.error import HTTPError\n",
    "from urllib.error import URLError"
   ]
  },
  {
   "cell_type": "code",
   "execution_count": 14,
   "metadata": {},
   "outputs": [],
   "source": [
    "# url 불러올 때 예외처리\n",
    "try :\n",
    "    html = urlopen('https://www.daangn.com/hot_articles')\n",
    "except HTTPError as he :\n",
    "    print('http error')\n",
    "except URLError as ue :\n",
    "    print('url error')\n",
    "else :\n",
    "    soup = BeautifulSoup(html.read(), 'html.parser')\n",
    "#     print(soup)"
   ]
  },
  {
   "cell_type": "code",
   "execution_count": 15,
   "metadata": {},
   "outputs": [],
   "source": [
    "try :\n",
    "    html = urlopen('http://www.pythonscraping.com/pages/page3.html')\n",
    "except HTTPError as he :\n",
    "    print('http error')\n",
    "except URLError as ue :\n",
    "    print('url error')\n",
    "else :\n",
    "    soup = BeautifulSoup(html.read(), 'html.parser')"
   ]
  },
  {
   "cell_type": "code",
   "execution_count": 16,
   "metadata": {},
   "outputs": [],
   "source": [
    "# for child in soup.find('table', {'id' : 'giftList'}).children :\n",
    "#     print(child)\n",
    "\n",
    "# 형제 태그 찾기\n",
    "# for child in soup.find('table', {'id' : 'giftList'}).tr.next_siblings :\n",
    "#     print(child)"
   ]
  },
  {
   "cell_type": "markdown",
   "metadata": {},
   "source": [
    "# 실습3"
   ]
  },
  {
   "cell_type": "code",
   "execution_count": 17,
   "metadata": {},
   "outputs": [
    {
     "data": {
      "text/html": [
       "<div>\n",
       "<style scoped>\n",
       "    .dataframe tbody tr th:only-of-type {\n",
       "        vertical-align: middle;\n",
       "    }\n",
       "\n",
       "    .dataframe tbody tr th {\n",
       "        vertical-align: top;\n",
       "    }\n",
       "\n",
       "    .dataframe thead th {\n",
       "        text-align: right;\n",
       "    }\n",
       "</style>\n",
       "<table border=\"1\" class=\"dataframe\">\n",
       "  <thead>\n",
       "    <tr style=\"text-align: right;\">\n",
       "      <th></th>\n",
       "      <th>title</th>\n",
       "      <th>description</th>\n",
       "      <th>cost</th>\n",
       "      <th>image</th>\n",
       "    </tr>\n",
       "  </thead>\n",
       "  <tbody>\n",
       "    <tr>\n",
       "      <th>0</th>\n",
       "      <td>Vegetable Basket</td>\n",
       "      <td>This vegetable basket is the perfect gift for ...</td>\n",
       "      <td>$15.00</td>\n",
       "      <td>../img/gifts/img1.jpg</td>\n",
       "    </tr>\n",
       "    <tr>\n",
       "      <th>1</th>\n",
       "      <td>Russian Nesting Dolls</td>\n",
       "      <td>Hand-painted by trained monkeys, these exquisi...</td>\n",
       "      <td>$10,000.52</td>\n",
       "      <td>../img/gifts/img2.jpg</td>\n",
       "    </tr>\n",
       "    <tr>\n",
       "      <th>2</th>\n",
       "      <td>Fish Painting</td>\n",
       "      <td>If something seems fishy about this painting, ...</td>\n",
       "      <td>$10,005.00</td>\n",
       "      <td>../img/gifts/img3.jpg</td>\n",
       "    </tr>\n",
       "    <tr>\n",
       "      <th>3</th>\n",
       "      <td>Dead Parrot</td>\n",
       "      <td>This is an ex-parrot! Or maybe he's only resting?</td>\n",
       "      <td>$0.50</td>\n",
       "      <td>../img/gifts/img4.jpg</td>\n",
       "    </tr>\n",
       "    <tr>\n",
       "      <th>4</th>\n",
       "      <td>Mystery Box</td>\n",
       "      <td>If you love suprises, this mystery box is for ...</td>\n",
       "      <td>$1.50</td>\n",
       "      <td>../img/gifts/img6.jpg</td>\n",
       "    </tr>\n",
       "  </tbody>\n",
       "</table>\n",
       "</div>"
      ],
      "text/plain": [
       "                   title                                        description  \\\n",
       "0       Vegetable Basket  This vegetable basket is the perfect gift for ...   \n",
       "1  Russian Nesting Dolls  Hand-painted by trained monkeys, these exquisi...   \n",
       "2          Fish Painting  If something seems fishy about this painting, ...   \n",
       "3            Dead Parrot  This is an ex-parrot! Or maybe he's only resting?   \n",
       "4            Mystery Box  If you love suprises, this mystery box is for ...   \n",
       "\n",
       "         cost                  image  \n",
       "0      $15.00  ../img/gifts/img1.jpg  \n",
       "1  $10,000.52  ../img/gifts/img2.jpg  \n",
       "2  $10,005.00  ../img/gifts/img3.jpg  \n",
       "3       $0.50  ../img/gifts/img4.jpg  \n",
       "4       $1.50  ../img/gifts/img6.jpg  "
      ]
     },
     "execution_count": 17,
     "metadata": {},
     "output_type": "execute_result"
    }
   ],
   "source": [
    "table = soup.find('table', {'id' : 'giftList'})\n",
    "# table\n",
    "\n",
    "trs = table.find_all('tr')\n",
    "# trs\n",
    "\n",
    "# scraping_exec[03]\n",
    "# <table> 태그의 데이터들을 가져와서 csv 파일 형식으로 만들기\n",
    "import string\n",
    "import pandas as pd\n",
    "\n",
    "title = []\n",
    "desc = []\n",
    "cost = []\n",
    "img = []\n",
    "\n",
    "cnt = 0\n",
    "\n",
    "for tr in trs :\n",
    "    if (tr.find('td')) :\n",
    "        \n",
    "        tds = tr.find_all('td')\n",
    "        \n",
    "        title.append(tds[0].text.strip('\\n'))\n",
    "        desc.append(tds[1].text.strip('\\n'))\n",
    "        cost.append(tds[2].text.strip('\\n'))\n",
    "            \n",
    "        for td in tds :\n",
    "            if td.find('img') :\n",
    "                i = td.find('img')\n",
    "                src = i['src']\n",
    "                img.append(src)\n",
    "                img[cnt] = img[cnt].strip('\\n')\n",
    "\n",
    "        cnt += 1\n",
    "\n",
    "        \n",
    "gift_df = pd.DataFrame({\n",
    "    'title' : title,\n",
    "    'description' : desc,\n",
    "    'cost' : cost,\n",
    "    'image' : img\n",
    "})\n",
    "\n",
    "gift_df.to_csv('gift_df.csv', mode = 'w', encoding = 'utf-8')\n",
    "gift_df"
   ]
  },
  {
   "cell_type": "code",
   "execution_count": 18,
   "metadata": {},
   "outputs": [],
   "source": [
    "# 정답\n",
    "test_data = []\n",
    "\n",
    "title = 0\n",
    "desc = 0\n",
    "cost = 0\n",
    "img_src = 0\n",
    "\n",
    "for tr in table.find_all('tr') :\n",
    "    if tr.find('td') :\n",
    "        tds = tr.find_all('td')\n",
    "\n",
    "        for td in tds :\n",
    "            title = tds[0].text.strip('\\n')\n",
    "            desc = tds[1].text.strip('\\n')\n",
    "            cost = tds[2].text.strip('\\n')\n",
    "            img_src = tds[3].find('img')['src']\n",
    "\n",
    "        test_data.append([title, desc, cost, img_src])\n",
    "\n",
    "with open('gift_df.csv','w',encoding = 'utf-8') as file:\n",
    "    for d in test_data:\n",
    "        file.write('{},{},{},{}\\n'.format(d[0],d[1],d[2],d[3]))"
   ]
  },
  {
   "cell_type": "markdown",
   "metadata": {},
   "source": [
    "## 데이터를 가져오는 방법"
   ]
  },
  {
   "cell_type": "code",
   "execution_count": 19,
   "metadata": {},
   "outputs": [],
   "source": [
    "try :\n",
    "    html = urlopen('https://forecast.weather.gov/MapClick.php?lat=37.7772&lon=-122.4168#.X21Im2gzaUm')\n",
    "except HTTPError as he :\n",
    "    print('http error')\n",
    "except URLError as ue :\n",
    "    print('url error')\n",
    "else :\n",
    "    soup = BeautifulSoup(html.read(), 'html.parser')"
   ]
  },
  {
   "cell_type": "code",
   "execution_count": 21,
   "metadata": {},
   "outputs": [],
   "source": [
    "# select 를 하면 list에 담겨서 반환\n",
    "sevenDays = soup.select('#seven-day-forecast')\n",
    "\n",
    "# tag 만 반환\n",
    "sevenDays = soup.find(id = 'seven-day-forecast')\n",
    "# sevenDays\n",
    "\n",
    "# find로 class 속성을 찾을때는 뒤에 _를 넣어야 한다.\n",
    "forecast = sevenDays.find_all(class_ = 'forecast-tombstone')\n",
    "# forecast\n",
    "forecast[0]\n",
    "\n",
    "period = forecast[0].find(class_ = 'period-name').get_text()\n",
    "# period\n",
    "\n",
    "short_desc = forecast[0].find(class_ = 'short-desc').get_text()\n",
    "# short_desc\n",
    "\n",
    "img = forecast[0].find('img')\n",
    "img_src = img['src']\n",
    "# img_src"
   ]
  },
  {
   "cell_type": "markdown",
   "metadata": {},
   "source": [
    "## 필요한 기상정보 전체를 가져오기"
   ]
  },
  {
   "cell_type": "code",
   "execution_count": 29,
   "metadata": {},
   "outputs": [],
   "source": [
    "sevenDays = soup.find(id = 'seven-day-forecast')\n",
    "# sevenDays"
   ]
  },
  {
   "cell_type": "code",
   "execution_count": 27,
   "metadata": {},
   "outputs": [
    {
     "data": {
      "text/plain": [
       "['Overnight',\n",
       " 'Tuesday',\n",
       " 'TuesdayNight',\n",
       " 'Wednesday',\n",
       " 'WednesdayNight',\n",
       " 'Thursday',\n",
       " 'ThursdayNight',\n",
       " 'Friday',\n",
       " 'FridayNight']"
      ]
     },
     "execution_count": 27,
     "metadata": {},
     "output_type": "execute_result"
    }
   ],
   "source": [
    "periods = sevenDays.select('.tombstone-container .period-name')\n",
    "# periods\n",
    "\n",
    "periods_text = [text.get_text() for text in periods]\n",
    "periods_text"
   ]
  },
  {
   "cell_type": "code",
   "execution_count": 26,
   "metadata": {},
   "outputs": [
    {
     "data": {
      "text/plain": [
       "['Mostly Cloudy',\n",
       " 'DecreasingClouds',\n",
       " 'IncreasingClouds',\n",
       " 'DecreasingClouds',\n",
       " 'Mostly Cloudy',\n",
       " 'Mostly Cloudy',\n",
       " 'Chance Rain',\n",
       " 'Chance Rain',\n",
       " 'Slight ChanceRain']"
      ]
     },
     "execution_count": 26,
     "metadata": {},
     "output_type": "execute_result"
    }
   ],
   "source": [
    "descs = sevenDays.select('.tombstone-container .short-desc')\n",
    "# descs\n",
    "\n",
    "descs_text = [text.get_text() for text in descs]\n",
    "descs_text"
   ]
  },
  {
   "cell_type": "code",
   "execution_count": 35,
   "metadata": {},
   "outputs": [
    {
     "data": {
      "text/plain": [
       "['Low: 57 °F',\n",
       " 'High: 70 °F',\n",
       " 'Low: 55 °F',\n",
       " 'High: 66 °F',\n",
       " 'Low: 57 °F',\n",
       " 'High: 68 °F',\n",
       " 'Low: 59 °F',\n",
       " 'High: 68 °F',\n",
       " 'Low: 58 °F']"
      ]
     },
     "execution_count": 35,
     "metadata": {},
     "output_type": "execute_result"
    }
   ],
   "source": [
    "temp_text = [text.get_text() for text in sevenDays.select('.tombstone-container .temp')]\n",
    "temp_text"
   ]
  },
  {
   "cell_type": "code",
   "execution_count": 36,
   "metadata": {},
   "outputs": [
    {
     "name": "stdout",
     "output_type": "stream",
     "text": [
      "9\n",
      "9\n",
      "9\n"
     ]
    }
   ],
   "source": [
    "print(len(periods_text))\n",
    "print(len(descs_text))\n",
    "print(len(temp_text))\n",
    "# temp_text.append('High: 77 °F')# 개수 맞춰주기"
   ]
  },
  {
   "cell_type": "code",
   "execution_count": 37,
   "metadata": {},
   "outputs": [],
   "source": [
    "import pandas as pd"
   ]
  },
  {
   "cell_type": "code",
   "execution_count": 40,
   "metadata": {},
   "outputs": [
    {
     "data": {
      "text/html": [
       "<div>\n",
       "<style scoped>\n",
       "    .dataframe tbody tr th:only-of-type {\n",
       "        vertical-align: middle;\n",
       "    }\n",
       "\n",
       "    .dataframe tbody tr th {\n",
       "        vertical-align: top;\n",
       "    }\n",
       "\n",
       "    .dataframe thead th {\n",
       "        text-align: right;\n",
       "    }\n",
       "</style>\n",
       "<table border=\"1\" class=\"dataframe\">\n",
       "  <thead>\n",
       "    <tr style=\"text-align: right;\">\n",
       "      <th></th>\n",
       "      <th>period</th>\n",
       "      <th>desc</th>\n",
       "      <th>temp</th>\n",
       "    </tr>\n",
       "  </thead>\n",
       "  <tbody>\n",
       "    <tr>\n",
       "      <th>0</th>\n",
       "      <td>Overnight</td>\n",
       "      <td>Mostly Cloudy</td>\n",
       "      <td>Low: 57 °F</td>\n",
       "    </tr>\n",
       "    <tr>\n",
       "      <th>1</th>\n",
       "      <td>Tuesday</td>\n",
       "      <td>DecreasingClouds</td>\n",
       "      <td>High: 70 °F</td>\n",
       "    </tr>\n",
       "    <tr>\n",
       "      <th>2</th>\n",
       "      <td>TuesdayNight</td>\n",
       "      <td>IncreasingClouds</td>\n",
       "      <td>Low: 55 °F</td>\n",
       "    </tr>\n",
       "    <tr>\n",
       "      <th>3</th>\n",
       "      <td>Wednesday</td>\n",
       "      <td>DecreasingClouds</td>\n",
       "      <td>High: 66 °F</td>\n",
       "    </tr>\n",
       "    <tr>\n",
       "      <th>4</th>\n",
       "      <td>WednesdayNight</td>\n",
       "      <td>Mostly Cloudy</td>\n",
       "      <td>Low: 57 °F</td>\n",
       "    </tr>\n",
       "    <tr>\n",
       "      <th>5</th>\n",
       "      <td>Thursday</td>\n",
       "      <td>Mostly Cloudy</td>\n",
       "      <td>High: 68 °F</td>\n",
       "    </tr>\n",
       "    <tr>\n",
       "      <th>6</th>\n",
       "      <td>ThursdayNight</td>\n",
       "      <td>Chance Rain</td>\n",
       "      <td>Low: 59 °F</td>\n",
       "    </tr>\n",
       "    <tr>\n",
       "      <th>7</th>\n",
       "      <td>Friday</td>\n",
       "      <td>Chance Rain</td>\n",
       "      <td>High: 68 °F</td>\n",
       "    </tr>\n",
       "    <tr>\n",
       "      <th>8</th>\n",
       "      <td>FridayNight</td>\n",
       "      <td>Slight ChanceRain</td>\n",
       "      <td>Low: 58 °F</td>\n",
       "    </tr>\n",
       "  </tbody>\n",
       "</table>\n",
       "</div>"
      ],
      "text/plain": [
       "           period               desc         temp\n",
       "0       Overnight      Mostly Cloudy   Low: 57 °F\n",
       "1         Tuesday   DecreasingClouds  High: 70 °F\n",
       "2    TuesdayNight   IncreasingClouds   Low: 55 °F\n",
       "3       Wednesday   DecreasingClouds  High: 66 °F\n",
       "4  WednesdayNight      Mostly Cloudy   Low: 57 °F\n",
       "5        Thursday      Mostly Cloudy  High: 68 °F\n",
       "6   ThursdayNight        Chance Rain   Low: 59 °F\n",
       "7          Friday        Chance Rain  High: 68 °F\n",
       "8     FridayNight  Slight ChanceRain   Low: 58 °F"
      ]
     },
     "execution_count": 40,
     "metadata": {},
     "output_type": "execute_result"
    }
   ],
   "source": [
    "# pandas의 데이터프레임으로 변환\n",
    "forecast_df = pd.DataFrame({\n",
    "    'period' : periods_text,\n",
    "    'desc' : descs_text,\n",
    "    'temp' : temp_text\n",
    "})\n",
    "\n",
    "forecast_df.to_csv('forecast_df.csv', mode = 'w', encoding = 'utf-8')\n",
    "forecast_df"
   ]
  }
 ],
 "metadata": {
  "kernelspec": {
   "display_name": "Python 3",
   "language": "python",
   "name": "python3"
  },
  "language_info": {
   "codemirror_mode": {
    "name": "ipython",
    "version": 3
   },
   "file_extension": ".py",
   "mimetype": "text/x-python",
   "name": "python",
   "nbconvert_exporter": "python",
   "pygments_lexer": "ipython3",
   "version": "3.6.5"
  }
 },
 "nbformat": 4,
 "nbformat_minor": 2
}
